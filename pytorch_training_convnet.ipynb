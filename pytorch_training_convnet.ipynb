{
 "cells": [
  {
   "cell_type": "code",
   "execution_count": 20,
   "metadata": {},
   "outputs": [
    {
     "name": "stderr",
     "output_type": "stream",
     "text": [
      "  1%|▍                                                                             | 67/12501 [00:00<00:18, 663.74it/s]"
     ]
    },
    {
     "name": "stdout",
     "output_type": "stream",
     "text": [
      "PetImages/Cat\n"
     ]
    },
    {
     "name": "stderr",
     "output_type": "stream",
     "text": [
      "100%|███████████████████████████████████████████████████████████████████████████| 12501/12501 [00:19<00:00, 646.68it/s]\n",
      "  0%|▏                                                                             | 35/12501 [00:00<00:35, 346.73it/s]"
     ]
    },
    {
     "name": "stdout",
     "output_type": "stream",
     "text": [
      "PetImages/Dog\n"
     ]
    },
    {
     "name": "stderr",
     "output_type": "stream",
     "text": [
      "100%|███████████████████████████████████████████████████████████████████████████| 12501/12501 [00:25<00:00, 486.06it/s]\n"
     ]
    },
    {
     "name": "stdout",
     "output_type": "stream",
     "text": [
      "Cats: 12476\n",
      "Dogs: 12470\n",
      "24946\n"
     ]
    }
   ],
   "source": [
    "import os\n",
    "import cv2\n",
    "import numpy as np\n",
    "from tqdm import tqdm\n",
    "\n",
    "REBUILD_DATA = True\n",
    "\n",
    "class DogsVSCats():\n",
    "    IMG_SIZE = 50\n",
    "    CATS = \"PetImages/Cat\"\n",
    "    DOGS = \"PetImages/Dog\"\n",
    "    TESTING = \"PetImages/Testing\"\n",
    "    LABELS = {CATS: 0, DOGS: 1}\n",
    "    training_data = []\n",
    "    catcount = 0\n",
    "    dogcount = 0\n",
    "    \n",
    "    def make_training_data(self):\n",
    "        for label in self.LABELS:\n",
    "            print(label)\n",
    "            for f in tqdm(os.listdir(label)):\n",
    "                if \"jpg\" in f:\n",
    "                    try:\n",
    "                        path = os.path.join(label, f)\n",
    "                        img = cv2.imread(path, cv2.IMREAD_GRAYSCALE)\n",
    "                        img = cv2.resize(img, (self.IMG_SIZE, self.IMG_SIZE))\n",
    "                        self.training_data.append([np.array(img), np.eye(2)[self.LABELS[label]]])\n",
    "\n",
    "                        if label == self.CATS:\n",
    "                            self.catcount += 1\n",
    "                        elif label == self.DOGS:\n",
    "                            self.dogcount += 1\n",
    "                    except Exception as e:\n",
    "                        pass\n",
    "        np.random.shuffle(self.training_data)\n",
    "        np.save(\"training_data.npy\", self.training_data)\n",
    "        print(\"Cats:\",dogsvcats.catcount)\n",
    "        print(\"Dogs:\",dogsvcats.dogcount)\n",
    "\n",
    "if REBUILD_DATA:\n",
    "    dogsvcats = DogsVSCats()\n",
    "    dogsvcats.make_training_data()\n",
    "                        \n",
    "training_data = np.load(\"training_data.npy\", allow_pickle=True)\n",
    "print(len(training_data))"
   ]
  },
  {
   "cell_type": "code",
   "execution_count": 21,
   "metadata": {},
   "outputs": [],
   "source": [
    "import torch\n",
    "import torch.nn as nn\n",
    "import torch.nn.functional as F"
   ]
  },
  {
   "cell_type": "code",
   "execution_count": 22,
   "metadata": {},
   "outputs": [
    {
     "name": "stdout",
     "output_type": "stream",
     "text": [
      "torch.Size([128, 2, 2])\n"
     ]
    }
   ],
   "source": [
    "class Net(nn.Module):\n",
    "    def __init__(self):\n",
    "        super().__init__() # just run the init of parent class (nn.Module)\n",
    "        self.conv1 = nn.Conv2d(1, 32, 5) # input is 1 image, 32 output channels, 5x5 kernel / window\n",
    "        self.conv2 = nn.Conv2d(32, 64, 5) # input is 32, bc the first layer output 32. Then we say the output will be 64 channels, 5x5 conv\n",
    "        self.conv3 = nn.Conv2d(64, 128, 5)\n",
    "        \n",
    "        x = torch.randn(50,50).view(-1,1,50,50)\n",
    "        self._to_linear = None\n",
    "        self.convs(x)\n",
    "        \n",
    "        self.fc1 = nn.Linear(self._to_linear, 512) \n",
    "        self.fc2 = nn.Linear(512, 2) \n",
    "        \n",
    "    def convs(self, x):\n",
    "        # max pooling over 2x2\n",
    "        x = F.max_pool2d(F.relu(self.conv1(x)), (2, 2))\n",
    "        x = F.max_pool2d(F.relu(self.conv2(x)), (2, 2))\n",
    "        x = F.max_pool2d(F.relu(self.conv3(x)), (2, 2))  #going through 3 layers\n",
    "\n",
    "        print(x[0].shape)\n",
    "        if self._to_linear is None:\n",
    "            self._to_linear = x[0].shape[0]*x[0].shape[1]*x[0].shape[2]\n",
    "        return x\n",
    "    \n",
    "    def forward(self, x):\n",
    "        x = self.convs(x)\n",
    "        x = x.view(-1, self._to_linear)  # .view is reshape ... this flattens X before \n",
    "        x = F.relu(self.fc1(x))\n",
    "        x = self.fc2(x) # bc this is our output layer. No activation here.\n",
    "        return F.softmax(x, dim=1)\n",
    "        #return x\n",
    "\n",
    "\n",
    "net = Net()\n",
    "#print(net)"
   ]
  },
  {
   "cell_type": "code",
   "execution_count": 23,
   "metadata": {},
   "outputs": [
    {
     "name": "stdout",
     "output_type": "stream",
     "text": [
      "2494\n"
     ]
    }
   ],
   "source": [
    "import torch.optim as optim\n",
    "\n",
    "optimizer = optim.Adam(net.parameters(), lr=0.001)\n",
    "loss_function = nn.MSELoss()\n",
    "\n",
    "X = torch.Tensor([i[0] for i in training_data]).view(-1,50,50)\n",
    "X = X/255.0\n",
    "y = torch.Tensor([i[1] for i in training_data])\n",
    "\n",
    "VAL_PCT = 0.1  # lets reserve 10% of our data for validation\n",
    "val_size = int(len(X)*VAL_PCT)\n",
    "print(val_size)\n",
    "\n"
   ]
  },
  {
   "cell_type": "code",
   "execution_count": 24,
   "metadata": {},
   "outputs": [
    {
     "name": "stdout",
     "output_type": "stream",
     "text": [
      "22452\n",
      "2494\n"
     ]
    }
   ],
   "source": [
    "train_X = X[:-val_size]\n",
    "train_y = y[:-val_size]\n",
    "\n",
    "test_X = X[-val_size:]\n",
    "test_y = y[-val_size:]\n",
    "\n",
    "print(len(train_X))\n",
    "print(len(test_X))"
   ]
  },
  {
   "cell_type": "code",
   "execution_count": 31,
   "metadata": {},
   "outputs": [
    {
     "name": "stderr",
     "output_type": "stream",
     "text": [
      "  0%|                                                                                          | 0/225 [00:00<?, ?it/s]"
     ]
    },
    {
     "name": "stdout",
     "output_type": "stream",
     "text": [
      "torch.Size([128, 2, 2])\n"
     ]
    },
    {
     "name": "stderr",
     "output_type": "stream",
     "text": [
      "  0%|▎                                                                                 | 1/225 [00:01<06:57,  1.86s/it]"
     ]
    },
    {
     "name": "stdout",
     "output_type": "stream",
     "text": [
      "torch.Size([128, 2, 2])\n"
     ]
    },
    {
     "name": "stderr",
     "output_type": "stream",
     "text": [
      "  1%|▋                                                                                 | 2/225 [00:02<05:28,  1.47s/it]"
     ]
    },
    {
     "name": "stdout",
     "output_type": "stream",
     "text": [
      "torch.Size([128, 2, 2])\n"
     ]
    },
    {
     "name": "stderr",
     "output_type": "stream",
     "text": [
      "  1%|█                                                                                 | 3/225 [00:03<04:47,  1.30s/it]"
     ]
    },
    {
     "name": "stdout",
     "output_type": "stream",
     "text": [
      "torch.Size([128, 2, 2])\n"
     ]
    },
    {
     "name": "stderr",
     "output_type": "stream",
     "text": [
      "  2%|█▍                                                                                | 4/225 [00:04<04:29,  1.22s/it]"
     ]
    },
    {
     "name": "stdout",
     "output_type": "stream",
     "text": [
      "torch.Size([128, 2, 2])\n"
     ]
    },
    {
     "name": "stderr",
     "output_type": "stream",
     "text": [
      "  2%|█▊                                                                                | 5/225 [00:05<04:03,  1.11s/it]"
     ]
    },
    {
     "name": "stdout",
     "output_type": "stream",
     "text": [
      "torch.Size([128, 2, 2])\n"
     ]
    },
    {
     "name": "stderr",
     "output_type": "stream",
     "text": [
      "  3%|██▏                                                                               | 6/225 [00:06<03:44,  1.02s/it]"
     ]
    },
    {
     "name": "stdout",
     "output_type": "stream",
     "text": [
      "torch.Size([128, 2, 2])\n"
     ]
    },
    {
     "name": "stderr",
     "output_type": "stream",
     "text": [
      "  3%|██▌                                                                               | 7/225 [00:06<03:37,  1.00it/s]"
     ]
    },
    {
     "name": "stdout",
     "output_type": "stream",
     "text": [
      "torch.Size([128, 2, 2])\n"
     ]
    },
    {
     "name": "stderr",
     "output_type": "stream",
     "text": [
      "  4%|██▉                                                                               | 8/225 [00:07<03:23,  1.06it/s]"
     ]
    },
    {
     "name": "stdout",
     "output_type": "stream",
     "text": [
      "torch.Size([128, 2, 2])\n"
     ]
    },
    {
     "name": "stderr",
     "output_type": "stream",
     "text": [
      "  4%|███▎                                                                              | 9/225 [00:08<03:16,  1.10it/s]"
     ]
    },
    {
     "name": "stdout",
     "output_type": "stream",
     "text": [
      "torch.Size([128, 2, 2])\n"
     ]
    },
    {
     "name": "stderr",
     "output_type": "stream",
     "text": [
      "  4%|███▌                                                                             | 10/225 [00:09<03:15,  1.10it/s]"
     ]
    },
    {
     "name": "stdout",
     "output_type": "stream",
     "text": [
      "torch.Size([128, 2, 2])\n"
     ]
    },
    {
     "name": "stderr",
     "output_type": "stream",
     "text": [
      "  5%|███▉                                                                             | 11/225 [00:10<03:08,  1.14it/s]"
     ]
    },
    {
     "name": "stdout",
     "output_type": "stream",
     "text": [
      "torch.Size([128, 2, 2])\n"
     ]
    },
    {
     "name": "stderr",
     "output_type": "stream",
     "text": [
      "  5%|████▎                                                                            | 12/225 [00:11<03:08,  1.13it/s]"
     ]
    },
    {
     "name": "stdout",
     "output_type": "stream",
     "text": [
      "torch.Size([128, 2, 2])\n"
     ]
    },
    {
     "name": "stderr",
     "output_type": "stream",
     "text": [
      "  6%|████▋                                                                            | 13/225 [00:13<04:13,  1.19s/it]"
     ]
    },
    {
     "name": "stdout",
     "output_type": "stream",
     "text": [
      "torch.Size([128, 2, 2])\n"
     ]
    },
    {
     "name": "stderr",
     "output_type": "stream",
     "text": [
      "  6%|█████                                                                            | 14/225 [00:14<04:21,  1.24s/it]"
     ]
    },
    {
     "name": "stdout",
     "output_type": "stream",
     "text": [
      "torch.Size([128, 2, 2])\n"
     ]
    },
    {
     "name": "stderr",
     "output_type": "stream",
     "text": [
      "  7%|█████▍                                                                           | 15/225 [00:15<03:55,  1.12s/it]"
     ]
    },
    {
     "name": "stdout",
     "output_type": "stream",
     "text": [
      "torch.Size([128, 2, 2])\n"
     ]
    },
    {
     "name": "stderr",
     "output_type": "stream",
     "text": [
      "  7%|█████▊                                                                           | 16/225 [00:16<03:36,  1.04s/it]"
     ]
    },
    {
     "name": "stdout",
     "output_type": "stream",
     "text": [
      "torch.Size([128, 2, 2])\n"
     ]
    },
    {
     "name": "stderr",
     "output_type": "stream",
     "text": [
      "  8%|██████                                                                           | 17/225 [00:17<03:23,  1.02it/s]"
     ]
    },
    {
     "name": "stdout",
     "output_type": "stream",
     "text": [
      "torch.Size([128, 2, 2])\n"
     ]
    },
    {
     "name": "stderr",
     "output_type": "stream",
     "text": [
      "  8%|██████▍                                                                          | 18/225 [00:17<03:21,  1.03it/s]"
     ]
    },
    {
     "name": "stdout",
     "output_type": "stream",
     "text": [
      "torch.Size([128, 2, 2])\n"
     ]
    },
    {
     "name": "stderr",
     "output_type": "stream",
     "text": [
      "  8%|██████▊                                                                          | 19/225 [00:19<04:13,  1.23s/it]"
     ]
    },
    {
     "name": "stdout",
     "output_type": "stream",
     "text": [
      "torch.Size([128, 2, 2])\n"
     ]
    },
    {
     "name": "stderr",
     "output_type": "stream",
     "text": [
      "  9%|███████▏                                                                         | 20/225 [00:20<03:44,  1.10s/it]"
     ]
    },
    {
     "name": "stdout",
     "output_type": "stream",
     "text": [
      "torch.Size([128, 2, 2])\n"
     ]
    },
    {
     "name": "stderr",
     "output_type": "stream",
     "text": [
      "  9%|███████▌                                                                         | 21/225 [00:21<03:27,  1.02s/it]"
     ]
    },
    {
     "name": "stdout",
     "output_type": "stream",
     "text": [
      "torch.Size([128, 2, 2])\n"
     ]
    },
    {
     "name": "stderr",
     "output_type": "stream",
     "text": [
      " 10%|███████▉                                                                         | 22/225 [00:22<03:13,  1.05it/s]"
     ]
    },
    {
     "name": "stdout",
     "output_type": "stream",
     "text": [
      "torch.Size([128, 2, 2])\n"
     ]
    },
    {
     "name": "stderr",
     "output_type": "stream",
     "text": [
      " 10%|████████▎                                                                        | 23/225 [00:23<03:24,  1.01s/it]"
     ]
    },
    {
     "name": "stdout",
     "output_type": "stream",
     "text": [
      "torch.Size([128, 2, 2])\n"
     ]
    },
    {
     "name": "stderr",
     "output_type": "stream",
     "text": [
      " 11%|████████▋                                                                        | 24/225 [00:25<04:01,  1.20s/it]"
     ]
    },
    {
     "name": "stdout",
     "output_type": "stream",
     "text": [
      "torch.Size([128, 2, 2])\n"
     ]
    },
    {
     "name": "stderr",
     "output_type": "stream",
     "text": [
      " 11%|█████████                                                                        | 25/225 [00:25<03:35,  1.08s/it]"
     ]
    },
    {
     "name": "stdout",
     "output_type": "stream",
     "text": [
      "torch.Size([128, 2, 2])\n"
     ]
    },
    {
     "name": "stderr",
     "output_type": "stream",
     "text": [
      " 12%|█████████▎                                                                       | 26/225 [00:26<03:15,  1.02it/s]"
     ]
    },
    {
     "name": "stdout",
     "output_type": "stream",
     "text": [
      "torch.Size([128, 2, 2])\n"
     ]
    },
    {
     "name": "stderr",
     "output_type": "stream",
     "text": [
      " 12%|█████████▋                                                                       | 27/225 [00:27<03:02,  1.08it/s]"
     ]
    },
    {
     "name": "stdout",
     "output_type": "stream",
     "text": [
      "torch.Size([128, 2, 2])\n"
     ]
    },
    {
     "name": "stderr",
     "output_type": "stream",
     "text": [
      " 12%|██████████                                                                       | 28/225 [00:28<03:15,  1.01it/s]"
     ]
    },
    {
     "name": "stdout",
     "output_type": "stream",
     "text": [
      "torch.Size([128, 2, 2])\n"
     ]
    },
    {
     "name": "stderr",
     "output_type": "stream",
     "text": [
      " 13%|██████████▍                                                                      | 29/225 [00:30<03:51,  1.18s/it]"
     ]
    },
    {
     "name": "stdout",
     "output_type": "stream",
     "text": [
      "torch.Size([128, 2, 2])\n"
     ]
    },
    {
     "name": "stderr",
     "output_type": "stream",
     "text": [
      " 13%|██████████▊                                                                      | 30/225 [00:31<03:41,  1.14s/it]"
     ]
    },
    {
     "name": "stdout",
     "output_type": "stream",
     "text": [
      "torch.Size([128, 2, 2])\n"
     ]
    },
    {
     "name": "stderr",
     "output_type": "stream",
     "text": [
      " 14%|███████████▏                                                                     | 31/225 [00:32<03:29,  1.08s/it]"
     ]
    },
    {
     "name": "stdout",
     "output_type": "stream",
     "text": [
      "torch.Size([128, 2, 2])\n"
     ]
    },
    {
     "name": "stderr",
     "output_type": "stream",
     "text": [
      " 14%|███████████▌                                                                     | 32/225 [00:33<03:22,  1.05s/it]"
     ]
    },
    {
     "name": "stdout",
     "output_type": "stream",
     "text": [
      "torch.Size([128, 2, 2])\n"
     ]
    },
    {
     "name": "stderr",
     "output_type": "stream",
     "text": [
      " 15%|███████████▉                                                                     | 33/225 [00:34<03:17,  1.03s/it]"
     ]
    },
    {
     "name": "stdout",
     "output_type": "stream",
     "text": [
      "torch.Size([128, 2, 2])\n"
     ]
    },
    {
     "name": "stderr",
     "output_type": "stream",
     "text": [
      " 15%|████████████▏                                                                    | 34/225 [00:35<03:13,  1.01s/it]"
     ]
    },
    {
     "name": "stdout",
     "output_type": "stream",
     "text": [
      "torch.Size([128, 2, 2])\n"
     ]
    },
    {
     "name": "stderr",
     "output_type": "stream",
     "text": [
      " 16%|████████████▌                                                                    | 35/225 [00:36<03:10,  1.00s/it]"
     ]
    },
    {
     "name": "stdout",
     "output_type": "stream",
     "text": [
      "torch.Size([128, 2, 2])\n"
     ]
    },
    {
     "name": "stderr",
     "output_type": "stream",
     "text": [
      " 16%|████████████▉                                                                    | 36/225 [00:36<03:05,  1.02it/s]"
     ]
    },
    {
     "name": "stdout",
     "output_type": "stream",
     "text": [
      "torch.Size([128, 2, 2])\n"
     ]
    },
    {
     "name": "stderr",
     "output_type": "stream",
     "text": [
      " 16%|█████████████▎                                                                   | 37/225 [00:37<03:00,  1.04it/s]"
     ]
    },
    {
     "name": "stdout",
     "output_type": "stream",
     "text": [
      "torch.Size([128, 2, 2])\n"
     ]
    },
    {
     "name": "stderr",
     "output_type": "stream",
     "text": [
      " 17%|█████████████▋                                                                   | 38/225 [00:38<02:48,  1.11it/s]"
     ]
    },
    {
     "name": "stdout",
     "output_type": "stream",
     "text": [
      "torch.Size([128, 2, 2])\n"
     ]
    },
    {
     "name": "stderr",
     "output_type": "stream",
     "text": [
      " 17%|██████████████                                                                   | 39/225 [00:39<02:40,  1.16it/s]"
     ]
    },
    {
     "name": "stdout",
     "output_type": "stream",
     "text": [
      "torch.Size([128, 2, 2])\n"
     ]
    },
    {
     "name": "stderr",
     "output_type": "stream",
     "text": [
      " 18%|██████████████▍                                                                  | 40/225 [00:40<02:52,  1.07it/s]"
     ]
    },
    {
     "name": "stdout",
     "output_type": "stream",
     "text": [
      "torch.Size([128, 2, 2])\n"
     ]
    },
    {
     "name": "stderr",
     "output_type": "stream",
     "text": [
      " 18%|██████████████▊                                                                  | 41/225 [00:42<03:32,  1.15s/it]"
     ]
    },
    {
     "name": "stdout",
     "output_type": "stream",
     "text": [
      "torch.Size([128, 2, 2])\n"
     ]
    },
    {
     "name": "stderr",
     "output_type": "stream",
     "text": [
      " 19%|███████████████                                                                  | 42/225 [00:42<03:12,  1.05s/it]"
     ]
    },
    {
     "name": "stdout",
     "output_type": "stream",
     "text": [
      "torch.Size([128, 2, 2])\n"
     ]
    },
    {
     "name": "stderr",
     "output_type": "stream",
     "text": [
      " 19%|███████████████▍                                                                 | 43/225 [00:43<02:54,  1.04it/s]"
     ]
    },
    {
     "name": "stdout",
     "output_type": "stream",
     "text": [
      "torch.Size([128, 2, 2])\n"
     ]
    },
    {
     "name": "stderr",
     "output_type": "stream",
     "text": [
      " 20%|███████████████▊                                                                 | 44/225 [00:44<02:44,  1.10it/s]"
     ]
    },
    {
     "name": "stdout",
     "output_type": "stream",
     "text": [
      "torch.Size([128, 2, 2])\n"
     ]
    },
    {
     "name": "stderr",
     "output_type": "stream",
     "text": [
      " 20%|████████████████▏                                                                | 45/225 [00:45<02:57,  1.01it/s]"
     ]
    },
    {
     "name": "stdout",
     "output_type": "stream",
     "text": [
      "torch.Size([128, 2, 2])\n"
     ]
    },
    {
     "name": "stderr",
     "output_type": "stream",
     "text": [
      " 20%|████████████████▌                                                                | 46/225 [00:47<03:32,  1.19s/it]"
     ]
    },
    {
     "name": "stdout",
     "output_type": "stream",
     "text": [
      "torch.Size([128, 2, 2])\n"
     ]
    },
    {
     "name": "stderr",
     "output_type": "stream",
     "text": [
      " 21%|████████████████▉                                                                | 47/225 [00:48<03:10,  1.07s/it]"
     ]
    },
    {
     "name": "stdout",
     "output_type": "stream",
     "text": [
      "torch.Size([128, 2, 2])\n"
     ]
    },
    {
     "name": "stderr",
     "output_type": "stream",
     "text": [
      " 21%|█████████████████▎                                                               | 48/225 [00:48<02:58,  1.01s/it]"
     ]
    },
    {
     "name": "stdout",
     "output_type": "stream",
     "text": [
      "torch.Size([128, 2, 2])\n"
     ]
    },
    {
     "name": "stderr",
     "output_type": "stream",
     "text": [
      " 22%|█████████████████▋                                                               | 49/225 [00:49<02:47,  1.05it/s]"
     ]
    },
    {
     "name": "stdout",
     "output_type": "stream",
     "text": [
      "torch.Size([128, 2, 2])\n"
     ]
    },
    {
     "name": "stderr",
     "output_type": "stream",
     "text": [
      " 22%|██████████████████                                                               | 50/225 [00:50<02:52,  1.02it/s]"
     ]
    },
    {
     "name": "stdout",
     "output_type": "stream",
     "text": [
      "torch.Size([128, 2, 2])\n"
     ]
    },
    {
     "name": "stderr",
     "output_type": "stream",
     "text": [
      " 23%|██████████████████▎                                                              | 51/225 [00:52<03:05,  1.06s/it]"
     ]
    },
    {
     "name": "stdout",
     "output_type": "stream",
     "text": [
      "torch.Size([128, 2, 2])\n"
     ]
    },
    {
     "name": "stderr",
     "output_type": "stream",
     "text": [
      " 23%|██████████████████▋                                                              | 52/225 [00:52<02:41,  1.07it/s]"
     ]
    },
    {
     "name": "stdout",
     "output_type": "stream",
     "text": [
      "torch.Size([128, 2, 2])\n"
     ]
    },
    {
     "name": "stderr",
     "output_type": "stream",
     "text": [
      " 24%|███████████████████                                                              | 53/225 [00:53<02:24,  1.19it/s]"
     ]
    },
    {
     "name": "stdout",
     "output_type": "stream",
     "text": [
      "torch.Size([128, 2, 2])\n"
     ]
    },
    {
     "name": "stderr",
     "output_type": "stream",
     "text": [
      " 24%|███████████████████▍                                                             | 54/225 [00:54<02:13,  1.28it/s]"
     ]
    },
    {
     "name": "stdout",
     "output_type": "stream",
     "text": [
      "torch.Size([128, 2, 2])\n"
     ]
    },
    {
     "name": "stderr",
     "output_type": "stream",
     "text": [
      " 24%|███████████████████▊                                                             | 55/225 [00:54<02:04,  1.36it/s]"
     ]
    },
    {
     "name": "stdout",
     "output_type": "stream",
     "text": [
      "torch.Size([128, 2, 2])\n"
     ]
    },
    {
     "name": "stderr",
     "output_type": "stream",
     "text": [
      " 25%|████████████████████▏                                                            | 56/225 [00:55<01:59,  1.41it/s]"
     ]
    },
    {
     "name": "stdout",
     "output_type": "stream",
     "text": [
      "torch.Size([128, 2, 2])\n"
     ]
    },
    {
     "name": "stderr",
     "output_type": "stream",
     "text": [
      " 25%|████████████████████▌                                                            | 57/225 [00:55<01:54,  1.47it/s]"
     ]
    },
    {
     "name": "stdout",
     "output_type": "stream",
     "text": [
      "torch.Size([128, 2, 2])\n"
     ]
    },
    {
     "name": "stderr",
     "output_type": "stream",
     "text": [
      " 26%|████████████████████▉                                                            | 58/225 [00:56<01:49,  1.52it/s]"
     ]
    },
    {
     "name": "stdout",
     "output_type": "stream",
     "text": [
      "torch.Size([128, 2, 2])\n"
     ]
    },
    {
     "name": "stderr",
     "output_type": "stream",
     "text": [
      " 26%|█████████████████████▏                                                           | 59/225 [00:57<01:46,  1.55it/s]"
     ]
    },
    {
     "name": "stdout",
     "output_type": "stream",
     "text": [
      "torch.Size([128, 2, 2])\n"
     ]
    },
    {
     "name": "stderr",
     "output_type": "stream",
     "text": [
      " 27%|█████████████████████▌                                                           | 60/225 [00:57<01:44,  1.57it/s]"
     ]
    },
    {
     "name": "stdout",
     "output_type": "stream",
     "text": [
      "torch.Size([128, 2, 2])\n"
     ]
    },
    {
     "name": "stderr",
     "output_type": "stream",
     "text": [
      " 27%|█████████████████████▉                                                           | 61/225 [00:58<01:44,  1.57it/s]"
     ]
    },
    {
     "name": "stdout",
     "output_type": "stream",
     "text": [
      "torch.Size([128, 2, 2])\n"
     ]
    },
    {
     "name": "stderr",
     "output_type": "stream",
     "text": [
      " 28%|██████████████████████▎                                                          | 62/225 [00:58<01:43,  1.58it/s]"
     ]
    },
    {
     "name": "stdout",
     "output_type": "stream",
     "text": [
      "torch.Size([128, 2, 2])\n"
     ]
    },
    {
     "name": "stderr",
     "output_type": "stream",
     "text": [
      " 28%|██████████████████████▋                                                          | 63/225 [00:59<01:42,  1.58it/s]"
     ]
    },
    {
     "name": "stdout",
     "output_type": "stream",
     "text": [
      "torch.Size([128, 2, 2])\n"
     ]
    },
    {
     "name": "stderr",
     "output_type": "stream",
     "text": [
      " 28%|███████████████████████                                                          | 64/225 [01:00<01:39,  1.62it/s]"
     ]
    },
    {
     "name": "stdout",
     "output_type": "stream",
     "text": [
      "torch.Size([128, 2, 2])\n"
     ]
    },
    {
     "name": "stderr",
     "output_type": "stream",
     "text": [
      " 29%|███████████████████████▍                                                         | 65/225 [01:00<01:31,  1.74it/s]"
     ]
    },
    {
     "name": "stdout",
     "output_type": "stream",
     "text": [
      "torch.Size([128, 2, 2])\n"
     ]
    },
    {
     "name": "stderr",
     "output_type": "stream",
     "text": [
      " 29%|███████████████████████▊                                                         | 66/225 [01:01<01:27,  1.83it/s]"
     ]
    },
    {
     "name": "stdout",
     "output_type": "stream",
     "text": [
      "torch.Size([128, 2, 2])\n"
     ]
    },
    {
     "name": "stderr",
     "output_type": "stream",
     "text": [
      " 30%|████████████████████████                                                         | 67/225 [01:01<01:23,  1.89it/s]"
     ]
    },
    {
     "name": "stdout",
     "output_type": "stream",
     "text": [
      "torch.Size([128, 2, 2])\n"
     ]
    },
    {
     "name": "stderr",
     "output_type": "stream",
     "text": [
      " 30%|████████████████████████▍                                                        | 68/225 [01:02<01:21,  1.94it/s]"
     ]
    },
    {
     "name": "stdout",
     "output_type": "stream",
     "text": [
      "torch.Size([128, 2, 2])\n"
     ]
    },
    {
     "name": "stderr",
     "output_type": "stream",
     "text": [
      " 31%|████████████████████████▊                                                        | 69/225 [01:03<01:51,  1.40it/s]"
     ]
    },
    {
     "name": "stdout",
     "output_type": "stream",
     "text": [
      "torch.Size([128, 2, 2])\n"
     ]
    },
    {
     "name": "stderr",
     "output_type": "stream",
     "text": [
      " 31%|█████████████████████████▏                                                       | 70/225 [01:04<02:05,  1.24it/s]"
     ]
    },
    {
     "name": "stdout",
     "output_type": "stream",
     "text": [
      "torch.Size([128, 2, 2])\n"
     ]
    },
    {
     "name": "stderr",
     "output_type": "stream",
     "text": [
      " 32%|█████████████████████████▌                                                       | 71/225 [01:04<01:48,  1.41it/s]"
     ]
    },
    {
     "name": "stdout",
     "output_type": "stream",
     "text": [
      "torch.Size([128, 2, 2])\n"
     ]
    },
    {
     "name": "stderr",
     "output_type": "stream",
     "text": [
      " 32%|█████████████████████████▉                                                       | 72/225 [01:05<01:37,  1.56it/s]"
     ]
    },
    {
     "name": "stdout",
     "output_type": "stream",
     "text": [
      "torch.Size([128, 2, 2])\n"
     ]
    },
    {
     "name": "stderr",
     "output_type": "stream",
     "text": [
      " 32%|██████████████████████████▎                                                      | 73/225 [01:05<01:30,  1.68it/s]"
     ]
    },
    {
     "name": "stdout",
     "output_type": "stream",
     "text": [
      "torch.Size([128, 2, 2])\n"
     ]
    },
    {
     "name": "stderr",
     "output_type": "stream",
     "text": [
      " 33%|██████████████████████████▋                                                      | 74/225 [01:06<01:29,  1.69it/s]"
     ]
    },
    {
     "name": "stdout",
     "output_type": "stream",
     "text": [
      "torch.Size([128, 2, 2])\n"
     ]
    },
    {
     "name": "stderr",
     "output_type": "stream",
     "text": [
      " 33%|███████████████████████████                                                      | 75/225 [01:07<02:01,  1.24it/s]"
     ]
    },
    {
     "name": "stdout",
     "output_type": "stream",
     "text": [
      "torch.Size([128, 2, 2])\n"
     ]
    },
    {
     "name": "stderr",
     "output_type": "stream",
     "text": [
      " 34%|███████████████████████████▎                                                     | 76/225 [01:08<02:02,  1.22it/s]"
     ]
    },
    {
     "name": "stdout",
     "output_type": "stream",
     "text": [
      "torch.Size([128, 2, 2])\n"
     ]
    },
    {
     "name": "stderr",
     "output_type": "stream",
     "text": [
      " 34%|███████████████████████████▋                                                     | 77/225 [01:09<01:46,  1.39it/s]"
     ]
    },
    {
     "name": "stdout",
     "output_type": "stream",
     "text": [
      "torch.Size([128, 2, 2])\n"
     ]
    },
    {
     "name": "stderr",
     "output_type": "stream",
     "text": [
      " 35%|████████████████████████████                                                     | 78/225 [01:09<01:34,  1.55it/s]"
     ]
    },
    {
     "name": "stdout",
     "output_type": "stream",
     "text": [
      "torch.Size([128, 2, 2])\n"
     ]
    },
    {
     "name": "stderr",
     "output_type": "stream",
     "text": [
      " 35%|████████████████████████████▍                                                    | 79/225 [01:09<01:27,  1.66it/s]"
     ]
    },
    {
     "name": "stdout",
     "output_type": "stream",
     "text": [
      "torch.Size([128, 2, 2])\n"
     ]
    },
    {
     "name": "stderr",
     "output_type": "stream",
     "text": [
      " 36%|████████████████████████████▊                                                    | 80/225 [01:10<01:45,  1.38it/s]"
     ]
    },
    {
     "name": "stdout",
     "output_type": "stream",
     "text": [
      "torch.Size([128, 2, 2])\n"
     ]
    },
    {
     "name": "stderr",
     "output_type": "stream",
     "text": [
      " 36%|█████████████████████████████▏                                                   | 81/225 [01:11<01:49,  1.31it/s]"
     ]
    },
    {
     "name": "stdout",
     "output_type": "stream",
     "text": [
      "torch.Size([128, 2, 2])\n"
     ]
    },
    {
     "name": "stderr",
     "output_type": "stream",
     "text": [
      " 36%|█████████████████████████████▌                                                   | 82/225 [01:12<01:48,  1.32it/s]"
     ]
    },
    {
     "name": "stdout",
     "output_type": "stream",
     "text": [
      "torch.Size([128, 2, 2])\n"
     ]
    },
    {
     "name": "stderr",
     "output_type": "stream",
     "text": [
      " 37%|█████████████████████████████▉                                                   | 83/225 [01:13<01:49,  1.30it/s]"
     ]
    },
    {
     "name": "stdout",
     "output_type": "stream",
     "text": [
      "torch.Size([128, 2, 2])\n"
     ]
    },
    {
     "name": "stderr",
     "output_type": "stream",
     "text": [
      " 37%|██████████████████████████████▏                                                  | 84/225 [01:14<01:49,  1.29it/s]"
     ]
    },
    {
     "name": "stdout",
     "output_type": "stream",
     "text": [
      "torch.Size([128, 2, 2])\n"
     ]
    },
    {
     "name": "stderr",
     "output_type": "stream",
     "text": [
      " 38%|██████████████████████████████▌                                                  | 85/225 [01:14<01:47,  1.30it/s]"
     ]
    },
    {
     "name": "stdout",
     "output_type": "stream",
     "text": [
      "torch.Size([128, 2, 2])\n"
     ]
    },
    {
     "name": "stderr",
     "output_type": "stream",
     "text": [
      " 38%|██████████████████████████████▉                                                  | 86/225 [01:15<01:45,  1.31it/s]"
     ]
    },
    {
     "name": "stdout",
     "output_type": "stream",
     "text": [
      "torch.Size([128, 2, 2])\n"
     ]
    },
    {
     "name": "stderr",
     "output_type": "stream",
     "text": [
      " 39%|███████████████████████████████▎                                                 | 87/225 [01:16<01:46,  1.30it/s]"
     ]
    },
    {
     "name": "stdout",
     "output_type": "stream",
     "text": [
      "torch.Size([128, 2, 2])\n"
     ]
    },
    {
     "name": "stderr",
     "output_type": "stream",
     "text": [
      " 39%|███████████████████████████████▋                                                 | 88/225 [01:17<01:44,  1.31it/s]"
     ]
    },
    {
     "name": "stdout",
     "output_type": "stream",
     "text": [
      "torch.Size([128, 2, 2])\n"
     ]
    },
    {
     "name": "stderr",
     "output_type": "stream",
     "text": [
      " 40%|████████████████████████████████                                                 | 89/225 [01:18<01:44,  1.30it/s]"
     ]
    },
    {
     "name": "stdout",
     "output_type": "stream",
     "text": [
      "torch.Size([128, 2, 2])\n"
     ]
    },
    {
     "name": "stderr",
     "output_type": "stream",
     "text": [
      " 40%|████████████████████████████████▍                                                | 90/225 [01:18<01:46,  1.27it/s]"
     ]
    },
    {
     "name": "stdout",
     "output_type": "stream",
     "text": [
      "torch.Size([128, 2, 2])\n"
     ]
    },
    {
     "name": "stderr",
     "output_type": "stream",
     "text": [
      " 40%|████████████████████████████████▊                                                | 91/225 [01:19<01:44,  1.28it/s]"
     ]
    },
    {
     "name": "stdout",
     "output_type": "stream",
     "text": [
      "torch.Size([128, 2, 2])\n"
     ]
    },
    {
     "name": "stderr",
     "output_type": "stream",
     "text": [
      " 41%|█████████████████████████████████                                                | 92/225 [01:20<01:39,  1.34it/s]"
     ]
    },
    {
     "name": "stdout",
     "output_type": "stream",
     "text": [
      "torch.Size([128, 2, 2])\n"
     ]
    },
    {
     "name": "stderr",
     "output_type": "stream",
     "text": [
      " 41%|█████████████████████████████████▍                                               | 93/225 [01:20<01:27,  1.50it/s]"
     ]
    },
    {
     "name": "stdout",
     "output_type": "stream",
     "text": [
      "torch.Size([128, 2, 2])\n"
     ]
    },
    {
     "name": "stderr",
     "output_type": "stream",
     "text": [
      " 42%|█████████████████████████████████▊                                               | 94/225 [01:21<01:20,  1.64it/s]"
     ]
    },
    {
     "name": "stdout",
     "output_type": "stream",
     "text": [
      "torch.Size([128, 2, 2])\n"
     ]
    },
    {
     "name": "stderr",
     "output_type": "stream",
     "text": [
      " 42%|██████████████████████████████████▏                                              | 95/225 [01:21<01:14,  1.74it/s]"
     ]
    },
    {
     "name": "stdout",
     "output_type": "stream",
     "text": [
      "torch.Size([128, 2, 2])\n"
     ]
    },
    {
     "name": "stderr",
     "output_type": "stream",
     "text": [
      " 43%|██████████████████████████████████▌                                              | 96/225 [01:22<01:11,  1.82it/s]"
     ]
    },
    {
     "name": "stdout",
     "output_type": "stream",
     "text": [
      "torch.Size([128, 2, 2])\n"
     ]
    },
    {
     "name": "stderr",
     "output_type": "stream",
     "text": [
      " 43%|██████████████████████████████████▉                                              | 97/225 [01:23<01:25,  1.50it/s]"
     ]
    },
    {
     "name": "stdout",
     "output_type": "stream",
     "text": [
      "torch.Size([128, 2, 2])\n"
     ]
    },
    {
     "name": "stderr",
     "output_type": "stream",
     "text": [
      " 44%|███████████████████████████████████▎                                             | 98/225 [01:24<01:46,  1.19it/s]"
     ]
    },
    {
     "name": "stdout",
     "output_type": "stream",
     "text": [
      "torch.Size([128, 2, 2])\n"
     ]
    },
    {
     "name": "stderr",
     "output_type": "stream",
     "text": [
      " 44%|███████████████████████████████████▋                                             | 99/225 [01:24<01:32,  1.37it/s]"
     ]
    },
    {
     "name": "stdout",
     "output_type": "stream",
     "text": [
      "torch.Size([128, 2, 2])\n"
     ]
    },
    {
     "name": "stderr",
     "output_type": "stream",
     "text": [
      " 44%|███████████████████████████████████▌                                            | 100/225 [01:25<01:21,  1.53it/s]"
     ]
    },
    {
     "name": "stdout",
     "output_type": "stream",
     "text": [
      "torch.Size([128, 2, 2])\n"
     ]
    },
    {
     "name": "stderr",
     "output_type": "stream",
     "text": [
      " 45%|███████████████████████████████████▉                                            | 101/225 [01:25<01:14,  1.66it/s]"
     ]
    },
    {
     "name": "stdout",
     "output_type": "stream",
     "text": [
      "torch.Size([128, 2, 2])\n"
     ]
    },
    {
     "name": "stderr",
     "output_type": "stream",
     "text": [
      " 45%|████████████████████████████████████▎                                           | 102/225 [01:26<01:09,  1.76it/s]"
     ]
    },
    {
     "name": "stdout",
     "output_type": "stream",
     "text": [
      "torch.Size([128, 2, 2])\n"
     ]
    },
    {
     "name": "stderr",
     "output_type": "stream",
     "text": [
      " 46%|████████████████████████████████████▌                                           | 103/225 [01:27<01:27,  1.39it/s]"
     ]
    },
    {
     "name": "stdout",
     "output_type": "stream",
     "text": [
      "torch.Size([128, 2, 2])\n"
     ]
    },
    {
     "name": "stderr",
     "output_type": "stream",
     "text": [
      " 46%|████████████████████████████████████▉                                           | 104/225 [01:28<01:43,  1.17it/s]"
     ]
    },
    {
     "name": "stdout",
     "output_type": "stream",
     "text": [
      "torch.Size([128, 2, 2])\n"
     ]
    },
    {
     "name": "stderr",
     "output_type": "stream",
     "text": [
      " 47%|█████████████████████████████████████▎                                          | 105/225 [01:29<01:28,  1.36it/s]"
     ]
    },
    {
     "name": "stdout",
     "output_type": "stream",
     "text": [
      "torch.Size([128, 2, 2])\n"
     ]
    },
    {
     "name": "stderr",
     "output_type": "stream",
     "text": [
      " 47%|█████████████████████████████████████▋                                          | 106/225 [01:29<01:18,  1.52it/s]"
     ]
    },
    {
     "name": "stdout",
     "output_type": "stream",
     "text": [
      "torch.Size([128, 2, 2])\n"
     ]
    },
    {
     "name": "stderr",
     "output_type": "stream",
     "text": [
      " 48%|██████████████████████████████████████                                          | 107/225 [01:29<01:11,  1.65it/s]"
     ]
    },
    {
     "name": "stdout",
     "output_type": "stream",
     "text": [
      "torch.Size([128, 2, 2])\n"
     ]
    },
    {
     "name": "stderr",
     "output_type": "stream",
     "text": [
      " 48%|██████████████████████████████████████▍                                         | 108/225 [01:30<01:24,  1.38it/s]"
     ]
    },
    {
     "name": "stdout",
     "output_type": "stream",
     "text": [
      "torch.Size([128, 2, 2])\n"
     ]
    },
    {
     "name": "stderr",
     "output_type": "stream",
     "text": [
      " 48%|██████████████████████████████████████▊                                         | 109/225 [01:32<01:34,  1.22it/s]"
     ]
    },
    {
     "name": "stdout",
     "output_type": "stream",
     "text": [
      "torch.Size([128, 2, 2])\n"
     ]
    },
    {
     "name": "stderr",
     "output_type": "stream",
     "text": [
      " 49%|███████████████████████████████████████                                         | 110/225 [01:32<01:36,  1.19it/s]"
     ]
    },
    {
     "name": "stdout",
     "output_type": "stream",
     "text": [
      "torch.Size([128, 2, 2])\n"
     ]
    },
    {
     "name": "stderr",
     "output_type": "stream",
     "text": [
      " 49%|███████████████████████████████████████▍                                        | 111/225 [01:33<01:36,  1.18it/s]"
     ]
    },
    {
     "name": "stdout",
     "output_type": "stream",
     "text": [
      "torch.Size([128, 2, 2])\n"
     ]
    },
    {
     "name": "stderr",
     "output_type": "stream",
     "text": [
      " 50%|███████████████████████████████████████▊                                        | 112/225 [01:34<01:36,  1.18it/s]"
     ]
    },
    {
     "name": "stdout",
     "output_type": "stream",
     "text": [
      "torch.Size([128, 2, 2])\n"
     ]
    },
    {
     "name": "stderr",
     "output_type": "stream",
     "text": [
      " 50%|████████████████████████████████████████▏                                       | 113/225 [01:35<01:35,  1.17it/s]"
     ]
    },
    {
     "name": "stdout",
     "output_type": "stream",
     "text": [
      "torch.Size([128, 2, 2])\n"
     ]
    },
    {
     "name": "stderr",
     "output_type": "stream",
     "text": [
      " 51%|████████████████████████████████████████▌                                       | 114/225 [01:36<01:35,  1.17it/s]"
     ]
    },
    {
     "name": "stdout",
     "output_type": "stream",
     "text": [
      "torch.Size([128, 2, 2])\n"
     ]
    },
    {
     "name": "stderr",
     "output_type": "stream",
     "text": [
      " 51%|████████████████████████████████████████▉                                       | 115/225 [01:37<01:33,  1.18it/s]"
     ]
    },
    {
     "name": "stdout",
     "output_type": "stream",
     "text": [
      "torch.Size([128, 2, 2])\n"
     ]
    },
    {
     "name": "stderr",
     "output_type": "stream",
     "text": [
      " 52%|█████████████████████████████████████████▏                                      | 116/225 [01:38<01:33,  1.16it/s]"
     ]
    },
    {
     "name": "stdout",
     "output_type": "stream",
     "text": [
      "torch.Size([128, 2, 2])\n"
     ]
    },
    {
     "name": "stderr",
     "output_type": "stream",
     "text": [
      " 52%|█████████████████████████████████████████▌                                      | 117/225 [01:38<01:32,  1.17it/s]"
     ]
    },
    {
     "name": "stdout",
     "output_type": "stream",
     "text": [
      "torch.Size([128, 2, 2])\n"
     ]
    },
    {
     "name": "stderr",
     "output_type": "stream",
     "text": [
      " 52%|█████████████████████████████████████████▉                                      | 118/225 [01:39<01:32,  1.16it/s]"
     ]
    },
    {
     "name": "stdout",
     "output_type": "stream",
     "text": [
      "torch.Size([128, 2, 2])\n"
     ]
    },
    {
     "name": "stderr",
     "output_type": "stream",
     "text": [
      " 53%|██████████████████████████████████████████▎                                     | 119/225 [01:40<01:22,  1.28it/s]"
     ]
    },
    {
     "name": "stdout",
     "output_type": "stream",
     "text": [
      "torch.Size([128, 2, 2])\n"
     ]
    },
    {
     "name": "stderr",
     "output_type": "stream",
     "text": [
      " 53%|██████████████████████████████████████████▋                                     | 120/225 [01:40<01:12,  1.46it/s]"
     ]
    },
    {
     "name": "stdout",
     "output_type": "stream",
     "text": [
      "torch.Size([128, 2, 2])\n"
     ]
    },
    {
     "name": "stderr",
     "output_type": "stream",
     "text": [
      " 54%|███████████████████████████████████████████                                     | 121/225 [01:41<01:05,  1.59it/s]"
     ]
    },
    {
     "name": "stdout",
     "output_type": "stream",
     "text": [
      "torch.Size([128, 2, 2])\n"
     ]
    },
    {
     "name": "stderr",
     "output_type": "stream",
     "text": [
      " 54%|███████████████████████████████████████████▍                                    | 122/225 [01:41<01:00,  1.71it/s]"
     ]
    },
    {
     "name": "stdout",
     "output_type": "stream",
     "text": [
      "torch.Size([128, 2, 2])\n"
     ]
    },
    {
     "name": "stderr",
     "output_type": "stream",
     "text": [
      " 55%|███████████████████████████████████████████▋                                    | 123/225 [01:42<00:56,  1.79it/s]"
     ]
    },
    {
     "name": "stdout",
     "output_type": "stream",
     "text": [
      "torch.Size([128, 2, 2])\n"
     ]
    },
    {
     "name": "stderr",
     "output_type": "stream",
     "text": [
      " 55%|████████████████████████████████████████████                                    | 124/225 [01:43<01:02,  1.61it/s]"
     ]
    },
    {
     "name": "stdout",
     "output_type": "stream",
     "text": [
      "torch.Size([128, 2, 2])\n"
     ]
    },
    {
     "name": "stderr",
     "output_type": "stream",
     "text": [
      " 56%|████████████████████████████████████████████▍                                   | 125/225 [01:44<01:20,  1.25it/s]"
     ]
    },
    {
     "name": "stdout",
     "output_type": "stream",
     "text": [
      "torch.Size([128, 2, 2])\n"
     ]
    },
    {
     "name": "stderr",
     "output_type": "stream",
     "text": [
      " 56%|████████████████████████████████████████████▊                                   | 126/225 [01:44<01:15,  1.31it/s]"
     ]
    },
    {
     "name": "stdout",
     "output_type": "stream",
     "text": [
      "torch.Size([128, 2, 2])\n"
     ]
    },
    {
     "name": "stderr",
     "output_type": "stream",
     "text": [
      " 56%|█████████████████████████████████████████████▏                                  | 127/225 [01:45<01:06,  1.48it/s]"
     ]
    },
    {
     "name": "stdout",
     "output_type": "stream",
     "text": [
      "torch.Size([128, 2, 2])\n"
     ]
    },
    {
     "name": "stderr",
     "output_type": "stream",
     "text": [
      " 57%|█████████████████████████████████████████████▌                                  | 128/225 [01:45<01:00,  1.61it/s]"
     ]
    },
    {
     "name": "stdout",
     "output_type": "stream",
     "text": [
      "torch.Size([128, 2, 2])\n"
     ]
    },
    {
     "name": "stderr",
     "output_type": "stream",
     "text": [
      " 57%|█████████████████████████████████████████████▊                                  | 129/225 [01:46<00:55,  1.72it/s]"
     ]
    },
    {
     "name": "stdout",
     "output_type": "stream",
     "text": [
      "torch.Size([128, 2, 2])\n"
     ]
    },
    {
     "name": "stderr",
     "output_type": "stream",
     "text": [
      " 58%|██████████████████████████████████████████████▏                                 | 130/225 [01:47<01:03,  1.50it/s]"
     ]
    },
    {
     "name": "stdout",
     "output_type": "stream",
     "text": [
      "torch.Size([128, 2, 2])\n"
     ]
    },
    {
     "name": "stderr",
     "output_type": "stream",
     "text": [
      " 58%|██████████████████████████████████████████████▌                                 | 131/225 [01:48<01:19,  1.18it/s]"
     ]
    },
    {
     "name": "stdout",
     "output_type": "stream",
     "text": [
      "torch.Size([128, 2, 2])\n"
     ]
    },
    {
     "name": "stderr",
     "output_type": "stream",
     "text": [
      " 59%|██████████████████████████████████████████████▉                                 | 132/225 [01:49<01:10,  1.32it/s]"
     ]
    },
    {
     "name": "stdout",
     "output_type": "stream",
     "text": [
      "torch.Size([128, 2, 2])\n"
     ]
    },
    {
     "name": "stderr",
     "output_type": "stream",
     "text": [
      " 59%|███████████████████████████████████████████████▎                                | 133/225 [01:49<01:01,  1.50it/s]"
     ]
    },
    {
     "name": "stdout",
     "output_type": "stream",
     "text": [
      "torch.Size([128, 2, 2])\n"
     ]
    },
    {
     "name": "stderr",
     "output_type": "stream",
     "text": [
      " 60%|███████████████████████████████████████████████▋                                | 134/225 [01:50<00:55,  1.63it/s]"
     ]
    },
    {
     "name": "stdout",
     "output_type": "stream",
     "text": [
      "torch.Size([128, 2, 2])\n"
     ]
    },
    {
     "name": "stderr",
     "output_type": "stream",
     "text": [
      " 60%|████████████████████████████████████████████████                                | 135/225 [01:51<01:08,  1.32it/s]"
     ]
    },
    {
     "name": "stdout",
     "output_type": "stream",
     "text": [
      "torch.Size([128, 2, 2])\n"
     ]
    },
    {
     "name": "stderr",
     "output_type": "stream",
     "text": [
      " 60%|████████████████████████████████████████████████▎                               | 136/225 [01:52<01:16,  1.16it/s]"
     ]
    },
    {
     "name": "stdout",
     "output_type": "stream",
     "text": [
      "torch.Size([128, 2, 2])\n"
     ]
    },
    {
     "name": "stderr",
     "output_type": "stream",
     "text": [
      " 61%|████████████████████████████████████████████████▋                               | 137/225 [01:53<01:20,  1.10it/s]"
     ]
    },
    {
     "name": "stdout",
     "output_type": "stream",
     "text": [
      "torch.Size([128, 2, 2])\n"
     ]
    },
    {
     "name": "stderr",
     "output_type": "stream",
     "text": [
      " 61%|█████████████████████████████████████████████████                               | 138/225 [01:54<01:21,  1.07it/s]"
     ]
    },
    {
     "name": "stdout",
     "output_type": "stream",
     "text": [
      "torch.Size([128, 2, 2])\n"
     ]
    },
    {
     "name": "stderr",
     "output_type": "stream",
     "text": [
      " 62%|█████████████████████████████████████████████████▍                              | 139/225 [01:55<01:22,  1.04it/s]"
     ]
    },
    {
     "name": "stdout",
     "output_type": "stream",
     "text": [
      "torch.Size([128, 2, 2])\n"
     ]
    },
    {
     "name": "stderr",
     "output_type": "stream",
     "text": [
      " 62%|█████████████████████████████████████████████████▊                              | 140/225 [01:56<01:21,  1.04it/s]"
     ]
    },
    {
     "name": "stdout",
     "output_type": "stream",
     "text": [
      "torch.Size([128, 2, 2])\n"
     ]
    },
    {
     "name": "stderr",
     "output_type": "stream",
     "text": [
      " 63%|██████████████████████████████████████████████████▏                             | 141/225 [01:57<01:21,  1.03it/s]"
     ]
    },
    {
     "name": "stdout",
     "output_type": "stream",
     "text": [
      "torch.Size([128, 2, 2])\n"
     ]
    },
    {
     "name": "stderr",
     "output_type": "stream",
     "text": [
      " 63%|██████████████████████████████████████████████████▍                             | 142/225 [01:58<01:22,  1.01it/s]"
     ]
    },
    {
     "name": "stdout",
     "output_type": "stream",
     "text": [
      "torch.Size([128, 2, 2])\n"
     ]
    },
    {
     "name": "stderr",
     "output_type": "stream",
     "text": [
      " 64%|██████████████████████████████████████████████████▊                             | 143/225 [01:59<01:21,  1.01it/s]"
     ]
    },
    {
     "name": "stdout",
     "output_type": "stream",
     "text": [
      "torch.Size([128, 2, 2])\n"
     ]
    },
    {
     "name": "stderr",
     "output_type": "stream",
     "text": [
      " 64%|███████████████████████████████████████████████████▏                            | 144/225 [02:00<01:17,  1.04it/s]"
     ]
    },
    {
     "name": "stdout",
     "output_type": "stream",
     "text": [
      "torch.Size([128, 2, 2])\n"
     ]
    },
    {
     "name": "stderr",
     "output_type": "stream",
     "text": [
      " 64%|███████████████████████████████████████████████████▌                            | 145/225 [02:00<01:04,  1.23it/s]"
     ]
    },
    {
     "name": "stdout",
     "output_type": "stream",
     "text": [
      "torch.Size([128, 2, 2])\n"
     ]
    },
    {
     "name": "stderr",
     "output_type": "stream",
     "text": [
      " 65%|███████████████████████████████████████████████████▉                            | 146/225 [02:01<00:56,  1.41it/s]"
     ]
    },
    {
     "name": "stdout",
     "output_type": "stream",
     "text": [
      "torch.Size([128, 2, 2])\n"
     ]
    },
    {
     "name": "stderr",
     "output_type": "stream",
     "text": [
      " 65%|████████████████████████████████████████████████████▎                           | 147/225 [02:01<00:49,  1.56it/s]"
     ]
    },
    {
     "name": "stdout",
     "output_type": "stream",
     "text": [
      "torch.Size([128, 2, 2])\n"
     ]
    },
    {
     "name": "stderr",
     "output_type": "stream",
     "text": [
      " 66%|████████████████████████████████████████████████████▌                           | 148/225 [02:02<00:53,  1.43it/s]"
     ]
    },
    {
     "name": "stdout",
     "output_type": "stream",
     "text": [
      "torch.Size([128, 2, 2])\n"
     ]
    },
    {
     "name": "stderr",
     "output_type": "stream",
     "text": [
      " 66%|████████████████████████████████████████████████████▉                           | 149/225 [02:03<01:05,  1.16it/s]"
     ]
    },
    {
     "name": "stdout",
     "output_type": "stream",
     "text": [
      "torch.Size([128, 2, 2])\n"
     ]
    },
    {
     "name": "stderr",
     "output_type": "stream",
     "text": [
      " 67%|█████████████████████████████████████████████████████▎                          | 150/225 [02:04<00:58,  1.28it/s]"
     ]
    },
    {
     "name": "stdout",
     "output_type": "stream",
     "text": [
      "torch.Size([128, 2, 2])\n"
     ]
    },
    {
     "name": "stderr",
     "output_type": "stream",
     "text": [
      " 67%|█████████████████████████████████████████████████████▋                          | 151/225 [02:04<00:50,  1.46it/s]"
     ]
    },
    {
     "name": "stdout",
     "output_type": "stream",
     "text": [
      "torch.Size([128, 2, 2])\n"
     ]
    },
    {
     "name": "stderr",
     "output_type": "stream",
     "text": [
      " 68%|██████████████████████████████████████████████████████                          | 152/225 [02:05<00:45,  1.59it/s]"
     ]
    },
    {
     "name": "stdout",
     "output_type": "stream",
     "text": [
      "torch.Size([128, 2, 2])\n"
     ]
    },
    {
     "name": "stderr",
     "output_type": "stream",
     "text": [
      " 68%|██████████████████████████████████████████████████████▍                         | 153/225 [02:05<00:42,  1.71it/s]"
     ]
    },
    {
     "name": "stdout",
     "output_type": "stream",
     "text": [
      "torch.Size([128, 2, 2])\n"
     ]
    },
    {
     "name": "stderr",
     "output_type": "stream",
     "text": [
      " 68%|██████████████████████████████████████████████████████▊                         | 154/225 [02:06<00:48,  1.46it/s]"
     ]
    },
    {
     "name": "stdout",
     "output_type": "stream",
     "text": [
      "torch.Size([128, 2, 2])\n"
     ]
    },
    {
     "name": "stderr",
     "output_type": "stream",
     "text": [
      " 69%|███████████████████████████████████████████████████████                         | 155/225 [02:07<00:59,  1.17it/s]"
     ]
    },
    {
     "name": "stdout",
     "output_type": "stream",
     "text": [
      "torch.Size([128, 2, 2])\n"
     ]
    },
    {
     "name": "stderr",
     "output_type": "stream",
     "text": [
      " 69%|███████████████████████████████████████████████████████▍                        | 156/225 [02:08<00:51,  1.34it/s]"
     ]
    },
    {
     "name": "stdout",
     "output_type": "stream",
     "text": [
      "torch.Size([128, 2, 2])\n"
     ]
    },
    {
     "name": "stderr",
     "output_type": "stream",
     "text": [
      " 70%|███████████████████████████████████████████████████████▊                        | 157/225 [02:08<00:45,  1.51it/s]"
     ]
    },
    {
     "name": "stdout",
     "output_type": "stream",
     "text": [
      "torch.Size([128, 2, 2])\n"
     ]
    },
    {
     "name": "stderr",
     "output_type": "stream",
     "text": [
      " 70%|████████████████████████████████████████████████████████▏                       | 158/225 [02:09<00:41,  1.63it/s]"
     ]
    },
    {
     "name": "stdout",
     "output_type": "stream",
     "text": [
      "torch.Size([128, 2, 2])\n"
     ]
    },
    {
     "name": "stderr",
     "output_type": "stream",
     "text": [
      " 71%|████████████████████████████████████████████████████████▌                       | 159/225 [02:09<00:37,  1.74it/s]"
     ]
    },
    {
     "name": "stdout",
     "output_type": "stream",
     "text": [
      "torch.Size([128, 2, 2])\n"
     ]
    },
    {
     "name": "stderr",
     "output_type": "stream",
     "text": [
      " 71%|████████████████████████████████████████████████████████▉                       | 160/225 [02:10<00:47,  1.36it/s]"
     ]
    },
    {
     "name": "stdout",
     "output_type": "stream",
     "text": [
      "torch.Size([128, 2, 2])\n"
     ]
    },
    {
     "name": "stderr",
     "output_type": "stream",
     "text": [
      " 72%|█████████████████████████████████████████████████████████▏                      | 161/225 [02:12<00:57,  1.12it/s]"
     ]
    },
    {
     "name": "stdout",
     "output_type": "stream",
     "text": [
      "torch.Size([128, 2, 2])\n"
     ]
    },
    {
     "name": "stderr",
     "output_type": "stream",
     "text": [
      " 72%|█████████████████████████████████████████████████████████▌                      | 162/225 [02:13<01:00,  1.04it/s]"
     ]
    },
    {
     "name": "stdout",
     "output_type": "stream",
     "text": [
      "torch.Size([128, 2, 2])\n"
     ]
    },
    {
     "name": "stderr",
     "output_type": "stream",
     "text": [
      " 72%|█████████████████████████████████████████████████████████▉                      | 163/225 [02:14<01:01,  1.00it/s]"
     ]
    },
    {
     "name": "stdout",
     "output_type": "stream",
     "text": [
      "torch.Size([128, 2, 2])\n"
     ]
    },
    {
     "name": "stderr",
     "output_type": "stream",
     "text": [
      " 73%|██████████████████████████████████████████████████████████▎                     | 164/225 [02:15<01:03,  1.03s/it]"
     ]
    },
    {
     "name": "stdout",
     "output_type": "stream",
     "text": [
      "torch.Size([128, 2, 2])\n"
     ]
    },
    {
     "name": "stderr",
     "output_type": "stream",
     "text": [
      " 73%|██████████████████████████████████████████████████████████▋                     | 165/225 [02:16<01:03,  1.07s/it]"
     ]
    },
    {
     "name": "stdout",
     "output_type": "stream",
     "text": [
      "torch.Size([128, 2, 2])\n"
     ]
    },
    {
     "name": "stderr",
     "output_type": "stream",
     "text": [
      " 74%|███████████████████████████████████████████████████████████                     | 166/225 [02:17<01:03,  1.07s/it]"
     ]
    },
    {
     "name": "stdout",
     "output_type": "stream",
     "text": [
      "torch.Size([128, 2, 2])\n"
     ]
    },
    {
     "name": "stderr",
     "output_type": "stream",
     "text": [
      " 74%|███████████████████████████████████████████████████████████▍                    | 167/225 [02:18<01:03,  1.09s/it]"
     ]
    },
    {
     "name": "stdout",
     "output_type": "stream",
     "text": [
      "torch.Size([128, 2, 2])\n"
     ]
    },
    {
     "name": "stderr",
     "output_type": "stream",
     "text": [
      " 75%|███████████████████████████████████████████████████████████▋                    | 168/225 [02:19<01:02,  1.10s/it]"
     ]
    },
    {
     "name": "stdout",
     "output_type": "stream",
     "text": [
      "torch.Size([128, 2, 2])\n"
     ]
    },
    {
     "name": "stderr",
     "output_type": "stream",
     "text": [
      " 75%|████████████████████████████████████████████████████████████                    | 169/225 [02:20<00:51,  1.09it/s]"
     ]
    },
    {
     "name": "stdout",
     "output_type": "stream",
     "text": [
      "torch.Size([128, 2, 2])\n"
     ]
    },
    {
     "name": "stderr",
     "output_type": "stream",
     "text": [
      " 76%|████████████████████████████████████████████████████████████▍                   | 170/225 [02:20<00:43,  1.27it/s]"
     ]
    },
    {
     "name": "stdout",
     "output_type": "stream",
     "text": [
      "torch.Size([128, 2, 2])\n"
     ]
    },
    {
     "name": "stderr",
     "output_type": "stream",
     "text": [
      " 76%|████████████████████████████████████████████████████████████▊                   | 171/225 [02:21<00:37,  1.44it/s]"
     ]
    },
    {
     "name": "stdout",
     "output_type": "stream",
     "text": [
      "torch.Size([128, 2, 2])\n"
     ]
    },
    {
     "name": "stderr",
     "output_type": "stream",
     "text": [
      " 76%|█████████████████████████████████████████████████████████████▏                  | 172/225 [02:21<00:33,  1.58it/s]"
     ]
    },
    {
     "name": "stdout",
     "output_type": "stream",
     "text": [
      "torch.Size([128, 2, 2])\n"
     ]
    },
    {
     "name": "stderr",
     "output_type": "stream",
     "text": [
      " 77%|█████████████████████████████████████████████████████████████▌                  | 173/225 [02:23<00:39,  1.30it/s]"
     ]
    },
    {
     "name": "stdout",
     "output_type": "stream",
     "text": [
      "torch.Size([128, 2, 2])\n"
     ]
    },
    {
     "name": "stderr",
     "output_type": "stream",
     "text": [
      " 77%|█████████████████████████████████████████████████████████████▊                  | 174/225 [02:24<00:44,  1.14it/s]"
     ]
    },
    {
     "name": "stdout",
     "output_type": "stream",
     "text": [
      "torch.Size([128, 2, 2])\n"
     ]
    },
    {
     "name": "stderr",
     "output_type": "stream",
     "text": [
      " 78%|██████████████████████████████████████████████████████████████▏                 | 175/225 [02:24<00:37,  1.33it/s]"
     ]
    },
    {
     "name": "stdout",
     "output_type": "stream",
     "text": [
      "torch.Size([128, 2, 2])\n"
     ]
    },
    {
     "name": "stderr",
     "output_type": "stream",
     "text": [
      " 78%|██████████████████████████████████████████████████████████████▌                 | 176/225 [02:25<00:32,  1.49it/s]"
     ]
    },
    {
     "name": "stdout",
     "output_type": "stream",
     "text": [
      "torch.Size([128, 2, 2])\n"
     ]
    },
    {
     "name": "stderr",
     "output_type": "stream",
     "text": [
      " 79%|██████████████████████████████████████████████████████████████▉                 | 177/225 [02:25<00:29,  1.63it/s]"
     ]
    },
    {
     "name": "stdout",
     "output_type": "stream",
     "text": [
      "torch.Size([128, 2, 2])\n"
     ]
    },
    {
     "name": "stderr",
     "output_type": "stream",
     "text": [
      " 79%|███████████████████████████████████████████████████████████████▎                | 178/225 [02:26<00:27,  1.73it/s]"
     ]
    },
    {
     "name": "stdout",
     "output_type": "stream",
     "text": [
      "torch.Size([128, 2, 2])\n"
     ]
    },
    {
     "name": "stderr",
     "output_type": "stream",
     "text": [
      " 80%|███████████████████████████████████████████████████████████████▋                | 179/225 [02:27<00:34,  1.35it/s]"
     ]
    },
    {
     "name": "stdout",
     "output_type": "stream",
     "text": [
      "torch.Size([128, 2, 2])\n"
     ]
    },
    {
     "name": "stderr",
     "output_type": "stream",
     "text": [
      " 80%|████████████████████████████████████████████████████████████████                | 180/225 [02:28<00:41,  1.10it/s]"
     ]
    },
    {
     "name": "stdout",
     "output_type": "stream",
     "text": [
      "torch.Size([128, 2, 2])\n"
     ]
    },
    {
     "name": "stderr",
     "output_type": "stream",
     "text": [
      " 80%|████████████████████████████████████████████████████████████████▎               | 181/225 [02:29<00:38,  1.14it/s]"
     ]
    },
    {
     "name": "stdout",
     "output_type": "stream",
     "text": [
      "torch.Size([128, 2, 2])\n"
     ]
    },
    {
     "name": "stderr",
     "output_type": "stream",
     "text": [
      " 81%|████████████████████████████████████████████████████████████████▋               | 182/225 [02:30<00:36,  1.18it/s]"
     ]
    },
    {
     "name": "stdout",
     "output_type": "stream",
     "text": [
      "torch.Size([128, 2, 2])\n"
     ]
    },
    {
     "name": "stderr",
     "output_type": "stream",
     "text": [
      " 81%|█████████████████████████████████████████████████████████████████               | 183/225 [02:31<00:43,  1.03s/it]"
     ]
    },
    {
     "name": "stdout",
     "output_type": "stream",
     "text": [
      "torch.Size([128, 2, 2])\n"
     ]
    },
    {
     "name": "stderr",
     "output_type": "stream",
     "text": [
      " 82%|█████████████████████████████████████████████████████████████████▍              | 184/225 [02:32<00:45,  1.12s/it]"
     ]
    },
    {
     "name": "stdout",
     "output_type": "stream",
     "text": [
      "torch.Size([128, 2, 2])\n"
     ]
    },
    {
     "name": "stderr",
     "output_type": "stream",
     "text": [
      " 82%|█████████████████████████████████████████████████████████████████▊              | 185/225 [02:34<00:47,  1.19s/it]"
     ]
    },
    {
     "name": "stdout",
     "output_type": "stream",
     "text": [
      "torch.Size([128, 2, 2])\n"
     ]
    },
    {
     "name": "stderr",
     "output_type": "stream",
     "text": [
      " 83%|██████████████████████████████████████████████████████████████████▏             | 186/225 [02:35<00:49,  1.26s/it]"
     ]
    },
    {
     "name": "stdout",
     "output_type": "stream",
     "text": [
      "torch.Size([128, 2, 2])\n"
     ]
    },
    {
     "name": "stderr",
     "output_type": "stream",
     "text": [
      " 83%|██████████████████████████████████████████████████████████████████▍             | 187/225 [02:37<00:50,  1.32s/it]"
     ]
    },
    {
     "name": "stdout",
     "output_type": "stream",
     "text": [
      "torch.Size([128, 2, 2])\n"
     ]
    },
    {
     "name": "stderr",
     "output_type": "stream",
     "text": [
      " 84%|██████████████████████████████████████████████████████████████████▊             | 188/225 [02:38<00:50,  1.38s/it]"
     ]
    },
    {
     "name": "stdout",
     "output_type": "stream",
     "text": [
      "torch.Size([128, 2, 2])\n"
     ]
    },
    {
     "name": "stderr",
     "output_type": "stream",
     "text": [
      " 84%|███████████████████████████████████████████████████████████████████▏            | 189/225 [02:39<00:48,  1.36s/it]"
     ]
    },
    {
     "name": "stdout",
     "output_type": "stream",
     "text": [
      "torch.Size([128, 2, 2])\n"
     ]
    },
    {
     "name": "stderr",
     "output_type": "stream",
     "text": [
      " 84%|███████████████████████████████████████████████████████████████████▌            | 190/225 [02:40<00:41,  1.19s/it]"
     ]
    },
    {
     "name": "stdout",
     "output_type": "stream",
     "text": [
      "torch.Size([128, 2, 2])\n"
     ]
    },
    {
     "name": "stderr",
     "output_type": "stream",
     "text": [
      " 85%|███████████████████████████████████████████████████████████████████▉            | 191/225 [02:41<00:35,  1.05s/it]"
     ]
    },
    {
     "name": "stdout",
     "output_type": "stream",
     "text": [
      "torch.Size([128, 2, 2])\n"
     ]
    },
    {
     "name": "stderr",
     "output_type": "stream",
     "text": [
      " 85%|████████████████████████████████████████████████████████████████████▎           | 192/225 [02:42<00:31,  1.05it/s]"
     ]
    },
    {
     "name": "stdout",
     "output_type": "stream",
     "text": [
      "torch.Size([128, 2, 2])\n"
     ]
    },
    {
     "name": "stderr",
     "output_type": "stream",
     "text": [
      " 86%|████████████████████████████████████████████████████████████████████▌           | 193/225 [02:42<00:28,  1.14it/s]"
     ]
    },
    {
     "name": "stdout",
     "output_type": "stream",
     "text": [
      "torch.Size([128, 2, 2])\n"
     ]
    },
    {
     "name": "stderr",
     "output_type": "stream",
     "text": [
      " 86%|████████████████████████████████████████████████████████████████████▉           | 194/225 [02:43<00:29,  1.05it/s]"
     ]
    },
    {
     "name": "stdout",
     "output_type": "stream",
     "text": [
      "torch.Size([128, 2, 2])\n"
     ]
    },
    {
     "name": "stderr",
     "output_type": "stream",
     "text": [
      " 87%|█████████████████████████████████████████████████████████████████████▎          | 195/225 [02:45<00:33,  1.13s/it]"
     ]
    },
    {
     "name": "stdout",
     "output_type": "stream",
     "text": [
      "torch.Size([128, 2, 2])\n"
     ]
    },
    {
     "name": "stderr",
     "output_type": "stream",
     "text": [
      " 87%|█████████████████████████████████████████████████████████████████████▋          | 196/225 [02:46<00:29,  1.02s/it]"
     ]
    },
    {
     "name": "stdout",
     "output_type": "stream",
     "text": [
      "torch.Size([128, 2, 2])\n"
     ]
    },
    {
     "name": "stderr",
     "output_type": "stream",
     "text": [
      " 88%|██████████████████████████████████████████████████████████████████████          | 197/225 [02:47<00:26,  1.06it/s]"
     ]
    },
    {
     "name": "stdout",
     "output_type": "stream",
     "text": [
      "torch.Size([128, 2, 2])\n"
     ]
    },
    {
     "name": "stderr",
     "output_type": "stream",
     "text": [
      " 88%|██████████████████████████████████████████████████████████████████████▍         | 198/225 [02:47<00:23,  1.13it/s]"
     ]
    },
    {
     "name": "stdout",
     "output_type": "stream",
     "text": [
      "torch.Size([128, 2, 2])\n"
     ]
    },
    {
     "name": "stderr",
     "output_type": "stream",
     "text": [
      " 88%|██████████████████████████████████████████████████████████████████████▊         | 199/225 [02:48<00:24,  1.06it/s]"
     ]
    },
    {
     "name": "stdout",
     "output_type": "stream",
     "text": [
      "torch.Size([128, 2, 2])\n"
     ]
    },
    {
     "name": "stderr",
     "output_type": "stream",
     "text": [
      " 89%|███████████████████████████████████████████████████████████████████████         | 200/225 [02:50<00:29,  1.17s/it]"
     ]
    },
    {
     "name": "stdout",
     "output_type": "stream",
     "text": [
      "torch.Size([128, 2, 2])\n"
     ]
    },
    {
     "name": "stderr",
     "output_type": "stream",
     "text": [
      " 89%|███████████████████████████████████████████████████████████████████████▍        | 201/225 [02:51<00:26,  1.10s/it]"
     ]
    },
    {
     "name": "stdout",
     "output_type": "stream",
     "text": [
      "torch.Size([128, 2, 2])\n"
     ]
    },
    {
     "name": "stderr",
     "output_type": "stream",
     "text": [
      " 90%|███████████████████████████████████████████████████████████████████████▊        | 202/225 [02:52<00:23,  1.02s/it]"
     ]
    },
    {
     "name": "stdout",
     "output_type": "stream",
     "text": [
      "torch.Size([128, 2, 2])\n"
     ]
    },
    {
     "name": "stderr",
     "output_type": "stream",
     "text": [
      " 90%|████████████████████████████████████████████████████████████████████████▏       | 203/225 [02:53<00:21,  1.03it/s]"
     ]
    },
    {
     "name": "stdout",
     "output_type": "stream",
     "text": [
      "torch.Size([128, 2, 2])\n"
     ]
    },
    {
     "name": "stderr",
     "output_type": "stream",
     "text": [
      " 91%|████████████████████████████████████████████████████████████████████████▌       | 204/225 [02:54<00:25,  1.19s/it]"
     ]
    },
    {
     "name": "stdout",
     "output_type": "stream",
     "text": [
      "torch.Size([128, 2, 2])\n"
     ]
    },
    {
     "name": "stderr",
     "output_type": "stream",
     "text": [
      " 91%|████████████████████████████████████████████████████████████████████████▉       | 205/225 [02:56<00:23,  1.19s/it]"
     ]
    },
    {
     "name": "stdout",
     "output_type": "stream",
     "text": [
      "torch.Size([128, 2, 2])\n"
     ]
    },
    {
     "name": "stderr",
     "output_type": "stream",
     "text": [
      " 92%|█████████████████████████████████████████████████████████████████████████▏      | 206/225 [02:56<00:20,  1.08s/it]"
     ]
    },
    {
     "name": "stdout",
     "output_type": "stream",
     "text": [
      "torch.Size([128, 2, 2])\n"
     ]
    },
    {
     "name": "stderr",
     "output_type": "stream",
     "text": [
      " 92%|█████████████████████████████████████████████████████████████████████████▌      | 207/225 [02:58<00:20,  1.14s/it]"
     ]
    },
    {
     "name": "stdout",
     "output_type": "stream",
     "text": [
      "torch.Size([128, 2, 2])\n"
     ]
    },
    {
     "name": "stderr",
     "output_type": "stream",
     "text": [
      " 92%|█████████████████████████████████████████████████████████████████████████▉      | 208/225 [02:59<00:21,  1.27s/it]"
     ]
    },
    {
     "name": "stdout",
     "output_type": "stream",
     "text": [
      "torch.Size([128, 2, 2])\n"
     ]
    },
    {
     "name": "stderr",
     "output_type": "stream",
     "text": [
      " 93%|██████████████████████████████████████████████████████████████████████████▎     | 209/225 [03:00<00:18,  1.13s/it]"
     ]
    },
    {
     "name": "stdout",
     "output_type": "stream",
     "text": [
      "torch.Size([128, 2, 2])\n"
     ]
    },
    {
     "name": "stderr",
     "output_type": "stream",
     "text": [
      " 93%|██████████████████████████████████████████████████████████████████████████▋     | 210/225 [03:01<00:15,  1.02s/it]"
     ]
    },
    {
     "name": "stdout",
     "output_type": "stream",
     "text": [
      "torch.Size([128, 2, 2])\n"
     ]
    },
    {
     "name": "stderr",
     "output_type": "stream",
     "text": [
      " 94%|███████████████████████████████████████████████████████████████████████████     | 211/225 [03:02<00:16,  1.18s/it]"
     ]
    },
    {
     "name": "stdout",
     "output_type": "stream",
     "text": [
      "torch.Size([128, 2, 2])\n"
     ]
    },
    {
     "name": "stderr",
     "output_type": "stream",
     "text": [
      " 94%|███████████████████████████████████████████████████████████████████████████▍    | 212/225 [03:04<00:15,  1.21s/it]"
     ]
    },
    {
     "name": "stdout",
     "output_type": "stream",
     "text": [
      "torch.Size([128, 2, 2])\n"
     ]
    },
    {
     "name": "stderr",
     "output_type": "stream",
     "text": [
      " 95%|███████████████████████████████████████████████████████████████████████████▋    | 213/225 [03:05<00:13,  1.14s/it]"
     ]
    },
    {
     "name": "stdout",
     "output_type": "stream",
     "text": [
      "torch.Size([128, 2, 2])\n"
     ]
    },
    {
     "name": "stderr",
     "output_type": "stream",
     "text": [
      " 95%|████████████████████████████████████████████████████████████████████████████    | 214/225 [03:06<00:12,  1.10s/it]"
     ]
    },
    {
     "name": "stdout",
     "output_type": "stream",
     "text": [
      "torch.Size([128, 2, 2])\n"
     ]
    },
    {
     "name": "stderr",
     "output_type": "stream",
     "text": [
      " 96%|████████████████████████████████████████████████████████████████████████████▍   | 215/225 [03:07<00:10,  1.06s/it]"
     ]
    },
    {
     "name": "stdout",
     "output_type": "stream",
     "text": [
      "torch.Size([128, 2, 2])\n"
     ]
    },
    {
     "name": "stderr",
     "output_type": "stream",
     "text": [
      " 96%|████████████████████████████████████████████████████████████████████████████▊   | 216/225 [03:08<00:09,  1.03s/it]"
     ]
    },
    {
     "name": "stdout",
     "output_type": "stream",
     "text": [
      "torch.Size([128, 2, 2])\n"
     ]
    },
    {
     "name": "stderr",
     "output_type": "stream",
     "text": [
      " 96%|█████████████████████████████████████████████████████████████████████████████▏  | 217/225 [03:09<00:08,  1.05s/it]"
     ]
    },
    {
     "name": "stdout",
     "output_type": "stream",
     "text": [
      "torch.Size([128, 2, 2])\n"
     ]
    },
    {
     "name": "stderr",
     "output_type": "stream",
     "text": [
      " 97%|█████████████████████████████████████████████████████████████████████████████▌  | 218/225 [03:10<00:07,  1.09s/it]"
     ]
    },
    {
     "name": "stdout",
     "output_type": "stream",
     "text": [
      "torch.Size([128, 2, 2])\n"
     ]
    },
    {
     "name": "stderr",
     "output_type": "stream",
     "text": [
      " 97%|█████████████████████████████████████████████████████████████████████████████▊  | 219/225 [03:11<00:06,  1.07s/it]"
     ]
    },
    {
     "name": "stdout",
     "output_type": "stream",
     "text": [
      "torch.Size([128, 2, 2])\n"
     ]
    },
    {
     "name": "stderr",
     "output_type": "stream",
     "text": [
      " 98%|██████████████████████████████████████████████████████████████████████████████▏ | 220/225 [03:12<00:05,  1.07s/it]"
     ]
    },
    {
     "name": "stdout",
     "output_type": "stream",
     "text": [
      "torch.Size([128, 2, 2])\n"
     ]
    },
    {
     "name": "stderr",
     "output_type": "stream",
     "text": [
      " 98%|██████████████████████████████████████████████████████████████████████████████▌ | 221/225 [03:13<00:03,  1.00it/s]"
     ]
    },
    {
     "name": "stdout",
     "output_type": "stream",
     "text": [
      "torch.Size([128, 2, 2])\n"
     ]
    },
    {
     "name": "stderr",
     "output_type": "stream",
     "text": [
      " 99%|██████████████████████████████████████████████████████████████████████████████▉ | 222/225 [03:14<00:02,  1.06it/s]"
     ]
    },
    {
     "name": "stdout",
     "output_type": "stream",
     "text": [
      "torch.Size([128, 2, 2])\n"
     ]
    },
    {
     "name": "stderr",
     "output_type": "stream",
     "text": [
      " 99%|███████████████████████████████████████████████████████████████████████████████▎| 223/225 [03:15<00:02,  1.05s/it]"
     ]
    },
    {
     "name": "stdout",
     "output_type": "stream",
     "text": [
      "torch.Size([128, 2, 2])\n"
     ]
    },
    {
     "name": "stderr",
     "output_type": "stream",
     "text": [
      "100%|███████████████████████████████████████████████████████████████████████████████▋| 224/225 [03:17<00:01,  1.28s/it]"
     ]
    },
    {
     "name": "stdout",
     "output_type": "stream",
     "text": [
      "torch.Size([128, 2, 2])\n"
     ]
    },
    {
     "name": "stderr",
     "output_type": "stream",
     "text": [
      "100%|████████████████████████████████████████████████████████████████████████████████| 225/225 [03:17<00:00,  1.14it/s]"
     ]
    },
    {
     "name": "stdout",
     "output_type": "stream",
     "text": [
      "Epoch: 0. Loss: 0.23117715120315552\n"
     ]
    },
    {
     "name": "stderr",
     "output_type": "stream",
     "text": [
      "\n"
     ]
    }
   ],
   "source": [
    "BATCH_SIZE = 100\n",
    "EPOCHS = 1\n",
    "\n",
    "for epoch in range(EPOCHS):\n",
    "    for i in tqdm(range(0, len(train_X), BATCH_SIZE)): # from 0, to the len of x, stepping BATCH_SIZE at a time. [:50] ..for now just to dev\n",
    "        #print(f\"{i}:{i+BATCH_SIZE}\")\n",
    "        batch_X = train_X[i:i+BATCH_SIZE].view(-1, 1, 50, 50)\n",
    "        batch_y = train_y[i:i+BATCH_SIZE]\n",
    "\n",
    "        net.zero_grad()\n",
    "\n",
    "        outputs = net(batch_X)\n",
    "        loss = loss_function(outputs, batch_y)\n",
    "        loss.backward()\n",
    "        optimizer.step()    # Does the update\n",
    "\n",
    "    print(f\"Epoch: {epoch}. Loss: {loss}\")"
   ]
  },
  {
   "cell_type": "code",
   "execution_count": 32,
   "metadata": {},
   "outputs": [
    {
     "name": "stderr",
     "output_type": "stream",
     "text": [
      "  0%|                                                                                 | 1/2494 [00:00<13:16,  3.13it/s]"
     ]
    },
    {
     "name": "stdout",
     "output_type": "stream",
     "text": [
      "torch.Size([128, 2, 2])\n",
      "torch.Size([128, 2, 2])\n",
      "torch.Size([128, 2, 2])\n",
      "torch.Size([128, 2, 2])\n",
      "torch.Size([128, 2, 2])\n",
      "torch.Size([128, 2, 2])\n",
      "torch.Size([128, 2, 2])\n",
      "torch.Size([128, 2, 2])\n",
      "torch.Size([128, 2, 2])\n",
      "torch.Size([128, 2, 2])\n"
     ]
    },
    {
     "name": "stderr",
     "output_type": "stream",
     "text": [
      "  1%|▋                                                                               | 22/2494 [00:00<06:39,  6.18it/s]"
     ]
    },
    {
     "name": "stdout",
     "output_type": "stream",
     "text": [
      "torch.Size([128, 2, 2])\n",
      "torch.Size([128, 2, 2])\n",
      "torch.Size([128, 2, 2])\n",
      "torch.Size([128, 2, 2])\n",
      "torch.Size([128, 2, 2])\n",
      "torch.Size([128, 2, 2])\n",
      "torch.Size([128, 2, 2])\n",
      "torch.Size([128, 2, 2])\n",
      "torch.Size([128, 2, 2])\n",
      "torch.Size([128, 2, 2])\n",
      "torch.Size([128, 2, 2])\n",
      "torch.Size([128, 2, 2])\n",
      "torch.Size([128, 2, 2])\n",
      "torch.Size([128, 2, 2])\n",
      "torch.Size([128, 2, 2])\n",
      "torch.Size([128, 2, 2])\n",
      "torch.Size([128, 2, 2])\n",
      "torch.Size([128, 2, 2])\n",
      "torch.Size([128, 2, 2])"
     ]
    },
    {
     "name": "stderr",
     "output_type": "stream",
     "text": [
      "  2%|█▍                                                                              | 43/2494 [00:00<03:26, 11.85it/s]"
     ]
    },
    {
     "name": "stdout",
     "output_type": "stream",
     "text": [
      "\n",
      "torch.Size([128, 2, 2])\n",
      "torch.Size([128, 2, 2])\n",
      "torch.Size([128, 2, 2])\n",
      "torch.Size([128, 2, 2])\n",
      "torch.Size([128, 2, 2])\n",
      "torch.Size([128, 2, 2])\n",
      "torch.Size([128, 2, 2])\n",
      "torch.Size([128, 2, 2])\n",
      "torch.Size([128, 2, 2])\n",
      "torch.Size([128, 2, 2])\n",
      "torch.Size([128, 2, 2])\n",
      "torch.Size([128, 2, 2])\n",
      "torch.Size([128, 2, 2])\n",
      "torch.Size([128, 2, 2])\n",
      "torch.Size([128, 2, 2])\n",
      "torch.Size([128, 2, 2])\n",
      "torch.Size([128, 2, 2])\n",
      "torch.Size([128, 2, 2])"
     ]
    },
    {
     "name": "stderr",
     "output_type": "stream",
     "text": [
      "  3%|██                                                                              | 63/2494 [00:00<01:53, 21.47it/s]"
     ]
    },
    {
     "name": "stdout",
     "output_type": "stream",
     "text": [
      "\n",
      "torch.Size([128, 2, 2])\n",
      "torch.Size([128, 2, 2])\n",
      "torch.Size([128, 2, 2])\n",
      "torch.Size([128, 2, 2])\n",
      "torch.Size([128, 2, 2])\n",
      "torch.Size([128, 2, 2])\n",
      "torch.Size([128, 2, 2])\n",
      "torch.Size([128, 2, 2])\n",
      "torch.Size([128, 2, 2])\n",
      "torch.Size([128, 2, 2])\n",
      "torch.Size([128, 2, 2])\n",
      "torch.Size([128, 2, 2])\n",
      "torch.Size([128, 2, 2])\n",
      "torch.Size([128, 2, 2])\n",
      "torch.Size([128, 2, 2])\n",
      "torch.Size([128, 2, 2])\n",
      "torch.Size([128, 2, 2])\n",
      "torch.Size([128, 2, 2])"
     ]
    },
    {
     "name": "stderr",
     "output_type": "stream",
     "text": [
      "  3%|██▎                                                                             | 72/2494 [00:01<01:27, 27.56it/s]"
     ]
    },
    {
     "name": "stdout",
     "output_type": "stream",
     "text": [
      "\n",
      "torch.Size([128, 2, 2])\n",
      "torch.Size([128, 2, 2])\n",
      "torch.Size([128, 2, 2])\n",
      "torch.Size([128, 2, 2])\n",
      "torch.Size([128, 2, 2])\n",
      "torch.Size([128, 2, 2])\n",
      "torch.Size([128, 2, 2])\n",
      "torch.Size([128, 2, 2])\n",
      "torch.Size([128, 2, 2])\n",
      "torch.Size([128, 2, 2])\n",
      "torch.Size([128, 2, 2])\n",
      "torch.Size([128, 2, 2])\n",
      "torch.Size([128, 2, 2])\n",
      "torch.Size([128, 2, 2])\n",
      "torch.Size([128, 2, 2])\n"
     ]
    },
    {
     "name": "stderr",
     "output_type": "stream",
     "text": [
      "  4%|██▉                                                                             | 90/2494 [00:01<00:57, 41.81it/s]"
     ]
    },
    {
     "name": "stdout",
     "output_type": "stream",
     "text": [
      "torch.Size([128, 2, 2])\n",
      "torch.Size([128, 2, 2])\n",
      "torch.Size([128, 2, 2])\n",
      "torch.Size([128, 2, 2])\n",
      "torch.Size([128, 2, 2])\n",
      "torch.Size([128, 2, 2])\n",
      "torch.Size([128, 2, 2])\n",
      "torch.Size([128, 2, 2])\n",
      "torch.Size([128, 2, 2])\n",
      "torch.Size([128, 2, 2])\n",
      "torch.Size([128, 2, 2])\n",
      "torch.Size([128, 2, 2])\n",
      "torch.Size([128, 2, 2])\n",
      "torch.Size([128, 2, 2])\n",
      "torch.Size([128, 2, 2])\n",
      "torch.Size([128, 2, 2])\n",
      "torch.Size([128, 2, 2])\n",
      "torch.Size([128, 2, 2])\n",
      "torch.Size([128, 2, 2])"
     ]
    },
    {
     "name": "stderr",
     "output_type": "stream",
     "text": [
      "  5%|███▌                                                                           | 113/2494 [00:01<00:40, 59.18it/s]"
     ]
    },
    {
     "name": "stdout",
     "output_type": "stream",
     "text": [
      "\n",
      "torch.Size([128, 2, 2])\n",
      "torch.Size([128, 2, 2])\n",
      "torch.Size([128, 2, 2])\n",
      "torch.Size([128, 2, 2])\n",
      "torch.Size([128, 2, 2])\n",
      "torch.Size([128, 2, 2])\n",
      "torch.Size([128, 2, 2])\n",
      "torch.Size([128, 2, 2])\n",
      "torch.Size([128, 2, 2])\n",
      "torch.Size([128, 2, 2])\n",
      "torch.Size([128, 2, 2])\n",
      "torch.Size([128, 2, 2])\n",
      "torch.Size([128, 2, 2])\n",
      "torch.Size([128, 2, 2])\n",
      "torch.Size([128, 2, 2])\n",
      "torch.Size([128, 2, 2])\n",
      "torch.Size([128, 2, 2])\n",
      "torch.Size([128, 2, 2])"
     ]
    },
    {
     "name": "stderr",
     "output_type": "stream",
     "text": [
      "  5%|████▎                                                                          | 137/2494 [00:01<00:29, 79.44it/s]"
     ]
    },
    {
     "name": "stdout",
     "output_type": "stream",
     "text": [
      "\n",
      "torch.Size([128, 2, 2])\n",
      "torch.Size([128, 2, 2])\n",
      "torch.Size([128, 2, 2])\n",
      "torch.Size([128, 2, 2])\n",
      "torch.Size([128, 2, 2])\n",
      "torch.Size([128, 2, 2])\n",
      "torch.Size([128, 2, 2])\n",
      "torch.Size([128, 2, 2])\n",
      "torch.Size([128, 2, 2])\n",
      "torch.Size([128, 2, 2])\n",
      "torch.Size([128, 2, 2])\n",
      "torch.Size([128, 2, 2])\n",
      "torch.Size([128, 2, 2])\n",
      "torch.Size([128, 2, 2])\n",
      "torch.Size([128, 2, 2])\n",
      "torch.Size([128, 2, 2])\n",
      "torch.Size([128, 2, 2])\n",
      "torch.Size([128, 2, 2])\n",
      "torch.Size([128, 2, 2])\n",
      "torch.Size([128, 2, 2])\n",
      "torch.Size([128, 2, 2])\n",
      "torch.Size([128, 2, 2])"
     ]
    },
    {
     "name": "stderr",
     "output_type": "stream",
     "text": [
      "  6%|████▋                                                                          | 149/2494 [00:01<00:27, 86.70it/s]"
     ]
    },
    {
     "name": "stdout",
     "output_type": "stream",
     "text": [
      "\n",
      "torch.Size([128, 2, 2])\n",
      "torch.Size([128, 2, 2])\n",
      "torch.Size([128, 2, 2])\n",
      "torch.Size([128, 2, 2])\n",
      "torch.Size([128, 2, 2])\n",
      "torch.Size([128, 2, 2])\n",
      "torch.Size([128, 2, 2])\n",
      "torch.Size([128, 2, 2])\n",
      "torch.Size([128, 2, 2])\n",
      "torch.Size([128, 2, 2])\n",
      "torch.Size([128, 2, 2])\n",
      "torch.Size([128, 2, 2])\n",
      "torch.Size([128, 2, 2])\n",
      "torch.Size([128, 2, 2])\n",
      "torch.Size([128, 2, 2])\n",
      "torch.Size([128, 2, 2])\n",
      "torch.Size([128, 2, 2])\n",
      "torch.Size([128, 2, 2])\n",
      "torch.Size([128, 2, 2])\n",
      "torch.Size([128, 2, 2])\n",
      "torch.Size([128, 2, 2])\n",
      "torch.Size([128, 2, 2])\n",
      "torch.Size([128, 2, 2])"
     ]
    },
    {
     "name": "stderr",
     "output_type": "stream",
     "text": [
      "  7%|█████▍                                                                        | 174/2494 [00:02<00:22, 100.87it/s]"
     ]
    },
    {
     "name": "stdout",
     "output_type": "stream",
     "text": [
      "\n",
      "torch.Size([128, 2, 2])\n",
      "torch.Size([128, 2, 2])\n",
      "torch.Size([128, 2, 2])\n",
      "torch.Size([128, 2, 2])\n",
      "torch.Size([128, 2, 2])\n",
      "torch.Size([128, 2, 2])\n",
      "torch.Size([128, 2, 2])\n",
      "torch.Size([128, 2, 2])\n",
      "torch.Size([128, 2, 2])\n",
      "torch.Size([128, 2, 2])\n",
      "torch.Size([128, 2, 2])\n",
      "torch.Size([128, 2, 2])\n",
      "torch.Size([128, 2, 2])\n",
      "torch.Size([128, 2, 2])\n",
      "torch.Size([128, 2, 2])\n",
      "torch.Size([128, 2, 2])\n",
      "torch.Size([128, 2, 2])\n",
      "torch.Size([128, 2, 2])\n",
      "torch.Size([128, 2, 2])\n",
      "torch.Size([128, 2, 2])"
     ]
    },
    {
     "name": "stderr",
     "output_type": "stream",
     "text": [
      "  8%|██████▏                                                                        | 197/2494 [00:02<00:24, 92.71it/s]"
     ]
    },
    {
     "name": "stdout",
     "output_type": "stream",
     "text": [
      "\n",
      "torch.Size([128, 2, 2])\n",
      "torch.Size([128, 2, 2])\n",
      "torch.Size([128, 2, 2])\n",
      "torch.Size([128, 2, 2])\n",
      "torch.Size([128, 2, 2])\n",
      "torch.Size([128, 2, 2])\n",
      "torch.Size([128, 2, 2])\n",
      "torch.Size([128, 2, 2])\n",
      "torch.Size([128, 2, 2])\n",
      "torch.Size([128, 2, 2])\n",
      "torch.Size([128, 2, 2])\n",
      "torch.Size([128, 2, 2])\n",
      "torch.Size([128, 2, 2])\n",
      "torch.Size([128, 2, 2])\n",
      "torch.Size([128, 2, 2])\n",
      "torch.Size([128, 2, 2])"
     ]
    },
    {
     "name": "stderr",
     "output_type": "stream",
     "text": [
      "  8%|██████▌                                                                        | 207/2494 [00:02<00:26, 86.22it/s]"
     ]
    },
    {
     "name": "stdout",
     "output_type": "stream",
     "text": [
      "\n",
      "torch.Size([128, 2, 2])\n",
      "torch.Size([128, 2, 2])\n",
      "torch.Size([128, 2, 2])\n",
      "torch.Size([128, 2, 2])\n",
      "torch.Size([128, 2, 2])\n",
      "torch.Size([128, 2, 2])\n",
      "torch.Size([128, 2, 2])\n",
      "torch.Size([128, 2, 2])\n",
      "torch.Size([128, 2, 2])\n",
      "torch.Size([128, 2, 2])\n",
      "torch.Size([128, 2, 2])\n",
      "torch.Size([128, 2, 2])\n",
      "torch.Size([128, 2, 2])\n",
      "torch.Size([128, 2, 2])"
     ]
    },
    {
     "name": "stderr",
     "output_type": "stream",
     "text": [
      "  9%|███████▏                                                                       | 228/2494 [00:02<00:25, 88.99it/s]"
     ]
    },
    {
     "name": "stdout",
     "output_type": "stream",
     "text": [
      "\n",
      "torch.Size([128, 2, 2])\n",
      "torch.Size([128, 2, 2])\n",
      "torch.Size([128, 2, 2])\n",
      "torch.Size([128, 2, 2])\n",
      "torch.Size([128, 2, 2])\n",
      "torch.Size([128, 2, 2])\n",
      "torch.Size([128, 2, 2])\n",
      "torch.Size([128, 2, 2])\n",
      "torch.Size([128, 2, 2])\n",
      "torch.Size([128, 2, 2])\n",
      "torch.Size([128, 2, 2])\n",
      "torch.Size([128, 2, 2])\n",
      "torch.Size([128, 2, 2])\n",
      "torch.Size([128, 2, 2])\n",
      "torch.Size([128, 2, 2])\n",
      "torch.Size([128, 2, 2])\n",
      "torch.Size([128, 2, 2])"
     ]
    },
    {
     "name": "stderr",
     "output_type": "stream",
     "text": [
      " 10%|███████▌                                                                       | 238/2494 [00:02<00:24, 91.71it/s]"
     ]
    },
    {
     "name": "stdout",
     "output_type": "stream",
     "text": [
      "\n",
      "torch.Size([128, 2, 2])\n",
      "torch.Size([128, 2, 2])\n",
      "torch.Size([128, 2, 2])\n",
      "torch.Size([128, 2, 2])\n",
      "torch.Size([128, 2, 2])\n",
      "torch.Size([128, 2, 2])\n",
      "torch.Size([128, 2, 2])\n",
      "torch.Size([128, 2, 2])\n",
      "torch.Size([128, 2, 2])\n",
      "torch.Size([128, 2, 2])\n",
      "torch.Size([128, 2, 2])\n",
      "torch.Size([128, 2, 2])\n",
      "torch.Size([128, 2, 2])\n",
      "torch.Size([128, 2, 2])\n",
      "torch.Size([128, 2, 2])\n",
      "torch.Size([128, 2, 2])\n",
      "torch.Size([128, 2, 2])"
     ]
    },
    {
     "name": "stderr",
     "output_type": "stream",
     "text": [
      " 10%|████████▏                                                                      | 258/2494 [00:02<00:25, 89.26it/s]"
     ]
    },
    {
     "name": "stdout",
     "output_type": "stream",
     "text": [
      "\n",
      "torch.Size([128, 2, 2])\n",
      "torch.Size([128, 2, 2])\n",
      "torch.Size([128, 2, 2])\n",
      "torch.Size([128, 2, 2])\n",
      "torch.Size([128, 2, 2])\n",
      "torch.Size([128, 2, 2])\n",
      "torch.Size([128, 2, 2])\n",
      "torch.Size([128, 2, 2])\n",
      "torch.Size([128, 2, 2])\n",
      "torch.Size([128, 2, 2])\n",
      "torch.Size([128, 2, 2])\n",
      "torch.Size([128, 2, 2])\n",
      "torch.Size([128, 2, 2])\n",
      "torch.Size([128, 2, 2])\n",
      "torch.Size([128, 2, 2])\n",
      "torch.Size([128, 2, 2])"
     ]
    },
    {
     "name": "stderr",
     "output_type": "stream",
     "text": [
      " 11%|████████▍                                                                      | 268/2494 [00:03<00:27, 80.65it/s]"
     ]
    },
    {
     "name": "stdout",
     "output_type": "stream",
     "text": [
      "\n",
      "torch.Size([128, 2, 2])\n",
      "torch.Size([128, 2, 2])\n",
      "torch.Size([128, 2, 2])\n",
      "torch.Size([128, 2, 2])\n",
      "torch.Size([128, 2, 2])\n",
      "torch.Size([128, 2, 2])\n",
      "torch.Size([128, 2, 2])\n",
      "torch.Size([128, 2, 2])\n",
      "torch.Size([128, 2, 2])\n",
      "torch.Size([128, 2, 2])\n",
      "torch.Size([128, 2, 2])\n",
      "torch.Size([128, 2, 2])\n",
      "torch.Size([128, 2, 2])"
     ]
    },
    {
     "name": "stderr",
     "output_type": "stream",
     "text": [
      " 11%|█████████                                                                      | 286/2494 [00:03<00:26, 82.27it/s]"
     ]
    },
    {
     "name": "stdout",
     "output_type": "stream",
     "text": [
      "\n",
      "torch.Size([128, 2, 2])\n",
      "torch.Size([128, 2, 2])\n",
      "torch.Size([128, 2, 2])\n",
      "torch.Size([128, 2, 2])\n",
      "torch.Size([128, 2, 2])\n",
      "torch.Size([128, 2, 2])\n",
      "torch.Size([128, 2, 2])\n",
      "torch.Size([128, 2, 2])\n",
      "torch.Size([128, 2, 2])\n",
      "torch.Size([128, 2, 2])\n",
      "torch.Size([128, 2, 2])\n",
      "torch.Size([128, 2, 2])\n",
      "torch.Size([128, 2, 2])\n",
      "torch.Size([128, 2, 2])\n",
      "torch.Size([128, 2, 2])\n",
      "torch.Size([128, 2, 2])\n",
      "torch.Size([128, 2, 2])"
     ]
    },
    {
     "name": "stderr",
     "output_type": "stream",
     "text": [
      " 12%|█████████▋                                                                     | 306/2494 [00:03<00:24, 90.51it/s]"
     ]
    },
    {
     "name": "stdout",
     "output_type": "stream",
     "text": [
      "\n",
      "torch.Size([128, 2, 2])\n",
      "torch.Size([128, 2, 2])\n",
      "torch.Size([128, 2, 2])\n",
      "torch.Size([128, 2, 2])\n",
      "torch.Size([128, 2, 2])\n",
      "torch.Size([128, 2, 2])\n",
      "torch.Size([128, 2, 2])\n",
      "torch.Size([128, 2, 2])\n",
      "torch.Size([128, 2, 2])\n",
      "torch.Size([128, 2, 2])\n",
      "torch.Size([128, 2, 2])\n",
      "torch.Size([128, 2, 2])\n",
      "torch.Size([128, 2, 2])\n",
      "torch.Size([128, 2, 2])\n",
      "torch.Size([128, 2, 2])\n",
      "torch.Size([128, 2, 2])\n",
      "torch.Size([128, 2, 2])\n",
      "torch.Size([128, 2, 2])\n",
      "torch.Size([128, 2, 2])"
     ]
    },
    {
     "name": "stderr",
     "output_type": "stream",
     "text": [
      " 13%|██████████▎                                                                    | 327/2494 [00:03<00:22, 95.45it/s]"
     ]
    },
    {
     "name": "stdout",
     "output_type": "stream",
     "text": [
      "\n",
      "torch.Size([128, 2, 2])\n",
      "torch.Size([128, 2, 2])\n",
      "torch.Size([128, 2, 2])\n",
      "torch.Size([128, 2, 2])\n",
      "torch.Size([128, 2, 2])\n",
      "torch.Size([128, 2, 2])\n",
      "torch.Size([128, 2, 2])\n",
      "torch.Size([128, 2, 2])\n",
      "torch.Size([128, 2, 2])\n",
      "torch.Size([128, 2, 2])\n",
      "torch.Size([128, 2, 2])\n",
      "torch.Size([128, 2, 2])\n",
      "torch.Size([128, 2, 2])\n",
      "torch.Size([128, 2, 2])\n",
      "torch.Size([128, 2, 2])\n",
      "torch.Size([128, 2, 2])\n",
      "torch.Size([128, 2, 2])\n",
      "torch.Size([128, 2, 2])\n",
      "torch.Size([128, 2, 2])"
     ]
    },
    {
     "name": "stderr",
     "output_type": "stream",
     "text": [
      " 14%|███████████                                                                    | 348/2494 [00:03<00:21, 99.93it/s]"
     ]
    },
    {
     "name": "stdout",
     "output_type": "stream",
     "text": [
      "\n",
      "torch.Size([128, 2, 2])\n",
      "torch.Size([128, 2, 2])\n",
      "torch.Size([128, 2, 2])\n",
      "torch.Size([128, 2, 2])\n",
      "torch.Size([128, 2, 2])\n",
      "torch.Size([128, 2, 2])\n",
      "torch.Size([128, 2, 2])\n",
      "torch.Size([128, 2, 2])\n",
      "torch.Size([128, 2, 2])\n",
      "torch.Size([128, 2, 2])\n",
      "torch.Size([128, 2, 2])\n",
      "torch.Size([128, 2, 2])\n",
      "torch.Size([128, 2, 2])\n",
      "torch.Size([128, 2, 2])\n",
      "torch.Size([128, 2, 2])\n",
      "torch.Size([128, 2, 2])\n",
      "torch.Size([128, 2, 2])\n",
      "torch.Size([128, 2, 2])\n",
      "torch.Size([128, 2, 2])\n",
      "torch.Size([128, 2, 2])"
     ]
    },
    {
     "name": "stderr",
     "output_type": "stream",
     "text": [
      " 14%|███████████▎                                                                   | 359/2494 [00:04<00:22, 96.26it/s]"
     ]
    },
    {
     "name": "stdout",
     "output_type": "stream",
     "text": [
      "\n",
      "torch.Size([128, 2, 2])\n",
      "torch.Size([128, 2, 2])\n",
      "torch.Size([128, 2, 2])\n",
      "torch.Size([128, 2, 2])\n",
      "torch.Size([128, 2, 2])\n",
      "torch.Size([128, 2, 2])\n",
      "torch.Size([128, 2, 2])\n",
      "torch.Size([128, 2, 2])\n",
      "torch.Size([128, 2, 2])\n",
      "torch.Size([128, 2, 2])\n",
      "torch.Size([128, 2, 2])\n",
      "torch.Size([128, 2, 2])\n",
      "torch.Size([128, 2, 2])\n",
      "torch.Size([128, 2, 2])\n",
      "torch.Size([128, 2, 2])"
     ]
    },
    {
     "name": "stderr",
     "output_type": "stream",
     "text": [
      " 15%|████████████                                                                   | 380/2494 [00:04<00:22, 94.53it/s]"
     ]
    },
    {
     "name": "stdout",
     "output_type": "stream",
     "text": [
      "\n",
      "torch.Size([128, 2, 2])\n",
      "torch.Size([128, 2, 2])\n",
      "torch.Size([128, 2, 2])\n",
      "torch.Size([128, 2, 2])\n",
      "torch.Size([128, 2, 2])\n",
      "torch.Size([128, 2, 2])\n",
      "torch.Size([128, 2, 2])\n",
      "torch.Size([128, 2, 2])\n",
      "torch.Size([128, 2, 2])\n",
      "torch.Size([128, 2, 2])\n",
      "torch.Size([128, 2, 2])\n",
      "torch.Size([128, 2, 2])\n",
      "torch.Size([128, 2, 2])\n",
      "torch.Size([128, 2, 2])\n",
      "torch.Size([128, 2, 2])\n",
      "torch.Size([128, 2, 2])\n",
      "torch.Size([128, 2, 2])\n",
      "torch.Size([128, 2, 2])\n",
      "torch.Size([128, 2, 2])"
     ]
    },
    {
     "name": "stderr",
     "output_type": "stream",
     "text": [
      " 16%|████████████▋                                                                  | 401/2494 [00:04<00:21, 96.80it/s]"
     ]
    },
    {
     "name": "stdout",
     "output_type": "stream",
     "text": [
      "\n",
      "torch.Size([128, 2, 2])\n",
      "torch.Size([128, 2, 2])\n",
      "torch.Size([128, 2, 2])\n",
      "torch.Size([128, 2, 2])\n",
      "torch.Size([128, 2, 2])\n",
      "torch.Size([128, 2, 2])\n",
      "torch.Size([128, 2, 2])\n",
      "torch.Size([128, 2, 2])\n",
      "torch.Size([128, 2, 2])\n",
      "torch.Size([128, 2, 2])\n",
      "torch.Size([128, 2, 2])\n",
      "torch.Size([128, 2, 2])\n",
      "torch.Size([128, 2, 2])\n",
      "torch.Size([128, 2, 2])\n",
      "torch.Size([128, 2, 2])\n",
      "torch.Size([128, 2, 2])\n",
      "torch.Size([128, 2, 2])\n",
      "torch.Size([128, 2, 2])\n",
      "torch.Size([128, 2, 2])"
     ]
    },
    {
     "name": "stderr",
     "output_type": "stream",
     "text": [
      " 17%|████████████▉                                                                 | 413/2494 [00:04<00:20, 100.96it/s]"
     ]
    },
    {
     "name": "stdout",
     "output_type": "stream",
     "text": [
      "\n",
      "torch.Size([128, 2, 2])\n",
      "torch.Size([128, 2, 2])\n",
      "torch.Size([128, 2, 2])\n",
      "torch.Size([128, 2, 2])\n",
      "torch.Size([128, 2, 2])\n",
      "torch.Size([128, 2, 2])\n",
      "torch.Size([128, 2, 2])\n",
      "torch.Size([128, 2, 2])\n",
      "torch.Size([128, 2, 2])\n",
      "torch.Size([128, 2, 2])\n",
      "torch.Size([128, 2, 2])\n",
      "torch.Size([128, 2, 2])\n",
      "torch.Size([128, 2, 2])\n",
      "torch.Size([128, 2, 2])\n",
      "torch.Size([128, 2, 2])\n",
      "torch.Size([128, 2, 2])\n",
      "torch.Size([128, 2, 2])\n",
      "torch.Size([128, 2, 2])\n",
      "torch.Size([128, 2, 2])\n",
      "torch.Size([128, 2, 2])\n",
      "torch.Size([128, 2, 2])"
     ]
    },
    {
     "name": "stderr",
     "output_type": "stream",
     "text": [
      " 18%|█████████████▊                                                                 | 437/2494 [00:04<00:21, 96.36it/s]"
     ]
    },
    {
     "name": "stdout",
     "output_type": "stream",
     "text": [
      "\n",
      "torch.Size([128, 2, 2])\n",
      "torch.Size([128, 2, 2])\n",
      "torch.Size([128, 2, 2])\n",
      "torch.Size([128, 2, 2])\n",
      "torch.Size([128, 2, 2])\n",
      "torch.Size([128, 2, 2])\n",
      "torch.Size([128, 2, 2])\n",
      "torch.Size([128, 2, 2])\n",
      "torch.Size([128, 2, 2])\n",
      "torch.Size([128, 2, 2])\n",
      "torch.Size([128, 2, 2])\n",
      "torch.Size([128, 2, 2])\n",
      "torch.Size([128, 2, 2])\n",
      "torch.Size([128, 2, 2])\n",
      "torch.Size([128, 2, 2])"
     ]
    },
    {
     "name": "stderr",
     "output_type": "stream",
     "text": [
      " 18%|██████████████▏                                                                | 447/2494 [00:05<00:25, 81.69it/s]"
     ]
    },
    {
     "name": "stdout",
     "output_type": "stream",
     "text": [
      "\n",
      "torch.Size([128, 2, 2])\n",
      "torch.Size([128, 2, 2])\n",
      "torch.Size([128, 2, 2])\n",
      "torch.Size([128, 2, 2])\n",
      "torch.Size([128, 2, 2])\n",
      "torch.Size([128, 2, 2])\n",
      "torch.Size([128, 2, 2])\n",
      "torch.Size([128, 2, 2])\n",
      "torch.Size([128, 2, 2])\n",
      "torch.Size([128, 2, 2])\n",
      "torch.Size([128, 2, 2])\n",
      "torch.Size([128, 2, 2])\n"
     ]
    },
    {
     "name": "stderr",
     "output_type": "stream",
     "text": [
      " 19%|██████████████▊                                                                | 468/2494 [00:05<00:23, 86.27it/s]"
     ]
    },
    {
     "name": "stdout",
     "output_type": "stream",
     "text": [
      "torch.Size([128, 2, 2])\n",
      "torch.Size([128, 2, 2])\n",
      "torch.Size([128, 2, 2])\n",
      "torch.Size([128, 2, 2])\n",
      "torch.Size([128, 2, 2])\n",
      "torch.Size([128, 2, 2])\n",
      "torch.Size([128, 2, 2])\n",
      "torch.Size([128, 2, 2])\n",
      "torch.Size([128, 2, 2])\n",
      "torch.Size([128, 2, 2])\n",
      "torch.Size([128, 2, 2])\n",
      "torch.Size([128, 2, 2])\n",
      "torch.Size([128, 2, 2])\n",
      "torch.Size([128, 2, 2])\n",
      "torch.Size([128, 2, 2])\n",
      "torch.Size([128, 2, 2])\n",
      "torch.Size([128, 2, 2])\n",
      "torch.Size([128, 2, 2])\n",
      "torch.Size([128, 2, 2])\n",
      "torch.Size([128, 2, 2])\n",
      "torch.Size([128, 2, 2])\n",
      "torch.Size([128, 2, 2])"
     ]
    },
    {
     "name": "stderr",
     "output_type": "stream",
     "text": [
      " 20%|███████████████▌                                                               | 492/2494 [00:05<00:20, 97.73it/s]"
     ]
    },
    {
     "name": "stdout",
     "output_type": "stream",
     "text": [
      "\n",
      "torch.Size([128, 2, 2])\n",
      "torch.Size([128, 2, 2])\n",
      "torch.Size([128, 2, 2])\n",
      "torch.Size([128, 2, 2])\n",
      "torch.Size([128, 2, 2])\n",
      "torch.Size([128, 2, 2])\n",
      "torch.Size([128, 2, 2])\n",
      "torch.Size([128, 2, 2])\n",
      "torch.Size([128, 2, 2])\n",
      "torch.Size([128, 2, 2])\n",
      "torch.Size([128, 2, 2])\n",
      "torch.Size([128, 2, 2])\n",
      "torch.Size([128, 2, 2])\n",
      "torch.Size([128, 2, 2])\n",
      "torch.Size([128, 2, 2])\n",
      "torch.Size([128, 2, 2])\n",
      "torch.Size([128, 2, 2])\n",
      "torch.Size([128, 2, 2])\n",
      "torch.Size([128, 2, 2])\n",
      "torch.Size([128, 2, 2])\n",
      "torch.Size([128, 2, 2])"
     ]
    },
    {
     "name": "stderr",
     "output_type": "stream",
     "text": [
      " 20%|███████████████▋                                                              | 503/2494 [00:05<00:19, 100.56it/s]"
     ]
    },
    {
     "name": "stdout",
     "output_type": "stream",
     "text": [
      "\n",
      "torch.Size([128, 2, 2])\n",
      "torch.Size([128, 2, 2])\n",
      "torch.Size([128, 2, 2])\n",
      "torch.Size([128, 2, 2])\n",
      "torch.Size([128, 2, 2])\n",
      "torch.Size([128, 2, 2])\n",
      "torch.Size([128, 2, 2])\n",
      "torch.Size([128, 2, 2])\n",
      "torch.Size([128, 2, 2])\n",
      "torch.Size([128, 2, 2])\n",
      "torch.Size([128, 2, 2])\n",
      "torch.Size([128, 2, 2])\n",
      "torch.Size([128, 2, 2])\n",
      "torch.Size([128, 2, 2])\n",
      "torch.Size([128, 2, 2])\n",
      "torch.Size([128, 2, 2])\n",
      "torch.Size([128, 2, 2])\n",
      "torch.Size([128, 2, 2])\n",
      "torch.Size([128, 2, 2])\n",
      "torch.Size([128, 2, 2])\n",
      "torch.Size([128, 2, 2])"
     ]
    },
    {
     "name": "stderr",
     "output_type": "stream",
     "text": [
      " 21%|████████████████▌                                                             | 528/2494 [00:05<00:17, 110.19it/s]"
     ]
    },
    {
     "name": "stdout",
     "output_type": "stream",
     "text": [
      "\n",
      "torch.Size([128, 2, 2])\n",
      "torch.Size([128, 2, 2])\n",
      "torch.Size([128, 2, 2])\n",
      "torch.Size([128, 2, 2])\n",
      "torch.Size([128, 2, 2])\n",
      "torch.Size([128, 2, 2])\n",
      "torch.Size([128, 2, 2])\n",
      "torch.Size([128, 2, 2])\n",
      "torch.Size([128, 2, 2])\n",
      "torch.Size([128, 2, 2])\n",
      "torch.Size([128, 2, 2])\n",
      "torch.Size([128, 2, 2])\n",
      "torch.Size([128, 2, 2])\n",
      "torch.Size([128, 2, 2])\n",
      "torch.Size([128, 2, 2])\n",
      "torch.Size([128, 2, 2])\n",
      "torch.Size([128, 2, 2])\n",
      "torch.Size([128, 2, 2])\n",
      "torch.Size([128, 2, 2])\n",
      "torch.Size([128, 2, 2])\n",
      "torch.Size([128, 2, 2])"
     ]
    },
    {
     "name": "stderr",
     "output_type": "stream",
     "text": [
      " 22%|█████████████████▎                                                            | 552/2494 [00:06<00:17, 107.94it/s]"
     ]
    },
    {
     "name": "stdout",
     "output_type": "stream",
     "text": [
      "\n",
      "torch.Size([128, 2, 2])\n",
      "torch.Size([128, 2, 2])\n",
      "torch.Size([128, 2, 2])\n",
      "torch.Size([128, 2, 2])\n",
      "torch.Size([128, 2, 2])\n",
      "torch.Size([128, 2, 2])\n",
      "torch.Size([128, 2, 2])\n",
      "torch.Size([128, 2, 2])\n",
      "torch.Size([128, 2, 2])\n",
      "torch.Size([128, 2, 2])\n",
      "torch.Size([128, 2, 2])\n",
      "torch.Size([128, 2, 2])\n",
      "torch.Size([128, 2, 2])\n",
      "torch.Size([128, 2, 2])\n",
      "torch.Size([128, 2, 2])\n",
      "torch.Size([128, 2, 2])\n",
      "torch.Size([128, 2, 2])\n",
      "torch.Size([128, 2, 2])\n",
      "torch.Size([128, 2, 2])\n",
      "torch.Size([128, 2, 2])\n",
      "torch.Size([128, 2, 2])"
     ]
    },
    {
     "name": "stderr",
     "output_type": "stream",
     "text": [
      " 23%|██████████████████                                                            | 576/2494 [00:06<00:16, 112.95it/s]"
     ]
    },
    {
     "name": "stdout",
     "output_type": "stream",
     "text": [
      "\n",
      "torch.Size([128, 2, 2])\n",
      "torch.Size([128, 2, 2])\n",
      "torch.Size([128, 2, 2])\n",
      "torch.Size([128, 2, 2])\n",
      "torch.Size([128, 2, 2])\n",
      "torch.Size([128, 2, 2])\n",
      "torch.Size([128, 2, 2])\n",
      "torch.Size([128, 2, 2])\n",
      "torch.Size([128, 2, 2])\n",
      "torch.Size([128, 2, 2])\n",
      "torch.Size([128, 2, 2])\n",
      "torch.Size([128, 2, 2])\n",
      "torch.Size([128, 2, 2])\n",
      "torch.Size([128, 2, 2])\n",
      "torch.Size([128, 2, 2])\n",
      "torch.Size([128, 2, 2])\n",
      "torch.Size([128, 2, 2])\n",
      "torch.Size([128, 2, 2])\n",
      "torch.Size([128, 2, 2])\n",
      "torch.Size([128, 2, 2])\n",
      "torch.Size([128, 2, 2])\n",
      "torch.Size([128, 2, 2])"
     ]
    },
    {
     "name": "stderr",
     "output_type": "stream",
     "text": [
      " 24%|██████████████████▍                                                           | 589/2494 [00:06<00:16, 116.33it/s]"
     ]
    },
    {
     "name": "stdout",
     "output_type": "stream",
     "text": [
      "\n",
      "torch.Size([128, 2, 2])\n",
      "torch.Size([128, 2, 2])\n",
      "torch.Size([128, 2, 2])\n",
      "torch.Size([128, 2, 2])\n",
      "torch.Size([128, 2, 2])\n",
      "torch.Size([128, 2, 2])\n",
      "torch.Size([128, 2, 2])\n",
      "torch.Size([128, 2, 2])\n",
      "torch.Size([128, 2, 2])\n",
      "torch.Size([128, 2, 2])\n",
      "torch.Size([128, 2, 2])\n",
      "torch.Size([128, 2, 2])\n",
      "torch.Size([128, 2, 2])\n",
      "torch.Size([128, 2, 2])\n",
      "torch.Size([128, 2, 2])\n",
      "torch.Size([128, 2, 2])\n",
      "torch.Size([128, 2, 2])\n",
      "torch.Size([128, 2, 2])\n",
      "torch.Size([128, 2, 2])\n",
      "torch.Size([128, 2, 2])\n",
      "torch.Size([128, 2, 2])\n",
      "torch.Size([128, 2, 2])\n",
      "torch.Size([128, 2, 2])"
     ]
    },
    {
     "name": "stderr",
     "output_type": "stream",
     "text": [
      " 25%|███████████████████▏                                                          | 614/2494 [00:06<00:15, 117.55it/s]"
     ]
    },
    {
     "name": "stdout",
     "output_type": "stream",
     "text": [
      "\n",
      "torch.Size([128, 2, 2])\n",
      "torch.Size([128, 2, 2])\n",
      "torch.Size([128, 2, 2])\n",
      "torch.Size([128, 2, 2])\n",
      "torch.Size([128, 2, 2])\n",
      "torch.Size([128, 2, 2])\n",
      "torch.Size([128, 2, 2])\n",
      "torch.Size([128, 2, 2])\n",
      "torch.Size([128, 2, 2])\n",
      "torch.Size([128, 2, 2])\n",
      "torch.Size([128, 2, 2])\n",
      "torch.Size([128, 2, 2])\n",
      "torch.Size([128, 2, 2])\n",
      "torch.Size([128, 2, 2])\n",
      "torch.Size([128, 2, 2])\n",
      "torch.Size([128, 2, 2])\n",
      "torch.Size([128, 2, 2])\n",
      "torch.Size([128, 2, 2])\n",
      "torch.Size([128, 2, 2])\n",
      "torch.Size([128, 2, 2])\n",
      "torch.Size([128, 2, 2])\n",
      "torch.Size([128, 2, 2])"
     ]
    },
    {
     "name": "stderr",
     "output_type": "stream",
     "text": [
      " 26%|███████████████████▉                                                          | 639/2494 [00:06<00:15, 116.83it/s]"
     ]
    },
    {
     "name": "stdout",
     "output_type": "stream",
     "text": [
      "\n",
      "torch.Size([128, 2, 2])\n",
      "torch.Size([128, 2, 2])\n",
      "torch.Size([128, 2, 2])\n",
      "torch.Size([128, 2, 2])\n",
      "torch.Size([128, 2, 2])\n",
      "torch.Size([128, 2, 2])\n",
      "torch.Size([128, 2, 2])\n",
      "torch.Size([128, 2, 2])\n",
      "torch.Size([128, 2, 2])\n",
      "torch.Size([128, 2, 2])\n",
      "torch.Size([128, 2, 2])\n",
      "torch.Size([128, 2, 2])\n",
      "torch.Size([128, 2, 2])\n",
      "torch.Size([128, 2, 2])\n",
      "torch.Size([128, 2, 2])\n",
      "torch.Size([128, 2, 2])\n",
      "torch.Size([128, 2, 2])\n",
      "torch.Size([128, 2, 2])\n",
      "torch.Size([128, 2, 2])\n",
      "torch.Size([128, 2, 2])\n",
      "torch.Size([128, 2, 2])\n",
      "torch.Size([128, 2, 2])"
     ]
    },
    {
     "name": "stderr",
     "output_type": "stream",
     "text": [
      " 27%|████████████████████▊                                                         | 664/2494 [00:06<00:15, 119.21it/s]"
     ]
    },
    {
     "name": "stdout",
     "output_type": "stream",
     "text": [
      "\n",
      "torch.Size([128, 2, 2])\n",
      "torch.Size([128, 2, 2])\n",
      "torch.Size([128, 2, 2])\n",
      "torch.Size([128, 2, 2])\n",
      "torch.Size([128, 2, 2])\n",
      "torch.Size([128, 2, 2])\n",
      "torch.Size([128, 2, 2])\n",
      "torch.Size([128, 2, 2])\n",
      "torch.Size([128, 2, 2])\n",
      "torch.Size([128, 2, 2])\n",
      "torch.Size([128, 2, 2])\n",
      "torch.Size([128, 2, 2])\n",
      "torch.Size([128, 2, 2])\n",
      "torch.Size([128, 2, 2])\n",
      "torch.Size([128, 2, 2])\n",
      "torch.Size([128, 2, 2])\n",
      "torch.Size([128, 2, 2])\n",
      "torch.Size([128, 2, 2])\n",
      "torch.Size([128, 2, 2])\n",
      "torch.Size([128, 2, 2])\n",
      "torch.Size([128, 2, 2])\n",
      "torch.Size([128, 2, 2])\n",
      "torch.Size([128, 2, 2])\n"
     ]
    },
    {
     "name": "stderr",
     "output_type": "stream",
     "text": [
      " 27%|█████████████████████▏                                                        | 676/2494 [00:07<00:16, 112.74it/s]"
     ]
    },
    {
     "name": "stdout",
     "output_type": "stream",
     "text": [
      "torch.Size([128, 2, 2])\n",
      "torch.Size([128, 2, 2])\n",
      "torch.Size([128, 2, 2])\n",
      "torch.Size([128, 2, 2])\n",
      "torch.Size([128, 2, 2])\n",
      "torch.Size([128, 2, 2])\n",
      "torch.Size([128, 2, 2])\n",
      "torch.Size([128, 2, 2])\n",
      "torch.Size([128, 2, 2])\n",
      "torch.Size([128, 2, 2])\n",
      "torch.Size([128, 2, 2])\n",
      "torch.Size([128, 2, 2])\n",
      "torch.Size([128, 2, 2])\n",
      "torch.Size([128, 2, 2])\n",
      "torch.Size([128, 2, 2])\n",
      "torch.Size([128, 2, 2])\n",
      "torch.Size([128, 2, 2])\n",
      "torch.Size([128, 2, 2])"
     ]
    },
    {
     "name": "stderr",
     "output_type": "stream",
     "text": [
      " 28%|█████████████████████▉                                                        | 701/2494 [00:07<00:15, 112.68it/s]"
     ]
    },
    {
     "name": "stdout",
     "output_type": "stream",
     "text": [
      "\n",
      "torch.Size([128, 2, 2])\n",
      "torch.Size([128, 2, 2])\n",
      "torch.Size([128, 2, 2])\n",
      "torch.Size([128, 2, 2])\n",
      "torch.Size([128, 2, 2])\n",
      "torch.Size([128, 2, 2])\n",
      "torch.Size([128, 2, 2])\n",
      "torch.Size([128, 2, 2])\n",
      "torch.Size([128, 2, 2])\n",
      "torch.Size([128, 2, 2])\n",
      "torch.Size([128, 2, 2])\n",
      "torch.Size([128, 2, 2])\n",
      "torch.Size([128, 2, 2])\n",
      "torch.Size([128, 2, 2])\n",
      "torch.Size([128, 2, 2])\n",
      "torch.Size([128, 2, 2])\n",
      "torch.Size([128, 2, 2])\n",
      "torch.Size([128, 2, 2])\n",
      "torch.Size([128, 2, 2])\n",
      "torch.Size([128, 2, 2])\n",
      "torch.Size([128, 2, 2])\n",
      "torch.Size([128, 2, 2])"
     ]
    },
    {
     "name": "stderr",
     "output_type": "stream",
     "text": [
      " 29%|██████████████████████▋                                                       | 725/2494 [00:07<00:16, 109.83it/s]"
     ]
    },
    {
     "name": "stdout",
     "output_type": "stream",
     "text": [
      "\n",
      "torch.Size([128, 2, 2])\n",
      "torch.Size([128, 2, 2])\n",
      "torch.Size([128, 2, 2])\n",
      "torch.Size([128, 2, 2])\n",
      "torch.Size([128, 2, 2])\n",
      "torch.Size([128, 2, 2])\n",
      "torch.Size([128, 2, 2])\n",
      "torch.Size([128, 2, 2])\n",
      "torch.Size([128, 2, 2])\n",
      "torch.Size([128, 2, 2])\n",
      "torch.Size([128, 2, 2])\n",
      "torch.Size([128, 2, 2])\n",
      "torch.Size([128, 2, 2])\n",
      "torch.Size([128, 2, 2])\n",
      "torch.Size([128, 2, 2])\n",
      "torch.Size([128, 2, 2])\n",
      "torch.Size([128, 2, 2])\n",
      "torch.Size([128, 2, 2])\n",
      "torch.Size([128, 2, 2])\n",
      "torch.Size([128, 2, 2])"
     ]
    },
    {
     "name": "stderr",
     "output_type": "stream",
     "text": [
      " 30%|███████████████████████                                                       | 737/2494 [00:07<00:16, 103.86it/s]"
     ]
    },
    {
     "name": "stdout",
     "output_type": "stream",
     "text": [
      "\n",
      "torch.Size([128, 2, 2])\n",
      "torch.Size([128, 2, 2])\n",
      "torch.Size([128, 2, 2])\n",
      "torch.Size([128, 2, 2])\n",
      "torch.Size([128, 2, 2])\n",
      "torch.Size([128, 2, 2])\n",
      "torch.Size([128, 2, 2])\n",
      "torch.Size([128, 2, 2])\n",
      "torch.Size([128, 2, 2])\n",
      "torch.Size([128, 2, 2])\n",
      "torch.Size([128, 2, 2])\n",
      "torch.Size([128, 2, 2])\n",
      "torch.Size([128, 2, 2])\n",
      "torch.Size([128, 2, 2])\n",
      "torch.Size([128, 2, 2])\n",
      "torch.Size([128, 2, 2])\n",
      "torch.Size([128, 2, 2])\n",
      "torch.Size([128, 2, 2])\n",
      "torch.Size([128, 2, 2])\n",
      "torch.Size([128, 2, 2])"
     ]
    },
    {
     "name": "stderr",
     "output_type": "stream",
     "text": [
      " 30%|███████████████████████▊                                                      | 760/2494 [00:07<00:17, 101.80it/s]"
     ]
    },
    {
     "name": "stdout",
     "output_type": "stream",
     "text": [
      "\n",
      "torch.Size([128, 2, 2])\n",
      "torch.Size([128, 2, 2])\n",
      "torch.Size([128, 2, 2])\n",
      "torch.Size([128, 2, 2])\n",
      "torch.Size([128, 2, 2])\n",
      "torch.Size([128, 2, 2])\n",
      "torch.Size([128, 2, 2])\n",
      "torch.Size([128, 2, 2])\n",
      "torch.Size([128, 2, 2])\n",
      "torch.Size([128, 2, 2])\n",
      "torch.Size([128, 2, 2])\n",
      "torch.Size([128, 2, 2])\n",
      "torch.Size([128, 2, 2])\n",
      "torch.Size([128, 2, 2])\n",
      "torch.Size([128, 2, 2])"
     ]
    },
    {
     "name": "stderr",
     "output_type": "stream",
     "text": [
      " 31%|████████████████████████▍                                                      | 771/2494 [00:08<00:18, 93.40it/s]"
     ]
    },
    {
     "name": "stdout",
     "output_type": "stream",
     "text": [
      "\n",
      "torch.Size([128, 2, 2])\n",
      "torch.Size([128, 2, 2])\n",
      "torch.Size([128, 2, 2])\n",
      "torch.Size([128, 2, 2])\n",
      "torch.Size([128, 2, 2])\n",
      "torch.Size([128, 2, 2])\n",
      "torch.Size([128, 2, 2])\n",
      "torch.Size([128, 2, 2])\n",
      "torch.Size([128, 2, 2])\n",
      "torch.Size([128, 2, 2])\n",
      "torch.Size([128, 2, 2])\n",
      "torch.Size([128, 2, 2])\n",
      "torch.Size([128, 2, 2])"
     ]
    },
    {
     "name": "stderr",
     "output_type": "stream",
     "text": [
      " 32%|█████████████████████████                                                      | 793/2494 [00:08<00:19, 88.12it/s]"
     ]
    },
    {
     "name": "stdout",
     "output_type": "stream",
     "text": [
      "\n",
      "torch.Size([128, 2, 2])\n",
      "torch.Size([128, 2, 2])\n",
      "torch.Size([128, 2, 2])\n",
      "torch.Size([128, 2, 2])\n",
      "torch.Size([128, 2, 2])\n",
      "torch.Size([128, 2, 2])\n",
      "torch.Size([128, 2, 2])\n",
      "torch.Size([128, 2, 2])\n",
      "torch.Size([128, 2, 2])\n",
      "torch.Size([128, 2, 2])\n",
      "torch.Size([128, 2, 2])\n",
      "torch.Size([128, 2, 2])\n",
      "torch.Size([128, 2, 2])\n",
      "torch.Size([128, 2, 2])\n",
      "torch.Size([128, 2, 2])\n",
      "torch.Size([128, 2, 2])\n",
      "torch.Size([128, 2, 2])\n",
      "torch.Size([128, 2, 2])\n",
      "torch.Size([128, 2, 2])\n",
      "torch.Size([128, 2, 2])\n",
      "torch.Size([128, 2, 2])"
     ]
    },
    {
     "name": "stderr",
     "output_type": "stream",
     "text": [
      " 33%|█████████████████████████▊                                                     | 816/2494 [00:08<00:16, 99.62it/s]"
     ]
    },
    {
     "name": "stdout",
     "output_type": "stream",
     "text": [
      "\n",
      "torch.Size([128, 2, 2])\n",
      "torch.Size([128, 2, 2])\n",
      "torch.Size([128, 2, 2])\n",
      "torch.Size([128, 2, 2])\n",
      "torch.Size([128, 2, 2])\n",
      "torch.Size([128, 2, 2])\n",
      "torch.Size([128, 2, 2])\n",
      "torch.Size([128, 2, 2])\n",
      "torch.Size([128, 2, 2])\n",
      "torch.Size([128, 2, 2])\n",
      "torch.Size([128, 2, 2])\n",
      "torch.Size([128, 2, 2])\n",
      "torch.Size([128, 2, 2])\n",
      "torch.Size([128, 2, 2])\n",
      "torch.Size([128, 2, 2])\n",
      "torch.Size([128, 2, 2])\n",
      "torch.Size([128, 2, 2])\n",
      "torch.Size([128, 2, 2])\n",
      "torch.Size([128, 2, 2])\n",
      "torch.Size([128, 2, 2])\n",
      "torch.Size([128, 2, 2])"
     ]
    },
    {
     "name": "stderr",
     "output_type": "stream",
     "text": [
      " 33%|█████████████████████████▊                                                    | 827/2494 [00:08<00:16, 101.69it/s]"
     ]
    },
    {
     "name": "stdout",
     "output_type": "stream",
     "text": [
      "\n",
      "torch.Size([128, 2, 2])\n",
      "torch.Size([128, 2, 2])\n",
      "torch.Size([128, 2, 2])\n",
      "torch.Size([128, 2, 2])\n",
      "torch.Size([128, 2, 2])\n",
      "torch.Size([128, 2, 2])\n",
      "torch.Size([128, 2, 2])\n",
      "torch.Size([128, 2, 2])\n",
      "torch.Size([128, 2, 2])\n",
      "torch.Size([128, 2, 2])\n",
      "torch.Size([128, 2, 2])\n",
      "torch.Size([128, 2, 2])\n",
      "torch.Size([128, 2, 2])\n",
      "torch.Size([128, 2, 2])\n",
      "torch.Size([128, 2, 2])\n",
      "torch.Size([128, 2, 2])\n",
      "torch.Size([128, 2, 2])\n",
      "torch.Size([128, 2, 2])\n",
      "torch.Size([128, 2, 2])"
     ]
    },
    {
     "name": "stderr",
     "output_type": "stream",
     "text": [
      " 34%|██████████████████████████▌                                                   | 850/2494 [00:08<00:15, 105.12it/s]"
     ]
    },
    {
     "name": "stdout",
     "output_type": "stream",
     "text": [
      "\n",
      "torch.Size([128, 2, 2])\n",
      "torch.Size([128, 2, 2])\n",
      "torch.Size([128, 2, 2])\n",
      "torch.Size([128, 2, 2])\n",
      "torch.Size([128, 2, 2])\n",
      "torch.Size([128, 2, 2])\n",
      "torch.Size([128, 2, 2])\n",
      "torch.Size([128, 2, 2])\n",
      "torch.Size([128, 2, 2])\n",
      "torch.Size([128, 2, 2])\n",
      "torch.Size([128, 2, 2])\n",
      "torch.Size([128, 2, 2])\n",
      "torch.Size([128, 2, 2])\n",
      "torch.Size([128, 2, 2])\n",
      "torch.Size([128, 2, 2])\n",
      "torch.Size([128, 2, 2])\n",
      "torch.Size([128, 2, 2])\n",
      "torch.Size([128, 2, 2])\n",
      "torch.Size([128, 2, 2])\n",
      "torch.Size([128, 2, 2])\n",
      "torch.Size([128, 2, 2])"
     ]
    },
    {
     "name": "stderr",
     "output_type": "stream",
     "text": [
      " 35%|███████████████████████████▋                                                   | 873/2494 [00:09<00:16, 95.44it/s]"
     ]
    },
    {
     "name": "stdout",
     "output_type": "stream",
     "text": [
      "\n",
      "torch.Size([128, 2, 2])\n",
      "torch.Size([128, 2, 2])\n",
      "torch.Size([128, 2, 2])\n",
      "torch.Size([128, 2, 2])\n",
      "torch.Size([128, 2, 2])\n",
      "torch.Size([128, 2, 2])\n",
      "torch.Size([128, 2, 2])\n",
      "torch.Size([128, 2, 2])\n",
      "torch.Size([128, 2, 2])\n",
      "torch.Size([128, 2, 2])\n",
      "torch.Size([128, 2, 2])\n",
      "torch.Size([128, 2, 2])\n",
      "torch.Size([128, 2, 2])\n",
      "torch.Size([128, 2, 2])\n"
     ]
    },
    {
     "name": "stderr",
     "output_type": "stream",
     "text": [
      " 35%|███████████████████████████▉                                                   | 883/2494 [00:09<00:20, 78.49it/s]"
     ]
    },
    {
     "name": "stdout",
     "output_type": "stream",
     "text": [
      "torch.Size([128, 2, 2])\n",
      "torch.Size([128, 2, 2])\n",
      "torch.Size([128, 2, 2])\n",
      "torch.Size([128, 2, 2])\n",
      "torch.Size([128, 2, 2])\n",
      "torch.Size([128, 2, 2])\n",
      "torch.Size([128, 2, 2])\n",
      "torch.Size([128, 2, 2])\n",
      "torch.Size([128, 2, 2])\n",
      "torch.Size([128, 2, 2])\n",
      "torch.Size([128, 2, 2])\n",
      "torch.Size([128, 2, 2])\n",
      "torch.Size([128, 2, 2])"
     ]
    },
    {
     "name": "stderr",
     "output_type": "stream",
     "text": [
      " 36%|████████████████████████████▎                                                  | 893/2494 [00:09<00:19, 83.60it/s]"
     ]
    },
    {
     "name": "stdout",
     "output_type": "stream",
     "text": [
      "\n",
      "torch.Size([128, 2, 2])\n",
      "torch.Size([128, 2, 2])\n",
      "torch.Size([128, 2, 2])\n",
      "torch.Size([128, 2, 2])\n",
      "torch.Size([128, 2, 2])\n",
      "torch.Size([128, 2, 2])\n",
      "torch.Size([128, 2, 2])\n",
      "torch.Size([128, 2, 2])\n",
      "torch.Size([128, 2, 2])\n",
      "torch.Size([128, 2, 2])\n",
      "torch.Size([128, 2, 2])\n",
      "torch.Size([128, 2, 2])\n",
      "torch.Size([128, 2, 2])\n",
      "torch.Size([128, 2, 2])\n"
     ]
    },
    {
     "name": "stderr",
     "output_type": "stream",
     "text": [
      " 36%|████████████████████████████▊                                                  | 910/2494 [00:09<00:22, 69.90it/s]"
     ]
    },
    {
     "name": "stdout",
     "output_type": "stream",
     "text": [
      "torch.Size([128, 2, 2])\n",
      "torch.Size([128, 2, 2])\n",
      "torch.Size([128, 2, 2])\n",
      "torch.Size([128, 2, 2])\n",
      "torch.Size([128, 2, 2])\n",
      "torch.Size([128, 2, 2])\n",
      "torch.Size([128, 2, 2])\n",
      "torch.Size([128, 2, 2])\n",
      "torch.Size([128, 2, 2])\n",
      "torch.Size([128, 2, 2])\n",
      "torch.Size([128, 2, 2])\n",
      "torch.Size([128, 2, 2])\n",
      "torch.Size([128, 2, 2])"
     ]
    },
    {
     "name": "stderr",
     "output_type": "stream",
     "text": [
      " 37%|█████████████████████████████                                                  | 919/2494 [00:09<00:21, 73.63it/s]"
     ]
    },
    {
     "name": "stdout",
     "output_type": "stream",
     "text": [
      "\n",
      "torch.Size([128, 2, 2])\n",
      "torch.Size([128, 2, 2])\n",
      "torch.Size([128, 2, 2])\n",
      "torch.Size([128, 2, 2])\n",
      "torch.Size([128, 2, 2])\n",
      "torch.Size([128, 2, 2])\n",
      "torch.Size([128, 2, 2])\n",
      "torch.Size([128, 2, 2])\n",
      "torch.Size([128, 2, 2])\n",
      "torch.Size([128, 2, 2])\n",
      "torch.Size([128, 2, 2])\n",
      "torch.Size([128, 2, 2])\n",
      "torch.Size([128, 2, 2])\n",
      "torch.Size([128, 2, 2])"
     ]
    },
    {
     "name": "stderr",
     "output_type": "stream",
     "text": [
      " 37%|█████████████████████████████▎                                                 | 927/2494 [00:09<00:23, 65.29it/s]"
     ]
    },
    {
     "name": "stdout",
     "output_type": "stream",
     "text": [
      "\n",
      "torch.Size([128, 2, 2])\n",
      "torch.Size([128, 2, 2])\n",
      "torch.Size([128, 2, 2])\n",
      "torch.Size([128, 2, 2])\n",
      "torch.Size([128, 2, 2])\n",
      "torch.Size([128, 2, 2])"
     ]
    },
    {
     "name": "stderr",
     "output_type": "stream",
     "text": [
      " 37%|█████████████████████████████▌                                                 | 934/2494 [00:10<00:31, 49.22it/s]"
     ]
    },
    {
     "name": "stdout",
     "output_type": "stream",
     "text": [
      "\n",
      "torch.Size([128, 2, 2])\n",
      "torch.Size([128, 2, 2])\n",
      "torch.Size([128, 2, 2])\n",
      "torch.Size([128, 2, 2])\n",
      "torch.Size([128, 2, 2])\n",
      "torch.Size([128, 2, 2])"
     ]
    },
    {
     "name": "stderr",
     "output_type": "stream",
     "text": [
      " 38%|█████████████████████████████▊                                                 | 940/2494 [00:10<00:38, 40.79it/s]"
     ]
    },
    {
     "name": "stdout",
     "output_type": "stream",
     "text": [
      "\n",
      "torch.Size([128, 2, 2])\n",
      "torch.Size([128, 2, 2])\n",
      "torch.Size([128, 2, 2])\n",
      "torch.Size([128, 2, 2])\n",
      "torch.Size([128, 2, 2])\n",
      "torch.Size([128, 2, 2])"
     ]
    },
    {
     "name": "stderr",
     "output_type": "stream",
     "text": [
      " 38%|██████████████████████████████                                                 | 950/2494 [00:10<00:42, 36.13it/s]"
     ]
    },
    {
     "name": "stdout",
     "output_type": "stream",
     "text": [
      "\n",
      "torch.Size([128, 2, 2])\n",
      "torch.Size([128, 2, 2])\n",
      "torch.Size([128, 2, 2])\n",
      "torch.Size([128, 2, 2])\n",
      "torch.Size([128, 2, 2])\n",
      "torch.Size([128, 2, 2])"
     ]
    },
    {
     "name": "stderr",
     "output_type": "stream",
     "text": [
      " 38%|██████████████████████████████▎                                                | 955/2494 [00:10<00:43, 35.38it/s]"
     ]
    },
    {
     "name": "stdout",
     "output_type": "stream",
     "text": [
      "\n",
      "torch.Size([128, 2, 2])\n",
      "torch.Size([128, 2, 2])\n",
      "torch.Size([128, 2, 2])\n",
      "torch.Size([128, 2, 2])\n",
      "torch.Size([128, 2, 2])\n",
      "torch.Size([128, 2, 2])\n",
      "torch.Size([128, 2, 2])"
     ]
    },
    {
     "name": "stderr",
     "output_type": "stream",
     "text": [
      " 39%|██████████████████████████████▌                                                | 963/2494 [00:11<00:45, 33.34it/s]"
     ]
    },
    {
     "name": "stdout",
     "output_type": "stream",
     "text": [
      "\n",
      "torch.Size([128, 2, 2])\n",
      "torch.Size([128, 2, 2])\n",
      "torch.Size([128, 2, 2])\n",
      "torch.Size([128, 2, 2])\n",
      "torch.Size([128, 2, 2])\n"
     ]
    },
    {
     "name": "stderr",
     "output_type": "stream",
     "text": [
      " 39%|██████████████████████████████▋                                                | 967/2494 [00:11<00:53, 28.33it/s]"
     ]
    },
    {
     "name": "stdout",
     "output_type": "stream",
     "text": [
      "torch.Size([128, 2, 2])\n",
      "torch.Size([128, 2, 2])\n",
      "torch.Size([128, 2, 2])\n",
      "torch.Size([128, 2, 2])\n",
      "torch.Size([128, 2, 2])\n",
      "torch.Size([128, 2, 2])"
     ]
    },
    {
     "name": "stderr",
     "output_type": "stream",
     "text": [
      " 39%|██████████████████████████████▉                                                | 975/2494 [00:11<00:48, 31.54it/s]"
     ]
    },
    {
     "name": "stdout",
     "output_type": "stream",
     "text": [
      "\n",
      "torch.Size([128, 2, 2])\n",
      "torch.Size([128, 2, 2])\n",
      "torch.Size([128, 2, 2])\n",
      "torch.Size([128, 2, 2])\n",
      "torch.Size([128, 2, 2])\n",
      "torch.Size([128, 2, 2])\n",
      "torch.Size([128, 2, 2])"
     ]
    },
    {
     "name": "stderr",
     "output_type": "stream",
     "text": [
      " 39%|███████████████████████████████                                                | 979/2494 [00:11<00:48, 31.33it/s]"
     ]
    },
    {
     "name": "stdout",
     "output_type": "stream",
     "text": [
      "\n",
      "torch.Size([128, 2, 2])\n",
      "torch.Size([128, 2, 2])\n",
      "torch.Size([128, 2, 2])\n",
      "torch.Size([128, 2, 2])\n",
      "torch.Size([128, 2, 2])\n",
      "torch.Size([128, 2, 2])\n",
      "torch.Size([128, 2, 2])"
     ]
    },
    {
     "name": "stderr",
     "output_type": "stream",
     "text": [
      " 40%|███████████████████████████████▎                                               | 987/2494 [00:11<00:45, 32.92it/s]"
     ]
    },
    {
     "name": "stdout",
     "output_type": "stream",
     "text": [
      "\n",
      "torch.Size([128, 2, 2])\n",
      "torch.Size([128, 2, 2])\n",
      "torch.Size([128, 2, 2])\n",
      "torch.Size([128, 2, 2])\n",
      "torch.Size([128, 2, 2])\n",
      "torch.Size([128, 2, 2])\n",
      "torch.Size([128, 2, 2])\n",
      "torch.Size([128, 2, 2])"
     ]
    },
    {
     "name": "stderr",
     "output_type": "stream",
     "text": [
      " 40%|███████████████████████████████▍                                              | 1005/2494 [00:12<00:30, 48.08it/s]"
     ]
    },
    {
     "name": "stdout",
     "output_type": "stream",
     "text": [
      "\n",
      "torch.Size([128, 2, 2])\n",
      "torch.Size([128, 2, 2])\n",
      "torch.Size([128, 2, 2])\n",
      "torch.Size([128, 2, 2])\n",
      "torch.Size([128, 2, 2])\n",
      "torch.Size([128, 2, 2])\n",
      "torch.Size([128, 2, 2])\n",
      "torch.Size([128, 2, 2])\n",
      "torch.Size([128, 2, 2])\n",
      "torch.Size([128, 2, 2])\n",
      "torch.Size([128, 2, 2])\n",
      "torch.Size([128, 2, 2])\n",
      "torch.Size([128, 2, 2])\n",
      "torch.Size([128, 2, 2])\n",
      "torch.Size([128, 2, 2])\n",
      "torch.Size([128, 2, 2])\n",
      "torch.Size([128, 2, 2])\n",
      "torch.Size([128, 2, 2])"
     ]
    },
    {
     "name": "stderr",
     "output_type": "stream",
     "text": [
      " 41%|████████████████████████████████                                              | 1025/2494 [00:12<00:22, 64.97it/s]"
     ]
    },
    {
     "name": "stdout",
     "output_type": "stream",
     "text": [
      "\n",
      "torch.Size([128, 2, 2])\n",
      "torch.Size([128, 2, 2])\n",
      "torch.Size([128, 2, 2])\n",
      "torch.Size([128, 2, 2])\n",
      "torch.Size([128, 2, 2])\n",
      "torch.Size([128, 2, 2])\n",
      "torch.Size([128, 2, 2])\n",
      "torch.Size([128, 2, 2])\n",
      "torch.Size([128, 2, 2])\n",
      "torch.Size([128, 2, 2])\n",
      "torch.Size([128, 2, 2])\n",
      "torch.Size([128, 2, 2])\n",
      "torch.Size([128, 2, 2])\n",
      "torch.Size([128, 2, 2])\n",
      "torch.Size([128, 2, 2])\n",
      "torch.Size([128, 2, 2])\n",
      "torch.Size([128, 2, 2])\n",
      "torch.Size([128, 2, 2])\n",
      "torch.Size([128, 2, 2])"
     ]
    },
    {
     "name": "stderr",
     "output_type": "stream",
     "text": [
      " 42%|████████████████████████████████▍                                             | 1036/2494 [00:12<00:19, 73.60it/s]"
     ]
    },
    {
     "name": "stdout",
     "output_type": "stream",
     "text": [
      "\n",
      "torch.Size([128, 2, 2])\n",
      "torch.Size([128, 2, 2])\n",
      "torch.Size([128, 2, 2])\n",
      "torch.Size([128, 2, 2])\n",
      "torch.Size([128, 2, 2])\n",
      "torch.Size([128, 2, 2])\n",
      "torch.Size([128, 2, 2])\n",
      "torch.Size([128, 2, 2])\n",
      "torch.Size([128, 2, 2])\n",
      "torch.Size([128, 2, 2])\n",
      "torch.Size([128, 2, 2])\n",
      "torch.Size([128, 2, 2])\n",
      "torch.Size([128, 2, 2])\n",
      "torch.Size([128, 2, 2])\n",
      "torch.Size([128, 2, 2])\n",
      "torch.Size([128, 2, 2])\n",
      "torch.Size([128, 2, 2])\n",
      "torch.Size([128, 2, 2])\n",
      "torch.Size([128, 2, 2])\n",
      "torch.Size([128, 2, 2])"
     ]
    },
    {
     "name": "stderr",
     "output_type": "stream",
     "text": [
      " 43%|█████████████████████████████████▏                                            | 1060/2494 [00:12<00:16, 89.59it/s]"
     ]
    },
    {
     "name": "stdout",
     "output_type": "stream",
     "text": [
      "\n",
      "torch.Size([128, 2, 2])\n",
      "torch.Size([128, 2, 2])\n",
      "torch.Size([128, 2, 2])\n",
      "torch.Size([128, 2, 2])\n",
      "torch.Size([128, 2, 2])\n",
      "torch.Size([128, 2, 2])\n",
      "torch.Size([128, 2, 2])\n",
      "torch.Size([128, 2, 2])\n",
      "torch.Size([128, 2, 2])\n",
      "torch.Size([128, 2, 2])\n",
      "torch.Size([128, 2, 2])\n",
      "torch.Size([128, 2, 2])\n",
      "torch.Size([128, 2, 2])\n",
      "torch.Size([128, 2, 2])\n",
      "torch.Size([128, 2, 2])\n",
      "torch.Size([128, 2, 2])\n",
      "torch.Size([128, 2, 2])\n",
      "torch.Size([128, 2, 2])\n",
      "torch.Size([128, 2, 2])\n",
      "torch.Size([128, 2, 2])"
     ]
    },
    {
     "name": "stderr",
     "output_type": "stream",
     "text": [
      " 43%|█████████████████████████████████▊                                            | 1082/2494 [00:12<00:14, 94.88it/s]"
     ]
    },
    {
     "name": "stdout",
     "output_type": "stream",
     "text": [
      "\n",
      "torch.Size([128, 2, 2])\n",
      "torch.Size([128, 2, 2])\n",
      "torch.Size([128, 2, 2])\n",
      "torch.Size([128, 2, 2])\n",
      "torch.Size([128, 2, 2])\n",
      "torch.Size([128, 2, 2])\n",
      "torch.Size([128, 2, 2])\n",
      "torch.Size([128, 2, 2])\n",
      "torch.Size([128, 2, 2])\n",
      "torch.Size([128, 2, 2])\n",
      "torch.Size([128, 2, 2])\n",
      "torch.Size([128, 2, 2])\n",
      "torch.Size([128, 2, 2])\n",
      "torch.Size([128, 2, 2])\n",
      "torch.Size([128, 2, 2])\n",
      "torch.Size([128, 2, 2])\n",
      "torch.Size([128, 2, 2])\n",
      "torch.Size([128, 2, 2])\n",
      "torch.Size([128, 2, 2])"
     ]
    },
    {
     "name": "stderr",
     "output_type": "stream",
     "text": [
      " 44%|██████████████████████████████████▍                                           | 1103/2494 [00:12<00:14, 92.79it/s]"
     ]
    },
    {
     "name": "stdout",
     "output_type": "stream",
     "text": [
      "\n",
      "torch.Size([128, 2, 2])\n",
      "torch.Size([128, 2, 2])\n",
      "torch.Size([128, 2, 2])\n",
      "torch.Size([128, 2, 2])\n",
      "torch.Size([128, 2, 2])\n",
      "torch.Size([128, 2, 2])\n",
      "torch.Size([128, 2, 2])\n",
      "torch.Size([128, 2, 2])\n",
      "torch.Size([128, 2, 2])\n",
      "torch.Size([128, 2, 2])\n",
      "torch.Size([128, 2, 2])\n",
      "torch.Size([128, 2, 2])\n",
      "torch.Size([128, 2, 2])\n",
      "torch.Size([128, 2, 2])\n",
      "torch.Size([128, 2, 2])\n",
      "torch.Size([128, 2, 2])\n",
      "torch.Size([128, 2, 2])"
     ]
    },
    {
     "name": "stderr",
     "output_type": "stream",
     "text": [
      " 45%|██████████████████████████████████▊                                           | 1113/2494 [00:13<00:15, 87.63it/s]"
     ]
    },
    {
     "name": "stdout",
     "output_type": "stream",
     "text": [
      "\n",
      "torch.Size([128, 2, 2])\n",
      "torch.Size([128, 2, 2])\n",
      "torch.Size([128, 2, 2])\n",
      "torch.Size([128, 2, 2])\n",
      "torch.Size([128, 2, 2])\n",
      "torch.Size([128, 2, 2])\n",
      "torch.Size([128, 2, 2])\n",
      "torch.Size([128, 2, 2])\n",
      "torch.Size([128, 2, 2])\n",
      "torch.Size([128, 2, 2])\n",
      "torch.Size([128, 2, 2])\n",
      "torch.Size([128, 2, 2])\n",
      "torch.Size([128, 2, 2])\n",
      "torch.Size([128, 2, 2])\n",
      "torch.Size([128, 2, 2])"
     ]
    },
    {
     "name": "stderr",
     "output_type": "stream",
     "text": [
      " 45%|███████████████████████████████████▍                                          | 1134/2494 [00:13<00:14, 92.55it/s]"
     ]
    },
    {
     "name": "stdout",
     "output_type": "stream",
     "text": [
      "\n",
      "torch.Size([128, 2, 2])\n",
      "torch.Size([128, 2, 2])\n",
      "torch.Size([128, 2, 2])\n",
      "torch.Size([128, 2, 2])\n",
      "torch.Size([128, 2, 2])\n",
      "torch.Size([128, 2, 2])\n",
      "torch.Size([128, 2, 2])\n",
      "torch.Size([128, 2, 2])\n",
      "torch.Size([128, 2, 2])\n",
      "torch.Size([128, 2, 2])\n",
      "torch.Size([128, 2, 2])\n",
      "torch.Size([128, 2, 2])\n",
      "torch.Size([128, 2, 2])\n",
      "torch.Size([128, 2, 2])\n",
      "torch.Size([128, 2, 2])\n",
      "torch.Size([128, 2, 2])\n",
      "torch.Size([128, 2, 2])\n",
      "torch.Size([128, 2, 2])\n",
      "torch.Size([128, 2, 2])"
     ]
    },
    {
     "name": "stderr",
     "output_type": "stream",
     "text": [
      " 46%|████████████████████████████████████                                          | 1154/2494 [00:13<00:14, 91.61it/s]"
     ]
    },
    {
     "name": "stdout",
     "output_type": "stream",
     "text": [
      "\n",
      "torch.Size([128, 2, 2])\n",
      "torch.Size([128, 2, 2])\n",
      "torch.Size([128, 2, 2])\n",
      "torch.Size([128, 2, 2])\n",
      "torch.Size([128, 2, 2])\n",
      "torch.Size([128, 2, 2])\n",
      "torch.Size([128, 2, 2])\n",
      "torch.Size([128, 2, 2])\n",
      "torch.Size([128, 2, 2])\n",
      "torch.Size([128, 2, 2])\n",
      "torch.Size([128, 2, 2])\n",
      "torch.Size([128, 2, 2])\n",
      "torch.Size([128, 2, 2])\n",
      "torch.Size([128, 2, 2])\n",
      "torch.Size([128, 2, 2])\n",
      "torch.Size([128, 2, 2])\n"
     ]
    },
    {
     "name": "stderr",
     "output_type": "stream",
     "text": [
      " 47%|████████████████████████████████████▍                                         | 1164/2494 [00:13<00:14, 93.73it/s]"
     ]
    },
    {
     "name": "stdout",
     "output_type": "stream",
     "text": [
      "torch.Size([128, 2, 2])\n",
      "torch.Size([128, 2, 2])\n",
      "torch.Size([128, 2, 2])\n",
      "torch.Size([128, 2, 2])\n",
      "torch.Size([128, 2, 2])\n",
      "torch.Size([128, 2, 2])\n",
      "torch.Size([128, 2, 2])\n",
      "torch.Size([128, 2, 2])\n",
      "torch.Size([128, 2, 2])\n",
      "torch.Size([128, 2, 2])\n",
      "torch.Size([128, 2, 2])\n",
      "torch.Size([128, 2, 2])\n",
      "torch.Size([128, 2, 2])\n",
      "torch.Size([128, 2, 2])\n",
      "torch.Size([128, 2, 2])\n",
      "torch.Size([128, 2, 2])\n",
      "torch.Size([128, 2, 2])\n",
      "torch.Size([128, 2, 2])\n",
      "torch.Size([128, 2, 2])\n",
      "torch.Size([128, 2, 2])"
     ]
    },
    {
     "name": "stderr",
     "output_type": "stream",
     "text": [
      " 48%|█████████████████████████████████████                                         | 1185/2494 [00:13<00:13, 96.13it/s]"
     ]
    },
    {
     "name": "stdout",
     "output_type": "stream",
     "text": [
      "\n",
      "torch.Size([128, 2, 2])\n",
      "torch.Size([128, 2, 2])\n",
      "torch.Size([128, 2, 2])\n",
      "torch.Size([128, 2, 2])\n",
      "torch.Size([128, 2, 2])\n",
      "torch.Size([128, 2, 2])\n",
      "torch.Size([128, 2, 2])\n",
      "torch.Size([128, 2, 2])\n",
      "torch.Size([128, 2, 2])\n",
      "torch.Size([128, 2, 2])\n",
      "torch.Size([128, 2, 2])\n",
      "torch.Size([128, 2, 2])\n",
      "torch.Size([128, 2, 2])\n",
      "torch.Size([128, 2, 2])\n",
      "torch.Size([128, 2, 2])\n",
      "torch.Size([128, 2, 2])\n",
      "torch.Size([128, 2, 2])\n",
      "torch.Size([128, 2, 2])\n",
      "torch.Size([128, 2, 2])"
     ]
    },
    {
     "name": "stderr",
     "output_type": "stream",
     "text": [
      " 48%|█████████████████████████████████████▋                                        | 1206/2494 [00:14<00:13, 95.44it/s]"
     ]
    },
    {
     "name": "stdout",
     "output_type": "stream",
     "text": [
      "\n",
      "torch.Size([128, 2, 2])\n",
      "torch.Size([128, 2, 2])\n",
      "torch.Size([128, 2, 2])\n",
      "torch.Size([128, 2, 2])\n",
      "torch.Size([128, 2, 2])\n",
      "torch.Size([128, 2, 2])\n",
      "torch.Size([128, 2, 2])\n",
      "torch.Size([128, 2, 2])\n",
      "torch.Size([128, 2, 2])\n",
      "torch.Size([128, 2, 2])\n",
      "torch.Size([128, 2, 2])\n",
      "torch.Size([128, 2, 2])\n",
      "torch.Size([128, 2, 2])\n",
      "torch.Size([128, 2, 2])\n",
      "torch.Size([128, 2, 2])\n",
      "torch.Size([128, 2, 2])"
     ]
    },
    {
     "name": "stderr",
     "output_type": "stream",
     "text": [
      " 49%|██████████████████████████████████████▎                                       | 1226/2494 [00:14<00:13, 96.38it/s]"
     ]
    },
    {
     "name": "stdout",
     "output_type": "stream",
     "text": [
      "\n",
      "torch.Size([128, 2, 2])\n",
      "torch.Size([128, 2, 2])\n",
      "torch.Size([128, 2, 2])\n",
      "torch.Size([128, 2, 2])\n",
      "torch.Size([128, 2, 2])\n",
      "torch.Size([128, 2, 2])\n",
      "torch.Size([128, 2, 2])\n",
      "torch.Size([128, 2, 2])\n",
      "torch.Size([128, 2, 2])\n",
      "torch.Size([128, 2, 2])\n",
      "torch.Size([128, 2, 2])\n",
      "torch.Size([128, 2, 2])\n",
      "torch.Size([128, 2, 2])\n",
      "torch.Size([128, 2, 2])\n",
      "torch.Size([128, 2, 2])\n",
      "torch.Size([128, 2, 2])\n",
      "torch.Size([128, 2, 2])\n",
      "torch.Size([128, 2, 2])"
     ]
    },
    {
     "name": "stderr",
     "output_type": "stream",
     "text": [
      " 50%|██████████████████████████████████████▋                                       | 1236/2494 [00:14<00:15, 78.99it/s]"
     ]
    },
    {
     "name": "stdout",
     "output_type": "stream",
     "text": [
      "\n",
      "torch.Size([128, 2, 2])\n",
      "torch.Size([128, 2, 2])\n",
      "torch.Size([128, 2, 2])\n",
      "torch.Size([128, 2, 2])\n",
      "torch.Size([128, 2, 2])\n",
      "torch.Size([128, 2, 2])\n",
      "torch.Size([128, 2, 2])\n",
      "torch.Size([128, 2, 2])\n",
      "torch.Size([128, 2, 2])\n",
      "torch.Size([128, 2, 2])\n"
     ]
    },
    {
     "name": "stderr",
     "output_type": "stream",
     "text": [
      " 50%|██████████████████████████████████████▉                                       | 1245/2494 [00:14<00:19, 63.99it/s]"
     ]
    },
    {
     "name": "stdout",
     "output_type": "stream",
     "text": [
      "torch.Size([128, 2, 2])\n",
      "torch.Size([128, 2, 2])\n",
      "torch.Size([128, 2, 2])\n",
      "torch.Size([128, 2, 2])\n",
      "torch.Size([128, 2, 2])\n",
      "torch.Size([128, 2, 2])\n",
      "torch.Size([128, 2, 2])\n",
      "torch.Size([128, 2, 2])\n",
      "torch.Size([128, 2, 2])\n",
      "torch.Size([128, 2, 2])\n",
      "torch.Size([128, 2, 2])\n",
      "torch.Size([128, 2, 2])\n",
      "torch.Size([128, 2, 2])\n",
      "torch.Size([128, 2, 2])\n",
      "torch.Size([128, 2, 2])"
     ]
    },
    {
     "name": "stderr",
     "output_type": "stream",
     "text": [
      " 50%|███████████████████████████████████████▏                                      | 1253/2494 [00:14<00:26, 46.00it/s]"
     ]
    },
    {
     "name": "stdout",
     "output_type": "stream",
     "text": [
      "\n",
      "torch.Size([128, 2, 2])\n",
      "torch.Size([128, 2, 2])\n",
      "torch.Size([128, 2, 2])\n",
      "torch.Size([128, 2, 2])\n",
      "torch.Size([128, 2, 2])\n",
      "torch.Size([128, 2, 2])"
     ]
    },
    {
     "name": "stderr",
     "output_type": "stream",
     "text": [
      " 50%|███████████████████████████████████████▍                                      | 1259/2494 [00:15<00:33, 37.42it/s]"
     ]
    },
    {
     "name": "stdout",
     "output_type": "stream",
     "text": [
      "\n",
      "torch.Size([128, 2, 2])\n",
      "torch.Size([128, 2, 2])\n",
      "torch.Size([128, 2, 2])\n",
      "torch.Size([128, 2, 2])\n",
      "torch.Size([128, 2, 2])\n",
      "torch.Size([128, 2, 2])\n"
     ]
    },
    {
     "name": "stderr",
     "output_type": "stream",
     "text": [
      " 51%|███████████████████████████████████████▋                                      | 1269/2494 [00:15<00:32, 38.06it/s]"
     ]
    },
    {
     "name": "stdout",
     "output_type": "stream",
     "text": [
      "torch.Size([128, 2, 2])\n",
      "torch.Size([128, 2, 2])\n",
      "torch.Size([128, 2, 2])\n",
      "torch.Size([128, 2, 2])\n",
      "torch.Size([128, 2, 2])\n",
      "torch.Size([128, 2, 2])\n",
      "torch.Size([128, 2, 2])\n",
      "torch.Size([128, 2, 2])"
     ]
    },
    {
     "name": "stderr",
     "output_type": "stream",
     "text": [
      " 51%|████████████████████████████████████████                                      | 1282/2494 [00:15<00:25, 47.84it/s]"
     ]
    },
    {
     "name": "stdout",
     "output_type": "stream",
     "text": [
      "\n",
      "torch.Size([128, 2, 2])\n",
      "torch.Size([128, 2, 2])\n",
      "torch.Size([128, 2, 2])\n",
      "torch.Size([128, 2, 2])\n",
      "torch.Size([128, 2, 2])\n",
      "torch.Size([128, 2, 2])\n",
      "torch.Size([128, 2, 2])\n",
      "torch.Size([128, 2, 2])\n",
      "torch.Size([128, 2, 2])\n",
      "torch.Size([128, 2, 2])\n",
      "torch.Size([128, 2, 2])\n",
      "torch.Size([128, 2, 2])\n",
      "torch.Size([128, 2, 2])"
     ]
    },
    {
     "name": "stderr",
     "output_type": "stream",
     "text": [
      " 52%|████████████████████████████████████████▌                                     | 1298/2494 [00:15<00:20, 58.85it/s]"
     ]
    },
    {
     "name": "stdout",
     "output_type": "stream",
     "text": [
      "\n",
      "torch.Size([128, 2, 2])\n",
      "torch.Size([128, 2, 2])\n",
      "torch.Size([128, 2, 2])\n",
      "torch.Size([128, 2, 2])\n",
      "torch.Size([128, 2, 2])\n",
      "torch.Size([128, 2, 2])\n",
      "torch.Size([128, 2, 2])\n",
      "torch.Size([128, 2, 2])\n",
      "torch.Size([128, 2, 2])\n",
      "torch.Size([128, 2, 2])\n",
      "torch.Size([128, 2, 2])\n",
      "torch.Size([128, 2, 2])\n",
      "torch.Size([128, 2, 2])\n",
      "torch.Size([128, 2, 2])"
     ]
    },
    {
     "name": "stderr",
     "output_type": "stream",
     "text": [
      " 52%|████████████████████████████████████████▊                                     | 1306/2494 [00:15<00:18, 63.69it/s]"
     ]
    },
    {
     "name": "stdout",
     "output_type": "stream",
     "text": [
      "\n",
      "torch.Size([128, 2, 2])\n",
      "torch.Size([128, 2, 2])\n",
      "torch.Size([128, 2, 2])\n",
      "torch.Size([128, 2, 2])\n",
      "torch.Size([128, 2, 2])\n",
      "torch.Size([128, 2, 2])\n",
      "torch.Size([128, 2, 2])\n",
      "torch.Size([128, 2, 2])\n",
      "torch.Size([128, 2, 2])\n",
      "torch.Size([128, 2, 2])\n",
      "torch.Size([128, 2, 2])\n",
      "torch.Size([128, 2, 2])\n",
      "torch.Size([128, 2, 2])\n",
      "torch.Size([128, 2, 2])"
     ]
    },
    {
     "name": "stderr",
     "output_type": "stream",
     "text": [
      " 53%|█████████████████████████████████████████▎                                    | 1321/2494 [00:16<00:18, 64.61it/s]"
     ]
    },
    {
     "name": "stdout",
     "output_type": "stream",
     "text": [
      "\n",
      "torch.Size([128, 2, 2])\n",
      "torch.Size([128, 2, 2])\n",
      "torch.Size([128, 2, 2])\n",
      "torch.Size([128, 2, 2])\n",
      "torch.Size([128, 2, 2])\n",
      "torch.Size([128, 2, 2])\n",
      "torch.Size([128, 2, 2])\n",
      "torch.Size([128, 2, 2])\n",
      "torch.Size([128, 2, 2])\n",
      "torch.Size([128, 2, 2])\n",
      "torch.Size([128, 2, 2])\n",
      "torch.Size([128, 2, 2])"
     ]
    },
    {
     "name": "stderr",
     "output_type": "stream",
     "text": [
      " 54%|█████████████████████████████████████████▊                                    | 1336/2494 [00:16<00:16, 69.10it/s]"
     ]
    },
    {
     "name": "stdout",
     "output_type": "stream",
     "text": [
      "\n",
      "torch.Size([128, 2, 2])\n",
      "torch.Size([128, 2, 2])\n",
      "torch.Size([128, 2, 2])\n",
      "torch.Size([128, 2, 2])\n",
      "torch.Size([128, 2, 2])\n",
      "torch.Size([128, 2, 2])\n",
      "torch.Size([128, 2, 2])\n",
      "torch.Size([128, 2, 2])\n",
      "torch.Size([128, 2, 2])\n",
      "torch.Size([128, 2, 2])\n",
      "torch.Size([128, 2, 2])\n",
      "torch.Size([128, 2, 2])\n",
      "torch.Size([128, 2, 2])\n",
      "torch.Size([128, 2, 2])\n",
      "torch.Size([128, 2, 2])"
     ]
    },
    {
     "name": "stderr",
     "output_type": "stream",
     "text": [
      " 54%|██████████████████████████████████████████▎                                   | 1352/2494 [00:16<00:15, 71.92it/s]"
     ]
    },
    {
     "name": "stdout",
     "output_type": "stream",
     "text": [
      "\n",
      "torch.Size([128, 2, 2])\n",
      "torch.Size([128, 2, 2])\n",
      "torch.Size([128, 2, 2])\n",
      "torch.Size([128, 2, 2])\n",
      "torch.Size([128, 2, 2])\n",
      "torch.Size([128, 2, 2])\n",
      "torch.Size([128, 2, 2])\n",
      "torch.Size([128, 2, 2])\n",
      "torch.Size([128, 2, 2])\n",
      "torch.Size([128, 2, 2])\n",
      "torch.Size([128, 2, 2])\n",
      "torch.Size([128, 2, 2])\n",
      "torch.Size([128, 2, 2])\n",
      "torch.Size([128, 2, 2])"
     ]
    },
    {
     "name": "stderr",
     "output_type": "stream",
     "text": [
      " 55%|██████████████████████████████████████████▌                                   | 1360/2494 [00:16<00:15, 72.56it/s]"
     ]
    },
    {
     "name": "stdout",
     "output_type": "stream",
     "text": [
      "\n",
      "torch.Size([128, 2, 2])\n",
      "torch.Size([128, 2, 2])\n",
      "torch.Size([128, 2, 2])\n",
      "torch.Size([128, 2, 2])\n",
      "torch.Size([128, 2, 2])\n",
      "torch.Size([128, 2, 2])\n",
      "torch.Size([128, 2, 2])\n",
      "torch.Size([128, 2, 2])\n",
      "torch.Size([128, 2, 2])\n",
      "torch.Size([128, 2, 2])\n",
      "torch.Size([128, 2, 2])\n",
      "torch.Size([128, 2, 2])\n",
      "torch.Size([128, 2, 2])\n",
      "torch.Size([128, 2, 2])"
     ]
    },
    {
     "name": "stderr",
     "output_type": "stream",
     "text": [
      " 55%|███████████████████████████████████████████                                   | 1376/2494 [00:16<00:16, 67.45it/s]"
     ]
    },
    {
     "name": "stdout",
     "output_type": "stream",
     "text": [
      "\n",
      "torch.Size([128, 2, 2])\n",
      "torch.Size([128, 2, 2])\n",
      "torch.Size([128, 2, 2])\n",
      "torch.Size([128, 2, 2])\n",
      "torch.Size([128, 2, 2])\n",
      "torch.Size([128, 2, 2])\n",
      "torch.Size([128, 2, 2])\n",
      "torch.Size([128, 2, 2])\n",
      "torch.Size([128, 2, 2])\n",
      "torch.Size([128, 2, 2])\n",
      "torch.Size([128, 2, 2])"
     ]
    },
    {
     "name": "stderr",
     "output_type": "stream",
     "text": [
      " 55%|███████████████████████████████████████████▎                                  | 1383/2494 [00:17<00:17, 61.88it/s]"
     ]
    },
    {
     "name": "stdout",
     "output_type": "stream",
     "text": [
      "\n",
      "torch.Size([128, 2, 2])\n",
      "torch.Size([128, 2, 2])\n",
      "torch.Size([128, 2, 2])\n",
      "torch.Size([128, 2, 2])\n",
      "torch.Size([128, 2, 2])\n",
      "torch.Size([128, 2, 2])\n",
      "torch.Size([128, 2, 2])\n",
      "torch.Size([128, 2, 2])\n",
      "torch.Size([128, 2, 2])\n",
      "torch.Size([128, 2, 2])\n",
      "torch.Size([128, 2, 2])"
     ]
    },
    {
     "name": "stderr",
     "output_type": "stream",
     "text": [
      " 56%|███████████████████████████████████████████▊                                  | 1399/2494 [00:17<00:16, 68.40it/s]"
     ]
    },
    {
     "name": "stdout",
     "output_type": "stream",
     "text": [
      "\n",
      "torch.Size([128, 2, 2])\n",
      "torch.Size([128, 2, 2])\n",
      "torch.Size([128, 2, 2])\n",
      "torch.Size([128, 2, 2])\n",
      "torch.Size([128, 2, 2])\n",
      "torch.Size([128, 2, 2])\n",
      "torch.Size([128, 2, 2])\n",
      "torch.Size([128, 2, 2])\n",
      "torch.Size([128, 2, 2])\n",
      "torch.Size([128, 2, 2])\n",
      "torch.Size([128, 2, 2])\n",
      "torch.Size([128, 2, 2])\n",
      "torch.Size([128, 2, 2])\n",
      "torch.Size([128, 2, 2])\n",
      "torch.Size([128, 2, 2])\n",
      "torch.Size([128, 2, 2])"
     ]
    },
    {
     "name": "stderr",
     "output_type": "stream",
     "text": [
      " 57%|████████████████████████████████████████████▎                                 | 1416/2494 [00:17<00:14, 73.08it/s]"
     ]
    },
    {
     "name": "stdout",
     "output_type": "stream",
     "text": [
      "\n",
      "torch.Size([128, 2, 2])\n",
      "torch.Size([128, 2, 2])\n",
      "torch.Size([128, 2, 2])\n",
      "torch.Size([128, 2, 2])\n",
      "torch.Size([128, 2, 2])\n",
      "torch.Size([128, 2, 2])\n",
      "torch.Size([128, 2, 2])\n",
      "torch.Size([128, 2, 2])\n",
      "torch.Size([128, 2, 2])\n",
      "torch.Size([128, 2, 2])\n",
      "torch.Size([128, 2, 2])\n",
      "torch.Size([128, 2, 2])\n",
      "torch.Size([128, 2, 2])\n",
      "torch.Size([128, 2, 2])"
     ]
    },
    {
     "name": "stderr",
     "output_type": "stream",
     "text": [
      " 57%|████████████████████████████████████████████▌                                 | 1424/2494 [00:17<00:14, 72.98it/s]"
     ]
    },
    {
     "name": "stdout",
     "output_type": "stream",
     "text": [
      "\n",
      "torch.Size([128, 2, 2])\n",
      "torch.Size([128, 2, 2])\n",
      "torch.Size([128, 2, 2])\n",
      "torch.Size([128, 2, 2])\n",
      "torch.Size([128, 2, 2])\n",
      "torch.Size([128, 2, 2])\n",
      "torch.Size([128, 2, 2])\n",
      "torch.Size([128, 2, 2])\n",
      "torch.Size([128, 2, 2])\n",
      "torch.Size([128, 2, 2])\n",
      "torch.Size([128, 2, 2])\n",
      "torch.Size([128, 2, 2])\n"
     ]
    },
    {
     "name": "stderr",
     "output_type": "stream",
     "text": [
      " 58%|█████████████████████████████████████████████                                 | 1440/2494 [00:17<00:16, 65.34it/s]"
     ]
    },
    {
     "name": "stdout",
     "output_type": "stream",
     "text": [
      "torch.Size([128, 2, 2])\n",
      "torch.Size([128, 2, 2])\n",
      "torch.Size([128, 2, 2])\n",
      "torch.Size([128, 2, 2])\n",
      "torch.Size([128, 2, 2])\n",
      "torch.Size([128, 2, 2])\n",
      "torch.Size([128, 2, 2])\n",
      "torch.Size([128, 2, 2])\n",
      "torch.Size([128, 2, 2])\n",
      "torch.Size([128, 2, 2])\n",
      "torch.Size([128, 2, 2])\n",
      "torch.Size([128, 2, 2])\n",
      "torch.Size([128, 2, 2])\n",
      "torch.Size([128, 2, 2])"
     ]
    },
    {
     "name": "stderr",
     "output_type": "stream",
     "text": [
      " 58%|█████████████████████████████████████████████▌                                | 1457/2494 [00:18<00:15, 67.88it/s]"
     ]
    },
    {
     "name": "stdout",
     "output_type": "stream",
     "text": [
      "\n",
      "torch.Size([128, 2, 2])\n",
      "torch.Size([128, 2, 2])\n",
      "torch.Size([128, 2, 2])\n",
      "torch.Size([128, 2, 2])\n",
      "torch.Size([128, 2, 2])\n",
      "torch.Size([128, 2, 2])\n",
      "torch.Size([128, 2, 2])\n",
      "torch.Size([128, 2, 2])\n",
      "torch.Size([128, 2, 2])\n",
      "torch.Size([128, 2, 2])\n",
      "torch.Size([128, 2, 2])\n",
      "torch.Size([128, 2, 2])\n",
      "torch.Size([128, 2, 2])"
     ]
    },
    {
     "name": "stderr",
     "output_type": "stream",
     "text": [
      " 59%|█████████████████████████████████████████████▊                                | 1466/2494 [00:18<00:14, 72.08it/s]"
     ]
    },
    {
     "name": "stdout",
     "output_type": "stream",
     "text": [
      "\n",
      "torch.Size([128, 2, 2])\n",
      "torch.Size([128, 2, 2])\n",
      "torch.Size([128, 2, 2])\n",
      "torch.Size([128, 2, 2])\n",
      "torch.Size([128, 2, 2])\n",
      "torch.Size([128, 2, 2])\n",
      "torch.Size([128, 2, 2])\n",
      "torch.Size([128, 2, 2])\n",
      "torch.Size([128, 2, 2])\n",
      "torch.Size([128, 2, 2])\n",
      "torch.Size([128, 2, 2])\n",
      "torch.Size([128, 2, 2])\n",
      "torch.Size([128, 2, 2])\n",
      "torch.Size([128, 2, 2])\n",
      "torch.Size([128, 2, 2])\n",
      "torch.Size([128, 2, 2])"
     ]
    },
    {
     "name": "stderr",
     "output_type": "stream",
     "text": [
      " 59%|██████████████████████████████████████████████▍                               | 1483/2494 [00:18<00:13, 75.27it/s]"
     ]
    },
    {
     "name": "stdout",
     "output_type": "stream",
     "text": [
      "\n",
      "torch.Size([128, 2, 2])\n",
      "torch.Size([128, 2, 2])\n",
      "torch.Size([128, 2, 2])\n",
      "torch.Size([128, 2, 2])\n",
      "torch.Size([128, 2, 2])\n",
      "torch.Size([128, 2, 2])\n",
      "torch.Size([128, 2, 2])\n",
      "torch.Size([128, 2, 2])\n",
      "torch.Size([128, 2, 2])\n",
      "torch.Size([128, 2, 2])\n",
      "torch.Size([128, 2, 2])\n",
      "torch.Size([128, 2, 2])\n",
      "torch.Size([128, 2, 2])\n",
      "torch.Size([128, 2, 2])\n",
      "torch.Size([128, 2, 2])"
     ]
    },
    {
     "name": "stderr",
     "output_type": "stream",
     "text": [
      " 60%|██████████████████████████████████████████████▉                               | 1501/2494 [00:18<00:12, 77.74it/s]"
     ]
    },
    {
     "name": "stdout",
     "output_type": "stream",
     "text": [
      "\n",
      "torch.Size([128, 2, 2])\n",
      "torch.Size([128, 2, 2])\n",
      "torch.Size([128, 2, 2])\n",
      "torch.Size([128, 2, 2])\n",
      "torch.Size([128, 2, 2])\n",
      "torch.Size([128, 2, 2])\n",
      "torch.Size([128, 2, 2])\n",
      "torch.Size([128, 2, 2])\n",
      "torch.Size([128, 2, 2])\n",
      "torch.Size([128, 2, 2])\n",
      "torch.Size([128, 2, 2])\n",
      "torch.Size([128, 2, 2])\n",
      "torch.Size([128, 2, 2])\n",
      "torch.Size([128, 2, 2])"
     ]
    },
    {
     "name": "stderr",
     "output_type": "stream",
     "text": [
      " 61%|███████████████████████████████████████████████▏                              | 1509/2494 [00:18<00:13, 70.73it/s]"
     ]
    },
    {
     "name": "stdout",
     "output_type": "stream",
     "text": [
      "\n",
      "torch.Size([128, 2, 2])\n",
      "torch.Size([128, 2, 2])\n",
      "torch.Size([128, 2, 2])\n",
      "torch.Size([128, 2, 2])\n",
      "torch.Size([128, 2, 2])\n",
      "torch.Size([128, 2, 2])\n",
      "torch.Size([128, 2, 2])\n",
      "torch.Size([128, 2, 2])\n",
      "torch.Size([128, 2, 2])\n",
      "torch.Size([128, 2, 2])\n",
      "torch.Size([128, 2, 2])"
     ]
    },
    {
     "name": "stderr",
     "output_type": "stream",
     "text": [
      " 61%|███████████████████████████████████████████████▋                              | 1525/2494 [00:19<00:14, 69.13it/s]"
     ]
    },
    {
     "name": "stdout",
     "output_type": "stream",
     "text": [
      "\n",
      "torch.Size([128, 2, 2])\n",
      "torch.Size([128, 2, 2])\n",
      "torch.Size([128, 2, 2])\n",
      "torch.Size([128, 2, 2])\n",
      "torch.Size([128, 2, 2])\n",
      "torch.Size([128, 2, 2])\n",
      "torch.Size([128, 2, 2])\n",
      "torch.Size([128, 2, 2])\n",
      "torch.Size([128, 2, 2])\n",
      "torch.Size([128, 2, 2])\n",
      "torch.Size([128, 2, 2])\n",
      "torch.Size([128, 2, 2])"
     ]
    },
    {
     "name": "stderr",
     "output_type": "stream",
     "text": [
      " 61%|███████████████████████████████████████████████▉                              | 1533/2494 [00:19<00:15, 63.96it/s]"
     ]
    },
    {
     "name": "stdout",
     "output_type": "stream",
     "text": [
      "\n",
      "torch.Size([128, 2, 2])\n",
      "torch.Size([128, 2, 2])\n",
      "torch.Size([128, 2, 2])\n",
      "torch.Size([128, 2, 2])\n",
      "torch.Size([128, 2, 2])\n",
      "torch.Size([128, 2, 2])\n",
      "torch.Size([128, 2, 2])\n",
      "torch.Size([128, 2, 2])\n",
      "torch.Size([128, 2, 2])\n",
      "torch.Size([128, 2, 2])\n",
      "torch.Size([128, 2, 2])"
     ]
    },
    {
     "name": "stderr",
     "output_type": "stream",
     "text": [
      " 62%|████████████████████████████████████████████████▍                             | 1548/2494 [00:19<00:14, 65.98it/s]"
     ]
    },
    {
     "name": "stdout",
     "output_type": "stream",
     "text": [
      "\n",
      "torch.Size([128, 2, 2])\n",
      "torch.Size([128, 2, 2])\n",
      "torch.Size([128, 2, 2])\n",
      "torch.Size([128, 2, 2])\n",
      "torch.Size([128, 2, 2])\n",
      "torch.Size([128, 2, 2])\n",
      "torch.Size([128, 2, 2])\n",
      "torch.Size([128, 2, 2])\n",
      "torch.Size([128, 2, 2])\n",
      "torch.Size([128, 2, 2])\n",
      "torch.Size([128, 2, 2])\n",
      "torch.Size([128, 2, 2])\n",
      "torch.Size([128, 2, 2])\n",
      "torch.Size([128, 2, 2])"
     ]
    },
    {
     "name": "stderr",
     "output_type": "stream",
     "text": [
      " 63%|████████████████████████████████████████████████▊                             | 1562/2494 [00:19<00:14, 64.48it/s]"
     ]
    },
    {
     "name": "stdout",
     "output_type": "stream",
     "text": [
      "\n",
      "torch.Size([128, 2, 2])\n",
      "torch.Size([128, 2, 2])\n",
      "torch.Size([128, 2, 2])\n",
      "torch.Size([128, 2, 2])\n",
      "torch.Size([128, 2, 2])\n",
      "torch.Size([128, 2, 2])\n",
      "torch.Size([128, 2, 2])\n",
      "torch.Size([128, 2, 2])\n",
      "torch.Size([128, 2, 2])\n",
      "torch.Size([128, 2, 2])\n",
      "torch.Size([128, 2, 2])"
     ]
    },
    {
     "name": "stderr",
     "output_type": "stream",
     "text": [
      " 63%|█████████████████████████████████████████████████                             | 1569/2494 [00:19<00:14, 64.24it/s]"
     ]
    },
    {
     "name": "stdout",
     "output_type": "stream",
     "text": [
      "\n",
      "torch.Size([128, 2, 2])\n",
      "torch.Size([128, 2, 2])\n",
      "torch.Size([128, 2, 2])\n",
      "torch.Size([128, 2, 2])\n",
      "torch.Size([128, 2, 2])\n",
      "torch.Size([128, 2, 2])\n",
      "torch.Size([128, 2, 2])\n",
      "torch.Size([128, 2, 2])\n",
      "torch.Size([128, 2, 2])\n",
      "torch.Size([128, 2, 2])\n",
      "torch.Size([128, 2, 2])\n",
      "torch.Size([128, 2, 2])\n",
      "torch.Size([128, 2, 2])\n",
      "torch.Size([128, 2, 2])"
     ]
    },
    {
     "name": "stderr",
     "output_type": "stream",
     "text": [
      " 64%|█████████████████████████████████████████████████▌                            | 1584/2494 [00:19<00:13, 65.10it/s]"
     ]
    },
    {
     "name": "stdout",
     "output_type": "stream",
     "text": [
      "\n",
      "torch.Size([128, 2, 2])\n",
      "torch.Size([128, 2, 2])\n",
      "torch.Size([128, 2, 2])\n",
      "torch.Size([128, 2, 2])\n",
      "torch.Size([128, 2, 2])\n",
      "torch.Size([128, 2, 2])\n",
      "torch.Size([128, 2, 2])\n",
      "torch.Size([128, 2, 2])\n",
      "torch.Size([128, 2, 2])\n",
      "torch.Size([128, 2, 2])\n",
      "torch.Size([128, 2, 2])"
     ]
    },
    {
     "name": "stderr",
     "output_type": "stream",
     "text": [
      " 64%|██████████████████████████████████████████████████                            | 1599/2494 [00:20<00:14, 63.01it/s]"
     ]
    },
    {
     "name": "stdout",
     "output_type": "stream",
     "text": [
      "\n",
      "torch.Size([128, 2, 2])\n",
      "torch.Size([128, 2, 2])\n",
      "torch.Size([128, 2, 2])\n",
      "torch.Size([128, 2, 2])\n",
      "torch.Size([128, 2, 2])\n",
      "torch.Size([128, 2, 2])\n",
      "torch.Size([128, 2, 2])\n",
      "torch.Size([128, 2, 2])\n",
      "torch.Size([128, 2, 2])\n",
      "torch.Size([128, 2, 2])\n",
      "torch.Size([128, 2, 2])\n",
      "torch.Size([128, 2, 2])"
     ]
    },
    {
     "name": "stderr",
     "output_type": "stream",
     "text": [
      " 64%|██████████████████████████████████████████████████▏                           | 1606/2494 [00:20<00:14, 62.53it/s]"
     ]
    },
    {
     "name": "stdout",
     "output_type": "stream",
     "text": [
      "\n",
      "torch.Size([128, 2, 2])\n",
      "torch.Size([128, 2, 2])\n",
      "torch.Size([128, 2, 2])\n",
      "torch.Size([128, 2, 2])\n",
      "torch.Size([128, 2, 2])\n",
      "torch.Size([128, 2, 2])\n",
      "torch.Size([128, 2, 2])\n",
      "torch.Size([128, 2, 2])\n",
      "torch.Size([128, 2, 2])\n",
      "torch.Size([128, 2, 2])\n",
      "torch.Size([128, 2, 2])"
     ]
    },
    {
     "name": "stderr",
     "output_type": "stream",
     "text": [
      " 65%|██████████████████████████████████████████████████▋                           | 1621/2494 [00:20<00:13, 63.60it/s]"
     ]
    },
    {
     "name": "stdout",
     "output_type": "stream",
     "text": [
      "\n",
      "torch.Size([128, 2, 2])\n",
      "torch.Size([128, 2, 2])\n",
      "torch.Size([128, 2, 2])\n",
      "torch.Size([128, 2, 2])\n",
      "torch.Size([128, 2, 2])\n",
      "torch.Size([128, 2, 2])\n",
      "torch.Size([128, 2, 2])\n",
      "torch.Size([128, 2, 2])\n",
      "torch.Size([128, 2, 2])\n",
      "torch.Size([128, 2, 2])\n",
      "torch.Size([128, 2, 2])\n",
      "torch.Size([128, 2, 2])\n",
      "torch.Size([128, 2, 2])\n",
      "torch.Size([128, 2, 2])"
     ]
    },
    {
     "name": "stderr",
     "output_type": "stream",
     "text": [
      " 66%|███████████████████████████████████████████████████▏                          | 1636/2494 [00:20<00:12, 66.42it/s]"
     ]
    },
    {
     "name": "stdout",
     "output_type": "stream",
     "text": [
      "\n",
      "torch.Size([128, 2, 2])\n",
      "torch.Size([128, 2, 2])\n",
      "torch.Size([128, 2, 2])\n",
      "torch.Size([128, 2, 2])\n",
      "torch.Size([128, 2, 2])\n",
      "torch.Size([128, 2, 2])\n",
      "torch.Size([128, 2, 2])\n",
      "torch.Size([128, 2, 2])\n",
      "torch.Size([128, 2, 2])\n",
      "torch.Size([128, 2, 2])\n",
      "torch.Size([128, 2, 2])\n",
      "torch.Size([128, 2, 2])\n",
      "torch.Size([128, 2, 2])"
     ]
    },
    {
     "name": "stderr",
     "output_type": "stream",
     "text": [
      " 66%|███████████████████████████████████████████████████▍                          | 1644/2494 [00:20<00:12, 68.86it/s]"
     ]
    },
    {
     "name": "stdout",
     "output_type": "stream",
     "text": [
      "\n",
      "torch.Size([128, 2, 2])\n",
      "torch.Size([128, 2, 2])\n",
      "torch.Size([128, 2, 2])\n",
      "torch.Size([128, 2, 2])\n",
      "torch.Size([128, 2, 2])\n",
      "torch.Size([128, 2, 2])\n",
      "torch.Size([128, 2, 2])\n",
      "torch.Size([128, 2, 2])\n",
      "torch.Size([128, 2, 2])\n",
      "torch.Size([128, 2, 2])\n",
      "torch.Size([128, 2, 2])\n",
      "torch.Size([128, 2, 2])\n",
      "torch.Size([128, 2, 2])\n",
      "torch.Size([128, 2, 2])\n",
      "torch.Size([128, 2, 2])"
     ]
    },
    {
     "name": "stderr",
     "output_type": "stream",
     "text": [
      " 67%|███████████████████████████████████████████████████▉                          | 1661/2494 [00:21<00:11, 70.40it/s]"
     ]
    },
    {
     "name": "stdout",
     "output_type": "stream",
     "text": [
      "\n",
      "torch.Size([128, 2, 2])\n",
      "torch.Size([128, 2, 2])\n",
      "torch.Size([128, 2, 2])\n",
      "torch.Size([128, 2, 2])\n",
      "torch.Size([128, 2, 2])\n",
      "torch.Size([128, 2, 2])\n",
      "torch.Size([128, 2, 2])\n",
      "torch.Size([128, 2, 2])\n",
      "torch.Size([128, 2, 2])\n",
      "torch.Size([128, 2, 2])\n",
      "torch.Size([128, 2, 2])\n",
      "torch.Size([128, 2, 2])\n",
      "torch.Size([128, 2, 2])\n",
      "torch.Size([128, 2, 2])"
     ]
    },
    {
     "name": "stderr",
     "output_type": "stream",
     "text": [
      " 67%|████████████████████████████████████████████████████▍                         | 1678/2494 [00:21<00:10, 74.99it/s]"
     ]
    },
    {
     "name": "stdout",
     "output_type": "stream",
     "text": [
      "\n",
      "torch.Size([128, 2, 2])\n",
      "torch.Size([128, 2, 2])\n",
      "torch.Size([128, 2, 2])\n",
      "torch.Size([128, 2, 2])\n",
      "torch.Size([128, 2, 2])\n",
      "torch.Size([128, 2, 2])\n",
      "torch.Size([128, 2, 2])\n",
      "torch.Size([128, 2, 2])\n",
      "torch.Size([128, 2, 2])\n",
      "torch.Size([128, 2, 2])\n",
      "torch.Size([128, 2, 2])\n",
      "torch.Size([128, 2, 2])\n",
      "torch.Size([128, 2, 2])\n",
      "torch.Size([128, 2, 2])\n"
     ]
    },
    {
     "name": "stderr",
     "output_type": "stream",
     "text": [
      " 68%|████████████████████████████████████████████████████▉                         | 1694/2494 [00:21<00:10, 77.11it/s]"
     ]
    },
    {
     "name": "stdout",
     "output_type": "stream",
     "text": [
      "torch.Size([128, 2, 2])\n",
      "torch.Size([128, 2, 2])\n",
      "torch.Size([128, 2, 2])\n",
      "torch.Size([128, 2, 2])\n",
      "torch.Size([128, 2, 2])\n",
      "torch.Size([128, 2, 2])\n",
      "torch.Size([128, 2, 2])\n",
      "torch.Size([128, 2, 2])\n",
      "torch.Size([128, 2, 2])\n",
      "torch.Size([128, 2, 2])\n",
      "torch.Size([128, 2, 2])\n",
      "torch.Size([128, 2, 2])\n",
      "torch.Size([128, 2, 2])\n",
      "torch.Size([128, 2, 2])\n",
      "torch.Size([128, 2, 2])"
     ]
    },
    {
     "name": "stderr",
     "output_type": "stream",
     "text": [
      " 68%|█████████████████████████████████████████████████████▏                        | 1702/2494 [00:21<00:10, 76.28it/s]"
     ]
    },
    {
     "name": "stdout",
     "output_type": "stream",
     "text": [
      "\n",
      "torch.Size([128, 2, 2])\n",
      "torch.Size([128, 2, 2])\n",
      "torch.Size([128, 2, 2])\n",
      "torch.Size([128, 2, 2])\n",
      "torch.Size([128, 2, 2])\n",
      "torch.Size([128, 2, 2])\n",
      "torch.Size([128, 2, 2])\n",
      "torch.Size([128, 2, 2])\n",
      "torch.Size([128, 2, 2])\n",
      "torch.Size([128, 2, 2])\n",
      "torch.Size([128, 2, 2])\n",
      "torch.Size([128, 2, 2])\n",
      "torch.Size([128, 2, 2])\n",
      "torch.Size([128, 2, 2])"
     ]
    },
    {
     "name": "stderr",
     "output_type": "stream",
     "text": [
      " 69%|█████████████████████████████████████████████████████▋                        | 1718/2494 [00:21<00:10, 75.36it/s]"
     ]
    },
    {
     "name": "stdout",
     "output_type": "stream",
     "text": [
      "\n",
      "torch.Size([128, 2, 2])\n",
      "torch.Size([128, 2, 2])\n",
      "torch.Size([128, 2, 2])\n",
      "torch.Size([128, 2, 2])\n",
      "torch.Size([128, 2, 2])\n",
      "torch.Size([128, 2, 2])\n",
      "torch.Size([128, 2, 2])\n",
      "torch.Size([128, 2, 2])\n",
      "torch.Size([128, 2, 2])\n",
      "torch.Size([128, 2, 2])\n",
      "torch.Size([128, 2, 2])\n",
      "torch.Size([128, 2, 2])\n",
      "torch.Size([128, 2, 2])"
     ]
    },
    {
     "name": "stderr",
     "output_type": "stream",
     "text": [
      " 69%|█████████████████████████████████████████████████████▉                        | 1726/2494 [00:22<00:10, 70.43it/s]"
     ]
    },
    {
     "name": "stdout",
     "output_type": "stream",
     "text": [
      "\n",
      "torch.Size([128, 2, 2])\n",
      "torch.Size([128, 2, 2])\n",
      "torch.Size([128, 2, 2])\n",
      "torch.Size([128, 2, 2])\n",
      "torch.Size([128, 2, 2])\n",
      "torch.Size([128, 2, 2])\n",
      "torch.Size([128, 2, 2])\n",
      "torch.Size([128, 2, 2])\n",
      "torch.Size([128, 2, 2])\n",
      "torch.Size([128, 2, 2])\n",
      "torch.Size([128, 2, 2])"
     ]
    },
    {
     "name": "stderr",
     "output_type": "stream",
     "text": [
      " 70%|██████████████████████████████████████████████████████▍                       | 1741/2494 [00:22<00:11, 67.57it/s]"
     ]
    },
    {
     "name": "stdout",
     "output_type": "stream",
     "text": [
      "\n",
      "torch.Size([128, 2, 2])\n",
      "torch.Size([128, 2, 2])\n",
      "torch.Size([128, 2, 2])\n",
      "torch.Size([128, 2, 2])\n",
      "torch.Size([128, 2, 2])\n",
      "torch.Size([128, 2, 2])\n",
      "torch.Size([128, 2, 2])\n",
      "torch.Size([128, 2, 2])\n",
      "torch.Size([128, 2, 2])\n",
      "torch.Size([128, 2, 2])\n",
      "torch.Size([128, 2, 2])\n",
      "torch.Size([128, 2, 2])\n",
      "torch.Size([128, 2, 2])"
     ]
    },
    {
     "name": "stderr",
     "output_type": "stream",
     "text": [
      " 70%|██████████████████████████████████████████████████████▉                       | 1756/2494 [00:22<00:10, 68.64it/s]"
     ]
    },
    {
     "name": "stdout",
     "output_type": "stream",
     "text": [
      "\n",
      "torch.Size([128, 2, 2])\n",
      "torch.Size([128, 2, 2])\n",
      "torch.Size([128, 2, 2])\n",
      "torch.Size([128, 2, 2])\n",
      "torch.Size([128, 2, 2])\n",
      "torch.Size([128, 2, 2])\n",
      "torch.Size([128, 2, 2])\n",
      "torch.Size([128, 2, 2])\n",
      "torch.Size([128, 2, 2])\n",
      "torch.Size([128, 2, 2])\n",
      "torch.Size([128, 2, 2])\n",
      "torch.Size([128, 2, 2])\n",
      "torch.Size([128, 2, 2])\n"
     ]
    },
    {
     "name": "stderr",
     "output_type": "stream",
     "text": [
      " 71%|███████████████████████████████████████████████████████▍                      | 1772/2494 [00:22<00:09, 72.34it/s]"
     ]
    },
    {
     "name": "stdout",
     "output_type": "stream",
     "text": [
      "torch.Size([128, 2, 2])\n",
      "torch.Size([128, 2, 2])\n",
      "torch.Size([128, 2, 2])\n",
      "torch.Size([128, 2, 2])\n",
      "torch.Size([128, 2, 2])\n",
      "torch.Size([128, 2, 2])\n",
      "torch.Size([128, 2, 2])\n",
      "torch.Size([128, 2, 2])\n",
      "torch.Size([128, 2, 2])\n",
      "torch.Size([128, 2, 2])\n",
      "torch.Size([128, 2, 2])\n",
      "torch.Size([128, 2, 2])\n",
      "torch.Size([128, 2, 2])\n",
      "torch.Size([128, 2, 2])\n",
      "torch.Size([128, 2, 2])"
     ]
    },
    {
     "name": "stderr",
     "output_type": "stream",
     "text": [
      " 72%|███████████████████████████████████████████████████████▉                      | 1788/2494 [00:22<00:09, 75.15it/s]"
     ]
    },
    {
     "name": "stdout",
     "output_type": "stream",
     "text": [
      "\n",
      "torch.Size([128, 2, 2])\n",
      "torch.Size([128, 2, 2])\n",
      "torch.Size([128, 2, 2])\n",
      "torch.Size([128, 2, 2])\n",
      "torch.Size([128, 2, 2])\n",
      "torch.Size([128, 2, 2])\n",
      "torch.Size([128, 2, 2])\n",
      "torch.Size([128, 2, 2])\n",
      "torch.Size([128, 2, 2])\n",
      "torch.Size([128, 2, 2])\n",
      "torch.Size([128, 2, 2])\n",
      "torch.Size([128, 2, 2])\n",
      "torch.Size([128, 2, 2])\n",
      "torch.Size([128, 2, 2])"
     ]
    },
    {
     "name": "stderr",
     "output_type": "stream",
     "text": [
      " 72%|████████████████████████████████████████████████████████▏                     | 1796/2494 [00:22<00:09, 72.80it/s]"
     ]
    },
    {
     "name": "stdout",
     "output_type": "stream",
     "text": [
      "\n",
      "torch.Size([128, 2, 2])\n",
      "torch.Size([128, 2, 2])\n",
      "torch.Size([128, 2, 2])\n",
      "torch.Size([128, 2, 2])\n",
      "torch.Size([128, 2, 2])\n",
      "torch.Size([128, 2, 2])\n",
      "torch.Size([128, 2, 2])\n",
      "torch.Size([128, 2, 2])\n",
      "torch.Size([128, 2, 2])\n",
      "torch.Size([128, 2, 2])\n",
      "torch.Size([128, 2, 2])\n",
      "torch.Size([128, 2, 2])\n",
      "torch.Size([128, 2, 2])"
     ]
    },
    {
     "name": "stderr",
     "output_type": "stream",
     "text": [
      " 73%|████████████████████████████████████████████████████████▋                     | 1811/2494 [00:23<00:10, 65.92it/s]"
     ]
    },
    {
     "name": "stdout",
     "output_type": "stream",
     "text": [
      "\n",
      "torch.Size([128, 2, 2])\n",
      "torch.Size([128, 2, 2])\n",
      "torch.Size([128, 2, 2])\n",
      "torch.Size([128, 2, 2])\n",
      "torch.Size([128, 2, 2])\n",
      "torch.Size([128, 2, 2])\n",
      "torch.Size([128, 2, 2])\n",
      "torch.Size([128, 2, 2])\n",
      "torch.Size([128, 2, 2])\n",
      "torch.Size([128, 2, 2])\n",
      "torch.Size([128, 2, 2])"
     ]
    },
    {
     "name": "stderr",
     "output_type": "stream",
     "text": [
      " 73%|████████████████████████████████████████████████████████▊                     | 1818/2494 [00:23<00:10, 64.54it/s]"
     ]
    },
    {
     "name": "stdout",
     "output_type": "stream",
     "text": [
      "\n",
      "torch.Size([128, 2, 2])\n",
      "torch.Size([128, 2, 2])\n",
      "torch.Size([128, 2, 2])\n",
      "torch.Size([128, 2, 2])\n",
      "torch.Size([128, 2, 2])\n",
      "torch.Size([128, 2, 2])\n",
      "torch.Size([128, 2, 2])\n",
      "torch.Size([128, 2, 2])\n",
      "torch.Size([128, 2, 2])\n",
      "torch.Size([128, 2, 2])\n",
      "torch.Size([128, 2, 2])\n",
      "torch.Size([128, 2, 2])"
     ]
    },
    {
     "name": "stderr",
     "output_type": "stream",
     "text": [
      " 73%|█████████████████████████████████████████████████████████▎                    | 1833/2494 [00:23<00:09, 68.80it/s]"
     ]
    },
    {
     "name": "stdout",
     "output_type": "stream",
     "text": [
      "\n",
      "torch.Size([128, 2, 2])\n",
      "torch.Size([128, 2, 2])\n",
      "torch.Size([128, 2, 2])\n",
      "torch.Size([128, 2, 2])\n",
      "torch.Size([128, 2, 2])\n",
      "torch.Size([128, 2, 2])\n",
      "torch.Size([128, 2, 2])\n",
      "torch.Size([128, 2, 2])\n",
      "torch.Size([128, 2, 2])\n",
      "torch.Size([128, 2, 2])\n",
      "torch.Size([128, 2, 2])\n",
      "torch.Size([128, 2, 2])\n",
      "torch.Size([128, 2, 2])\n",
      "torch.Size([128, 2, 2])"
     ]
    },
    {
     "name": "stderr",
     "output_type": "stream",
     "text": [
      " 74%|█████████████████████████████████████████████████████████▊                    | 1847/2494 [00:23<00:09, 67.15it/s]"
     ]
    },
    {
     "name": "stdout",
     "output_type": "stream",
     "text": [
      "\n",
      "torch.Size([128, 2, 2])\n",
      "torch.Size([128, 2, 2])\n",
      "torch.Size([128, 2, 2])\n",
      "torch.Size([128, 2, 2])\n",
      "torch.Size([128, 2, 2])\n",
      "torch.Size([128, 2, 2])\n",
      "torch.Size([128, 2, 2])\n",
      "torch.Size([128, 2, 2])\n",
      "torch.Size([128, 2, 2])\n",
      "torch.Size([128, 2, 2])\n",
      "torch.Size([128, 2, 2])\n",
      "torch.Size([128, 2, 2])\n",
      "torch.Size([128, 2, 2])"
     ]
    },
    {
     "name": "stderr",
     "output_type": "stream",
     "text": [
      " 75%|██████████████████████████████████████████████████████████▎                   | 1863/2494 [00:24<00:09, 67.89it/s]"
     ]
    },
    {
     "name": "stdout",
     "output_type": "stream",
     "text": [
      "\n",
      "torch.Size([128, 2, 2])\n",
      "torch.Size([128, 2, 2])\n",
      "torch.Size([128, 2, 2])\n",
      "torch.Size([128, 2, 2])\n",
      "torch.Size([128, 2, 2])\n",
      "torch.Size([128, 2, 2])\n",
      "torch.Size([128, 2, 2])\n",
      "torch.Size([128, 2, 2])\n",
      "torch.Size([128, 2, 2])\n",
      "torch.Size([128, 2, 2])\n",
      "torch.Size([128, 2, 2])\n",
      "torch.Size([128, 2, 2])"
     ]
    },
    {
     "name": "stderr",
     "output_type": "stream",
     "text": [
      " 75%|██████████████████████████████████████████████████████████▍                   | 1870/2494 [00:24<00:09, 64.45it/s]"
     ]
    },
    {
     "name": "stdout",
     "output_type": "stream",
     "text": [
      "\n",
      "torch.Size([128, 2, 2])\n",
      "torch.Size([128, 2, 2])\n",
      "torch.Size([128, 2, 2])\n",
      "torch.Size([128, 2, 2])\n",
      "torch.Size([128, 2, 2])\n",
      "torch.Size([128, 2, 2])\n",
      "torch.Size([128, 2, 2])\n",
      "torch.Size([128, 2, 2])\n",
      "torch.Size([128, 2, 2])\n",
      "torch.Size([128, 2, 2])\n",
      "torch.Size([128, 2, 2])\n"
     ]
    },
    {
     "name": "stderr",
     "output_type": "stream",
     "text": [
      " 76%|██████████████████████████████████████████████████████████▉                   | 1885/2494 [00:24<00:09, 67.24it/s]"
     ]
    },
    {
     "name": "stdout",
     "output_type": "stream",
     "text": [
      "torch.Size([128, 2, 2])\n",
      "torch.Size([128, 2, 2])\n",
      "torch.Size([128, 2, 2])\n",
      "torch.Size([128, 2, 2])\n",
      "torch.Size([128, 2, 2])\n",
      "torch.Size([128, 2, 2])\n",
      "torch.Size([128, 2, 2])\n",
      "torch.Size([128, 2, 2])\n",
      "torch.Size([128, 2, 2])\n",
      "torch.Size([128, 2, 2])\n",
      "torch.Size([128, 2, 2])\n",
      "torch.Size([128, 2, 2])\n",
      "torch.Size([128, 2, 2])\n"
     ]
    },
    {
     "name": "stderr",
     "output_type": "stream",
     "text": [
      " 76%|███████████████████████████████████████████████████████████▏                  | 1892/2494 [00:24<00:10, 56.52it/s]"
     ]
    },
    {
     "name": "stdout",
     "output_type": "stream",
     "text": [
      "torch.Size([128, 2, 2])\n",
      "torch.Size([128, 2, 2])\n",
      "torch.Size([128, 2, 2])\n",
      "torch.Size([128, 2, 2])\n",
      "torch.Size([128, 2, 2])\n",
      "torch.Size([128, 2, 2])\n",
      "torch.Size([128, 2, 2])"
     ]
    },
    {
     "name": "stderr",
     "output_type": "stream",
     "text": [
      " 76%|███████████████████████████████████████████████████████████▎                  | 1898/2494 [00:24<00:12, 46.17it/s]"
     ]
    },
    {
     "name": "stdout",
     "output_type": "stream",
     "text": [
      "\n",
      "torch.Size([128, 2, 2])\n",
      "torch.Size([128, 2, 2])\n",
      "torch.Size([128, 2, 2])\n",
      "torch.Size([128, 2, 2])\n",
      "torch.Size([128, 2, 2])\n",
      "torch.Size([128, 2, 2])"
     ]
    },
    {
     "name": "stderr",
     "output_type": "stream",
     "text": [
      " 77%|███████████████████████████████████████████████████████████▊                  | 1913/2494 [00:24<00:11, 51.31it/s]"
     ]
    },
    {
     "name": "stdout",
     "output_type": "stream",
     "text": [
      "\n",
      "torch.Size([128, 2, 2])\n",
      "torch.Size([128, 2, 2])\n",
      "torch.Size([128, 2, 2])\n",
      "torch.Size([128, 2, 2])\n",
      "torch.Size([128, 2, 2])\n",
      "torch.Size([128, 2, 2])\n",
      "torch.Size([128, 2, 2])\n",
      "torch.Size([128, 2, 2])\n",
      "torch.Size([128, 2, 2])\n",
      "torch.Size([128, 2, 2])\n",
      "torch.Size([128, 2, 2])\n",
      "torch.Size([128, 2, 2])\n",
      "torch.Size([128, 2, 2])\n",
      "torch.Size([128, 2, 2])"
     ]
    },
    {
     "name": "stderr",
     "output_type": "stream",
     "text": [
      " 77%|████████████████████████████████████████████████████████████                  | 1922/2494 [00:25<00:09, 58.83it/s]"
     ]
    },
    {
     "name": "stdout",
     "output_type": "stream",
     "text": [
      "\n",
      "torch.Size([128, 2, 2])\n",
      "torch.Size([128, 2, 2])\n",
      "torch.Size([128, 2, 2])\n",
      "torch.Size([128, 2, 2])\n",
      "torch.Size([128, 2, 2])\n",
      "torch.Size([128, 2, 2])\n",
      "torch.Size([128, 2, 2])\n",
      "torch.Size([128, 2, 2])\n",
      "torch.Size([128, 2, 2])\n",
      "torch.Size([128, 2, 2])\n",
      "torch.Size([128, 2, 2])\n",
      "torch.Size([128, 2, 2])\n",
      "torch.Size([128, 2, 2])\n",
      "torch.Size([128, 2, 2])\n",
      "torch.Size([128, 2, 2])\n",
      "torch.Size([128, 2, 2])\n",
      "torch.Size([128, 2, 2])\n",
      "torch.Size([128, 2, 2])"
     ]
    },
    {
     "name": "stderr",
     "output_type": "stream",
     "text": [
      " 78%|████████████████████████████████████████████████████████████▊                 | 1943/2494 [00:25<00:07, 72.84it/s]"
     ]
    },
    {
     "name": "stdout",
     "output_type": "stream",
     "text": [
      "\n",
      "torch.Size([128, 2, 2])\n",
      "torch.Size([128, 2, 2])\n",
      "torch.Size([128, 2, 2])\n",
      "torch.Size([128, 2, 2])\n",
      "torch.Size([128, 2, 2])\n",
      "torch.Size([128, 2, 2])\n",
      "torch.Size([128, 2, 2])\n",
      "torch.Size([128, 2, 2])\n",
      "torch.Size([128, 2, 2])\n",
      "torch.Size([128, 2, 2])\n",
      "torch.Size([128, 2, 2])\n",
      "torch.Size([128, 2, 2])\n",
      "torch.Size([128, 2, 2])\n",
      "torch.Size([128, 2, 2])\n",
      "torch.Size([128, 2, 2])\n",
      "torch.Size([128, 2, 2])\n",
      "torch.Size([128, 2, 2])"
     ]
    },
    {
     "name": "stderr",
     "output_type": "stream",
     "text": [
      " 79%|█████████████████████████████████████████████████████████████▍                | 1966/2494 [00:25<00:05, 88.74it/s]"
     ]
    },
    {
     "name": "stdout",
     "output_type": "stream",
     "text": [
      "\n",
      "torch.Size([128, 2, 2])\n",
      "torch.Size([128, 2, 2])\n",
      "torch.Size([128, 2, 2])\n",
      "torch.Size([128, 2, 2])\n",
      "torch.Size([128, 2, 2])\n",
      "torch.Size([128, 2, 2])\n",
      "torch.Size([128, 2, 2])\n",
      "torch.Size([128, 2, 2])\n",
      "torch.Size([128, 2, 2])\n",
      "torch.Size([128, 2, 2])\n",
      "torch.Size([128, 2, 2])\n",
      "torch.Size([128, 2, 2])\n",
      "torch.Size([128, 2, 2])\n",
      "torch.Size([128, 2, 2])\n",
      "torch.Size([128, 2, 2])\n",
      "torch.Size([128, 2, 2])\n",
      "torch.Size([128, 2, 2])\n",
      "torch.Size([128, 2, 2])\n",
      "torch.Size([128, 2, 2])\n",
      "torch.Size([128, 2, 2])\n",
      "torch.Size([128, 2, 2])\n",
      "torch.Size([128, 2, 2])"
     ]
    },
    {
     "name": "stderr",
     "output_type": "stream",
     "text": [
      " 80%|█████████████████████████████████████████████████████████████▍               | 1991/2494 [00:25<00:04, 101.44it/s]"
     ]
    },
    {
     "name": "stdout",
     "output_type": "stream",
     "text": [
      "\n",
      "torch.Size([128, 2, 2])\n",
      "torch.Size([128, 2, 2])\n",
      "torch.Size([128, 2, 2])\n",
      "torch.Size([128, 2, 2])\n",
      "torch.Size([128, 2, 2])\n",
      "torch.Size([128, 2, 2])\n",
      "torch.Size([128, 2, 2])\n",
      "torch.Size([128, 2, 2])\n",
      "torch.Size([128, 2, 2])\n",
      "torch.Size([128, 2, 2])\n",
      "torch.Size([128, 2, 2])\n",
      "torch.Size([128, 2, 2])\n",
      "torch.Size([128, 2, 2])\n",
      "torch.Size([128, 2, 2])\n",
      "torch.Size([128, 2, 2])\n",
      "torch.Size([128, 2, 2])\n",
      "torch.Size([128, 2, 2])\n",
      "torch.Size([128, 2, 2])\n",
      "torch.Size([128, 2, 2])\n",
      "torch.Size([128, 2, 2])\n",
      "torch.Size([128, 2, 2])\n",
      "torch.Size([128, 2, 2])"
     ]
    },
    {
     "name": "stderr",
     "output_type": "stream",
     "text": [
      " 80%|█████████████████████████████████████████████████████████████▊               | 2002/2494 [00:25<00:04, 101.30it/s]"
     ]
    },
    {
     "name": "stdout",
     "output_type": "stream",
     "text": [
      "\n",
      "torch.Size([128, 2, 2])\n",
      "torch.Size([128, 2, 2])\n",
      "torch.Size([128, 2, 2])\n",
      "torch.Size([128, 2, 2])\n",
      "torch.Size([128, 2, 2])\n",
      "torch.Size([128, 2, 2])\n",
      "torch.Size([128, 2, 2])\n",
      "torch.Size([128, 2, 2])\n",
      "torch.Size([128, 2, 2])\n",
      "torch.Size([128, 2, 2])\n",
      "torch.Size([128, 2, 2])\n",
      "torch.Size([128, 2, 2])\n",
      "torch.Size([128, 2, 2])\n",
      "torch.Size([128, 2, 2])\n",
      "torch.Size([128, 2, 2])\n",
      "torch.Size([128, 2, 2])\n",
      "torch.Size([128, 2, 2])\n",
      "torch.Size([128, 2, 2])\n",
      "torch.Size([128, 2, 2])\n",
      "torch.Size([128, 2, 2])\n",
      "torch.Size([128, 2, 2])"
     ]
    },
    {
     "name": "stderr",
     "output_type": "stream",
     "text": [
      " 81%|██████████████████████████████████████████████████████████████▌              | 2027/2494 [00:26<00:04, 109.69it/s]"
     ]
    },
    {
     "name": "stdout",
     "output_type": "stream",
     "text": [
      "\n",
      "torch.Size([128, 2, 2])\n",
      "torch.Size([128, 2, 2])\n",
      "torch.Size([128, 2, 2])\n",
      "torch.Size([128, 2, 2])\n",
      "torch.Size([128, 2, 2])\n",
      "torch.Size([128, 2, 2])\n",
      "torch.Size([128, 2, 2])\n",
      "torch.Size([128, 2, 2])\n",
      "torch.Size([128, 2, 2])\n",
      "torch.Size([128, 2, 2])\n",
      "torch.Size([128, 2, 2])\n",
      "torch.Size([128, 2, 2])\n",
      "torch.Size([128, 2, 2])\n",
      "torch.Size([128, 2, 2])\n",
      "torch.Size([128, 2, 2])\n",
      "torch.Size([128, 2, 2])\n",
      "torch.Size([128, 2, 2])\n",
      "torch.Size([128, 2, 2])\n",
      "torch.Size([128, 2, 2])\n",
      "torch.Size([128, 2, 2])"
     ]
    },
    {
     "name": "stderr",
     "output_type": "stream",
     "text": [
      " 82%|███████████████████████████████████████████████████████████████▎             | 2051/2494 [00:26<00:04, 107.19it/s]"
     ]
    },
    {
     "name": "stdout",
     "output_type": "stream",
     "text": [
      "\n",
      "torch.Size([128, 2, 2])\n",
      "torch.Size([128, 2, 2])\n",
      "torch.Size([128, 2, 2])\n",
      "torch.Size([128, 2, 2])\n",
      "torch.Size([128, 2, 2])\n",
      "torch.Size([128, 2, 2])\n",
      "torch.Size([128, 2, 2])\n",
      "torch.Size([128, 2, 2])\n",
      "torch.Size([128, 2, 2])\n",
      "torch.Size([128, 2, 2])\n",
      "torch.Size([128, 2, 2])\n",
      "torch.Size([128, 2, 2])\n",
      "torch.Size([128, 2, 2])\n",
      "torch.Size([128, 2, 2])\n",
      "torch.Size([128, 2, 2])\n",
      "torch.Size([128, 2, 2])\n",
      "torch.Size([128, 2, 2])\n",
      "torch.Size([128, 2, 2])\n",
      "torch.Size([128, 2, 2])\n",
      "torch.Size([128, 2, 2])"
     ]
    },
    {
     "name": "stderr",
     "output_type": "stream",
     "text": [
      " 83%|████████████████████████████████████████████████████████████████             | 2074/2494 [00:26<00:03, 108.54it/s]"
     ]
    },
    {
     "name": "stdout",
     "output_type": "stream",
     "text": [
      "\n",
      "torch.Size([128, 2, 2])\n",
      "torch.Size([128, 2, 2])\n",
      "torch.Size([128, 2, 2])\n",
      "torch.Size([128, 2, 2])\n",
      "torch.Size([128, 2, 2])\n",
      "torch.Size([128, 2, 2])\n",
      "torch.Size([128, 2, 2])\n",
      "torch.Size([128, 2, 2])\n",
      "torch.Size([128, 2, 2])\n",
      "torch.Size([128, 2, 2])\n",
      "torch.Size([128, 2, 2])\n",
      "torch.Size([128, 2, 2])\n",
      "torch.Size([128, 2, 2])\n",
      "torch.Size([128, 2, 2])\n",
      "torch.Size([128, 2, 2])\n",
      "torch.Size([128, 2, 2])\n",
      "torch.Size([128, 2, 2])\n",
      "torch.Size([128, 2, 2])\n",
      "torch.Size([128, 2, 2])\n",
      "torch.Size([128, 2, 2])\n",
      "torch.Size([128, 2, 2])"
     ]
    },
    {
     "name": "stderr",
     "output_type": "stream",
     "text": [
      " 84%|████████████████████████████████████████████████████████████████▎            | 2085/2494 [00:26<00:03, 108.67it/s]"
     ]
    },
    {
     "name": "stdout",
     "output_type": "stream",
     "text": [
      "\n",
      "torch.Size([128, 2, 2])\n",
      "torch.Size([128, 2, 2])\n",
      "torch.Size([128, 2, 2])\n",
      "torch.Size([128, 2, 2])\n",
      "torch.Size([128, 2, 2])\n",
      "torch.Size([128, 2, 2])\n",
      "torch.Size([128, 2, 2])\n",
      "torch.Size([128, 2, 2])\n",
      "torch.Size([128, 2, 2])\n",
      "torch.Size([128, 2, 2])\n",
      "torch.Size([128, 2, 2])\n",
      "torch.Size([128, 2, 2])\n",
      "torch.Size([128, 2, 2])\n",
      "torch.Size([128, 2, 2])\n",
      "torch.Size([128, 2, 2])\n",
      "torch.Size([128, 2, 2])\n",
      "torch.Size([128, 2, 2])\n",
      "torch.Size([128, 2, 2])\n",
      "torch.Size([128, 2, 2])\n",
      "torch.Size([128, 2, 2])\n",
      "torch.Size([128, 2, 2])"
     ]
    },
    {
     "name": "stderr",
     "output_type": "stream",
     "text": [
      " 85%|█████████████████████████████████████████████████████████████████▏           | 2110/2494 [00:26<00:03, 111.07it/s]"
     ]
    },
    {
     "name": "stdout",
     "output_type": "stream",
     "text": [
      "\n",
      "torch.Size([128, 2, 2])\n",
      "torch.Size([128, 2, 2])\n",
      "torch.Size([128, 2, 2])\n",
      "torch.Size([128, 2, 2])\n",
      "torch.Size([128, 2, 2])\n",
      "torch.Size([128, 2, 2])\n",
      "torch.Size([128, 2, 2])\n",
      "torch.Size([128, 2, 2])\n",
      "torch.Size([128, 2, 2])\n",
      "torch.Size([128, 2, 2])\n",
      "torch.Size([128, 2, 2])\n",
      "torch.Size([128, 2, 2])\n",
      "torch.Size([128, 2, 2])\n",
      "torch.Size([128, 2, 2])\n",
      "torch.Size([128, 2, 2])\n",
      "torch.Size([128, 2, 2])\n",
      "torch.Size([128, 2, 2])\n",
      "torch.Size([128, 2, 2])\n",
      "torch.Size([128, 2, 2])\n",
      "torch.Size([128, 2, 2])\n",
      "torch.Size([128, 2, 2])"
     ]
    },
    {
     "name": "stderr",
     "output_type": "stream",
     "text": [
      " 86%|█████████████████████████████████████████████████████████████████▉           | 2134/2494 [00:26<00:03, 111.03it/s]"
     ]
    },
    {
     "name": "stdout",
     "output_type": "stream",
     "text": [
      "\n",
      "torch.Size([128, 2, 2])\n",
      "torch.Size([128, 2, 2])\n",
      "torch.Size([128, 2, 2])\n",
      "torch.Size([128, 2, 2])\n",
      "torch.Size([128, 2, 2])\n",
      "torch.Size([128, 2, 2])\n",
      "torch.Size([128, 2, 2])\n",
      "torch.Size([128, 2, 2])\n",
      "torch.Size([128, 2, 2])\n",
      "torch.Size([128, 2, 2])\n",
      "torch.Size([128, 2, 2])\n",
      "torch.Size([128, 2, 2])\n",
      "torch.Size([128, 2, 2])\n",
      "torch.Size([128, 2, 2])\n",
      "torch.Size([128, 2, 2])\n",
      "torch.Size([128, 2, 2])\n",
      "torch.Size([128, 2, 2])\n",
      "torch.Size([128, 2, 2])\n",
      "torch.Size([128, 2, 2])\n",
      "torch.Size([128, 2, 2])\n",
      "torch.Size([128, 2, 2])\n",
      "torch.Size([128, 2, 2])\n",
      "torch.Size([128, 2, 2])\n",
      "torch.Size([128, 2, 2])\n"
     ]
    },
    {
     "name": "stderr",
     "output_type": "stream",
     "text": [
      " 86%|███████████████████████████████████████████████████████████████████           | 2146/2494 [00:27<00:05, 65.80it/s]"
     ]
    },
    {
     "name": "stdout",
     "output_type": "stream",
     "text": [
      "torch.Size([128, 2, 2])\n",
      "torch.Size([128, 2, 2])\n",
      "torch.Size([128, 2, 2])\n",
      "torch.Size([128, 2, 2])\n",
      "torch.Size([128, 2, 2])\n",
      "torch.Size([128, 2, 2])\n",
      "torch.Size([128, 2, 2])\n"
     ]
    },
    {
     "name": "stderr",
     "output_type": "stream",
     "text": [
      " 86%|███████████████████████████████████████████████████████████████████▍          | 2155/2494 [00:27<00:06, 48.71it/s]"
     ]
    },
    {
     "name": "stdout",
     "output_type": "stream",
     "text": [
      "torch.Size([128, 2, 2])\n",
      "torch.Size([128, 2, 2])\n",
      "torch.Size([128, 2, 2])\n",
      "torch.Size([128, 2, 2])\n",
      "torch.Size([128, 2, 2])\n",
      "torch.Size([128, 2, 2])\n",
      "torch.Size([128, 2, 2])\n",
      "torch.Size([128, 2, 2])\n",
      "torch.Size([128, 2, 2])\n",
      "torch.Size([128, 2, 2])\n",
      "torch.Size([128, 2, 2])\n",
      "torch.Size([128, 2, 2])"
     ]
    },
    {
     "name": "stderr",
     "output_type": "stream",
     "text": [
      " 87%|███████████████████████████████████████████████████████████████████▋          | 2163/2494 [00:27<00:08, 38.06it/s]"
     ]
    },
    {
     "name": "stdout",
     "output_type": "stream",
     "text": [
      "\n",
      "torch.Size([128, 2, 2])\n",
      "torch.Size([128, 2, 2])\n",
      "torch.Size([128, 2, 2])\n",
      "torch.Size([128, 2, 2])\n",
      "torch.Size([128, 2, 2])\n"
     ]
    },
    {
     "name": "stderr",
     "output_type": "stream",
     "text": [
      " 87%|███████████████████████████████████████████████████████████████████▊          | 2169/2494 [00:28<00:09, 33.34it/s]"
     ]
    },
    {
     "name": "stdout",
     "output_type": "stream",
     "text": [
      "torch.Size([128, 2, 2])\n",
      "torch.Size([128, 2, 2])\n",
      "torch.Size([128, 2, 2])\n",
      "torch.Size([128, 2, 2])\n",
      "torch.Size([128, 2, 2])\n",
      "torch.Size([128, 2, 2])"
     ]
    },
    {
     "name": "stderr",
     "output_type": "stream",
     "text": [
      " 87%|███████████████████████████████████████████████████████████████████▉          | 2174/2494 [00:28<00:09, 32.25it/s]"
     ]
    },
    {
     "name": "stdout",
     "output_type": "stream",
     "text": [
      "\n",
      "torch.Size([128, 2, 2])\n",
      "torch.Size([128, 2, 2])\n",
      "torch.Size([128, 2, 2])\n",
      "torch.Size([128, 2, 2])\n",
      "torch.Size([128, 2, 2])\n"
     ]
    },
    {
     "name": "stderr",
     "output_type": "stream",
     "text": [
      " 88%|████████████████████████████████████████████████████████████████████▎         | 2183/2494 [00:28<00:10, 30.90it/s]"
     ]
    },
    {
     "name": "stdout",
     "output_type": "stream",
     "text": [
      "torch.Size([128, 2, 2])\n",
      "torch.Size([128, 2, 2])\n",
      "torch.Size([128, 2, 2])\n",
      "torch.Size([128, 2, 2])\n",
      "torch.Size([128, 2, 2])\n",
      "torch.Size([128, 2, 2])\n"
     ]
    },
    {
     "name": "stderr",
     "output_type": "stream",
     "text": [
      " 88%|████████████████████████████████████████████████████████████████████▍         | 2187/2494 [00:28<00:10, 29.23it/s]"
     ]
    },
    {
     "name": "stdout",
     "output_type": "stream",
     "text": [
      "torch.Size([128, 2, 2])\n",
      "torch.Size([128, 2, 2])\n",
      "torch.Size([128, 2, 2])\n",
      "torch.Size([128, 2, 2])\n",
      "torch.Size([128, 2, 2])\n",
      "torch.Size([128, 2, 2])\n",
      "torch.Size([128, 2, 2])"
     ]
    },
    {
     "name": "stderr",
     "output_type": "stream",
     "text": [
      " 88%|████████████████████████████████████████████████████████████████████▋         | 2195/2494 [00:29<00:09, 32.81it/s]"
     ]
    },
    {
     "name": "stdout",
     "output_type": "stream",
     "text": [
      "\n",
      "torch.Size([128, 2, 2])\n",
      "torch.Size([128, 2, 2])\n",
      "torch.Size([128, 2, 2])\n",
      "torch.Size([128, 2, 2])\n",
      "torch.Size([128, 2, 2])\n",
      "torch.Size([128, 2, 2])\n",
      "torch.Size([128, 2, 2])\n",
      "torch.Size([128, 2, 2])\n",
      "torch.Size([128, 2, 2])\n",
      "torch.Size([128, 2, 2])\n",
      "torch.Size([128, 2, 2])"
     ]
    },
    {
     "name": "stderr",
     "output_type": "stream",
     "text": [
      " 89%|█████████████████████████████████████████████████████████████████████▎        | 2218/2494 [00:29<00:05, 50.93it/s]"
     ]
    },
    {
     "name": "stdout",
     "output_type": "stream",
     "text": [
      "\n",
      "torch.Size([128, 2, 2])\n",
      "torch.Size([128, 2, 2])\n",
      "torch.Size([128, 2, 2])\n",
      "torch.Size([128, 2, 2])\n",
      "torch.Size([128, 2, 2])\n",
      "torch.Size([128, 2, 2])\n",
      "torch.Size([128, 2, 2])\n",
      "torch.Size([128, 2, 2])\n",
      "torch.Size([128, 2, 2])\n",
      "torch.Size([128, 2, 2])\n",
      "torch.Size([128, 2, 2])\n",
      "torch.Size([128, 2, 2])\n",
      "torch.Size([128, 2, 2])\n",
      "torch.Size([128, 2, 2])\n",
      "torch.Size([128, 2, 2])\n",
      "torch.Size([128, 2, 2])\n",
      "torch.Size([128, 2, 2])\n",
      "torch.Size([128, 2, 2])\n",
      "torch.Size([128, 2, 2])\n",
      "torch.Size([128, 2, 2])"
     ]
    },
    {
     "name": "stderr",
     "output_type": "stream",
     "text": [
      " 90%|██████████████████████████████████████████████████████████████████████        | 2242/2494 [00:29<00:03, 71.01it/s]"
     ]
    },
    {
     "name": "stdout",
     "output_type": "stream",
     "text": [
      "\n",
      "torch.Size([128, 2, 2])\n",
      "torch.Size([128, 2, 2])\n",
      "torch.Size([128, 2, 2])\n",
      "torch.Size([128, 2, 2])\n",
      "torch.Size([128, 2, 2])\n",
      "torch.Size([128, 2, 2])\n",
      "torch.Size([128, 2, 2])\n",
      "torch.Size([128, 2, 2])\n",
      "torch.Size([128, 2, 2])\n",
      "torch.Size([128, 2, 2])\n",
      "torch.Size([128, 2, 2])\n",
      "torch.Size([128, 2, 2])\n",
      "torch.Size([128, 2, 2])\n",
      "torch.Size([128, 2, 2])\n",
      "torch.Size([128, 2, 2])\n",
      "torch.Size([128, 2, 2])\n",
      "torch.Size([128, 2, 2])\n",
      "torch.Size([128, 2, 2])\n",
      "torch.Size([128, 2, 2])\n",
      "torch.Size([128, 2, 2])\n",
      "torch.Size([128, 2, 2])\n",
      "torch.Size([128, 2, 2])"
     ]
    },
    {
     "name": "stderr",
     "output_type": "stream",
     "text": [
      " 90%|██████████████████████████████████████████████████████████████████████▍       | 2253/2494 [00:29<00:03, 78.11it/s]"
     ]
    },
    {
     "name": "stdout",
     "output_type": "stream",
     "text": [
      "\n",
      "torch.Size([128, 2, 2])\n",
      "torch.Size([128, 2, 2])\n",
      "torch.Size([128, 2, 2])\n",
      "torch.Size([128, 2, 2])\n",
      "torch.Size([128, 2, 2])\n",
      "torch.Size([128, 2, 2])\n",
      "torch.Size([128, 2, 2])\n",
      "torch.Size([128, 2, 2])\n",
      "torch.Size([128, 2, 2])\n",
      "torch.Size([128, 2, 2])\n",
      "torch.Size([128, 2, 2])\n",
      "torch.Size([128, 2, 2])\n",
      "torch.Size([128, 2, 2])\n",
      "torch.Size([128, 2, 2])\n",
      "torch.Size([128, 2, 2])\n",
      "torch.Size([128, 2, 2])\n",
      "torch.Size([128, 2, 2])\n",
      "torch.Size([128, 2, 2])\n",
      "torch.Size([128, 2, 2])\n",
      "torch.Size([128, 2, 2])"
     ]
    },
    {
     "name": "stderr",
     "output_type": "stream",
     "text": [
      " 91%|███████████████████████████████████████████████████████████████████████▏      | 2275/2494 [00:29<00:02, 90.17it/s]"
     ]
    },
    {
     "name": "stdout",
     "output_type": "stream",
     "text": [
      "\n",
      "torch.Size([128, 2, 2])\n",
      "torch.Size([128, 2, 2])\n",
      "torch.Size([128, 2, 2])\n",
      "torch.Size([128, 2, 2])\n",
      "torch.Size([128, 2, 2])\n",
      "torch.Size([128, 2, 2])\n",
      "torch.Size([128, 2, 2])\n",
      "torch.Size([128, 2, 2])\n",
      "torch.Size([128, 2, 2])\n",
      "torch.Size([128, 2, 2])\n",
      "torch.Size([128, 2, 2])\n",
      "torch.Size([128, 2, 2])\n",
      "torch.Size([128, 2, 2])\n",
      "torch.Size([128, 2, 2])\n",
      "torch.Size([128, 2, 2])\n",
      "torch.Size([128, 2, 2])\n",
      "torch.Size([128, 2, 2])\n",
      "torch.Size([128, 2, 2])\n",
      "torch.Size([128, 2, 2])\n",
      "torch.Size([128, 2, 2])"
     ]
    },
    {
     "name": "stderr",
     "output_type": "stream",
     "text": [
      " 92%|███████████████████████████████████████████████████████████████████████▊      | 2297/2494 [00:29<00:01, 99.25it/s]"
     ]
    },
    {
     "name": "stdout",
     "output_type": "stream",
     "text": [
      "\n",
      "torch.Size([128, 2, 2])\n",
      "torch.Size([128, 2, 2])\n",
      "torch.Size([128, 2, 2])\n",
      "torch.Size([128, 2, 2])\n",
      "torch.Size([128, 2, 2])\n",
      "torch.Size([128, 2, 2])\n",
      "torch.Size([128, 2, 2])\n",
      "torch.Size([128, 2, 2])\n",
      "torch.Size([128, 2, 2])\n",
      "torch.Size([128, 2, 2])\n",
      "torch.Size([128, 2, 2])\n",
      "torch.Size([128, 2, 2])\n",
      "torch.Size([128, 2, 2])\n",
      "torch.Size([128, 2, 2])\n",
      "torch.Size([128, 2, 2])\n",
      "torch.Size([128, 2, 2])\n",
      "torch.Size([128, 2, 2])\n",
      "torch.Size([128, 2, 2])\n",
      "torch.Size([128, 2, 2])\n",
      "torch.Size([128, 2, 2])"
     ]
    },
    {
     "name": "stderr",
     "output_type": "stream",
     "text": [
      " 93%|████████████████████████████████████████████████████████████████████████▌     | 2319/2494 [00:30<00:01, 99.98it/s]"
     ]
    },
    {
     "name": "stdout",
     "output_type": "stream",
     "text": [
      "\n",
      "torch.Size([128, 2, 2])\n",
      "torch.Size([128, 2, 2])\n",
      "torch.Size([128, 2, 2])\n",
      "torch.Size([128, 2, 2])\n",
      "torch.Size([128, 2, 2])\n",
      "torch.Size([128, 2, 2])\n",
      "torch.Size([128, 2, 2])\n",
      "torch.Size([128, 2, 2])\n",
      "torch.Size([128, 2, 2])\n",
      "torch.Size([128, 2, 2])\n",
      "torch.Size([128, 2, 2])\n",
      "torch.Size([128, 2, 2])\n",
      "torch.Size([128, 2, 2])\n",
      "torch.Size([128, 2, 2])\n",
      "torch.Size([128, 2, 2])\n",
      "torch.Size([128, 2, 2])\n",
      "torch.Size([128, 2, 2])\n",
      "torch.Size([128, 2, 2])\n",
      "torch.Size([128, 2, 2])"
     ]
    },
    {
     "name": "stderr",
     "output_type": "stream",
     "text": [
      " 93%|███████████████████████████████████████████████████████████████████████▉     | 2331/2494 [00:30<00:01, 104.17it/s]"
     ]
    },
    {
     "name": "stdout",
     "output_type": "stream",
     "text": [
      "\n",
      "torch.Size([128, 2, 2])\n",
      "torch.Size([128, 2, 2])\n",
      "torch.Size([128, 2, 2])\n",
      "torch.Size([128, 2, 2])\n",
      "torch.Size([128, 2, 2])\n",
      "torch.Size([128, 2, 2])\n",
      "torch.Size([128, 2, 2])\n",
      "torch.Size([128, 2, 2])\n",
      "torch.Size([128, 2, 2])\n",
      "torch.Size([128, 2, 2])\n",
      "torch.Size([128, 2, 2])\n",
      "torch.Size([128, 2, 2])\n",
      "torch.Size([128, 2, 2])\n",
      "torch.Size([128, 2, 2])\n",
      "torch.Size([128, 2, 2])\n",
      "torch.Size([128, 2, 2])\n",
      "torch.Size([128, 2, 2])\n",
      "torch.Size([128, 2, 2])\n",
      "torch.Size([128, 2, 2])\n",
      "torch.Size([128, 2, 2])"
     ]
    },
    {
     "name": "stderr",
     "output_type": "stream",
     "text": [
      " 94%|████████████████████████████████████████████████████████████████████████▋    | 2353/2494 [00:30<00:01, 101.66it/s]"
     ]
    },
    {
     "name": "stdout",
     "output_type": "stream",
     "text": [
      "\n",
      "torch.Size([128, 2, 2])\n",
      "torch.Size([128, 2, 2])\n",
      "torch.Size([128, 2, 2])\n",
      "torch.Size([128, 2, 2])\n",
      "torch.Size([128, 2, 2])\n",
      "torch.Size([128, 2, 2])\n",
      "torch.Size([128, 2, 2])\n",
      "torch.Size([128, 2, 2])\n",
      "torch.Size([128, 2, 2])\n",
      "torch.Size([128, 2, 2])\n",
      "torch.Size([128, 2, 2])\n",
      "torch.Size([128, 2, 2])\n",
      "torch.Size([128, 2, 2])\n",
      "torch.Size([128, 2, 2])\n",
      "torch.Size([128, 2, 2])"
     ]
    },
    {
     "name": "stderr",
     "output_type": "stream",
     "text": [
      " 95%|█████████████████████████████████████████████████████████████████████████▉    | 2364/2494 [00:30<00:01, 85.80it/s]"
     ]
    },
    {
     "name": "stdout",
     "output_type": "stream",
     "text": [
      "\n",
      "torch.Size([128, 2, 2])\n",
      "torch.Size([128, 2, 2])\n",
      "torch.Size([128, 2, 2])\n",
      "torch.Size([128, 2, 2])\n",
      "torch.Size([128, 2, 2])\n",
      "torch.Size([128, 2, 2])\n",
      "torch.Size([128, 2, 2])\n",
      "torch.Size([128, 2, 2])\n",
      "torch.Size([128, 2, 2])\n",
      "torch.Size([128, 2, 2])\n",
      "torch.Size([128, 2, 2])\n",
      "torch.Size([128, 2, 2])\n",
      "torch.Size([128, 2, 2])\n",
      "torch.Size([128, 2, 2])\n",
      "torch.Size([128, 2, 2])"
     ]
    },
    {
     "name": "stderr",
     "output_type": "stream",
     "text": [
      " 96%|██████████████████████████████████████████████████████████████████████████▌   | 2384/2494 [00:30<00:01, 88.64it/s]"
     ]
    },
    {
     "name": "stdout",
     "output_type": "stream",
     "text": [
      "\n",
      "torch.Size([128, 2, 2])\n",
      "torch.Size([128, 2, 2])\n",
      "torch.Size([128, 2, 2])\n",
      "torch.Size([128, 2, 2])\n",
      "torch.Size([128, 2, 2])\n",
      "torch.Size([128, 2, 2])\n",
      "torch.Size([128, 2, 2])\n",
      "torch.Size([128, 2, 2])\n",
      "torch.Size([128, 2, 2])\n",
      "torch.Size([128, 2, 2])\n",
      "torch.Size([128, 2, 2])\n",
      "torch.Size([128, 2, 2])\n",
      "torch.Size([128, 2, 2])\n",
      "torch.Size([128, 2, 2])\n",
      "torch.Size([128, 2, 2])\n",
      "torch.Size([128, 2, 2])\n",
      "torch.Size([128, 2, 2])\n",
      "torch.Size([128, 2, 2])\n",
      "torch.Size([128, 2, 2])"
     ]
    },
    {
     "name": "stderr",
     "output_type": "stream",
     "text": [
      " 96%|███████████████████████████████████████████████████████████████████████████▏  | 2406/2494 [00:31<00:00, 95.16it/s]"
     ]
    },
    {
     "name": "stdout",
     "output_type": "stream",
     "text": [
      "\n",
      "torch.Size([128, 2, 2])\n",
      "torch.Size([128, 2, 2])\n",
      "torch.Size([128, 2, 2])\n",
      "torch.Size([128, 2, 2])\n",
      "torch.Size([128, 2, 2])\n",
      "torch.Size([128, 2, 2])\n",
      "torch.Size([128, 2, 2])\n",
      "torch.Size([128, 2, 2])\n",
      "torch.Size([128, 2, 2])\n",
      "torch.Size([128, 2, 2])\n",
      "torch.Size([128, 2, 2])\n",
      "torch.Size([128, 2, 2])\n",
      "torch.Size([128, 2, 2])\n",
      "torch.Size([128, 2, 2])\n",
      "torch.Size([128, 2, 2])\n",
      "torch.Size([128, 2, 2])\n",
      "torch.Size([128, 2, 2])\n",
      "torch.Size([128, 2, 2])"
     ]
    },
    {
     "name": "stderr",
     "output_type": "stream",
     "text": [
      " 97%|███████████████████████████████████████████████████████████████████████████▌  | 2417/2494 [00:31<00:00, 98.39it/s]"
     ]
    },
    {
     "name": "stdout",
     "output_type": "stream",
     "text": [
      "\n",
      "torch.Size([128, 2, 2])\n",
      "torch.Size([128, 2, 2])\n",
      "torch.Size([128, 2, 2])\n",
      "torch.Size([128, 2, 2])\n",
      "torch.Size([128, 2, 2])\n",
      "torch.Size([128, 2, 2])\n",
      "torch.Size([128, 2, 2])\n",
      "torch.Size([128, 2, 2])\n",
      "torch.Size([128, 2, 2])\n",
      "torch.Size([128, 2, 2])\n",
      "torch.Size([128, 2, 2])\n",
      "torch.Size([128, 2, 2])\n",
      "torch.Size([128, 2, 2])\n",
      "torch.Size([128, 2, 2])\n",
      "torch.Size([128, 2, 2])\n",
      "torch.Size([128, 2, 2])\n",
      "torch.Size([128, 2, 2])\n",
      "torch.Size([128, 2, 2])\n",
      "torch.Size([128, 2, 2])\n"
     ]
    },
    {
     "name": "stderr",
     "output_type": "stream",
     "text": [
      " 98%|███████████████████████████████████████████████████████████████████████████▎ | 2440/2494 [00:31<00:00, 102.52it/s]"
     ]
    },
    {
     "name": "stdout",
     "output_type": "stream",
     "text": [
      "torch.Size([128, 2, 2])\n",
      "torch.Size([128, 2, 2])\n",
      "torch.Size([128, 2, 2])\n",
      "torch.Size([128, 2, 2])\n",
      "torch.Size([128, 2, 2])\n",
      "torch.Size([128, 2, 2])\n",
      "torch.Size([128, 2, 2])\n",
      "torch.Size([128, 2, 2])\n",
      "torch.Size([128, 2, 2])\n",
      "torch.Size([128, 2, 2])\n",
      "torch.Size([128, 2, 2])\n",
      "torch.Size([128, 2, 2])\n",
      "torch.Size([128, 2, 2])\n",
      "torch.Size([128, 2, 2])\n",
      "torch.Size([128, 2, 2])\n",
      "torch.Size([128, 2, 2])\n",
      "torch.Size([128, 2, 2])\n",
      "torch.Size([128, 2, 2])\n",
      "torch.Size([128, 2, 2])\n",
      "torch.Size([128, 2, 2])"
     ]
    },
    {
     "name": "stderr",
     "output_type": "stream",
     "text": [
      " 99%|████████████████████████████████████████████████████████████████████████████ | 2463/2494 [00:31<00:00, 102.32it/s]"
     ]
    },
    {
     "name": "stdout",
     "output_type": "stream",
     "text": [
      "\n",
      "torch.Size([128, 2, 2])\n",
      "torch.Size([128, 2, 2])\n",
      "torch.Size([128, 2, 2])\n",
      "torch.Size([128, 2, 2])\n",
      "torch.Size([128, 2, 2])\n",
      "torch.Size([128, 2, 2])\n",
      "torch.Size([128, 2, 2])\n",
      "torch.Size([128, 2, 2])\n",
      "torch.Size([128, 2, 2])\n",
      "torch.Size([128, 2, 2])\n",
      "torch.Size([128, 2, 2])\n",
      "torch.Size([128, 2, 2])\n",
      "torch.Size([128, 2, 2])\n",
      "torch.Size([128, 2, 2])\n",
      "torch.Size([128, 2, 2])\n",
      "torch.Size([128, 2, 2])\n",
      "torch.Size([128, 2, 2])\n",
      "torch.Size([128, 2, 2])\n",
      "torch.Size([128, 2, 2])\n",
      "torch.Size([128, 2, 2])\n",
      "torch.Size([128, 2, 2])"
     ]
    },
    {
     "name": "stderr",
     "output_type": "stream",
     "text": [
      "100%|████████████████████████████████████████████████████████████████████████████▊| 2487/2494 [00:31<00:00, 109.00it/s]"
     ]
    },
    {
     "name": "stdout",
     "output_type": "stream",
     "text": [
      "\n",
      "torch.Size([128, 2, 2])\n",
      "torch.Size([128, 2, 2])\n",
      "torch.Size([128, 2, 2])\n",
      "torch.Size([128, 2, 2])\n",
      "torch.Size([128, 2, 2])\n",
      "torch.Size([128, 2, 2])\n",
      "torch.Size([128, 2, 2])\n",
      "torch.Size([128, 2, 2])\n",
      "torch.Size([128, 2, 2])\n",
      "torch.Size([128, 2, 2])\n",
      "torch.Size([128, 2, 2])\n",
      "torch.Size([128, 2, 2])\n",
      "torch.Size([128, 2, 2])\n",
      "torch.Size([128, 2, 2])\n",
      "torch.Size([128, 2, 2])\n",
      "torch.Size([128, 2, 2])\n",
      "torch.Size([128, 2, 2])\n",
      "torch.Size([128, 2, 2])\n",
      "torch.Size([128, 2, 2])\n",
      "torch.Size([128, 2, 2])"
     ]
    },
    {
     "name": "stderr",
     "output_type": "stream",
     "text": [
      "100%|██████████████████████████████████████████████████████████████████████████████| 2494/2494 [00:31<00:00, 78.04it/s]"
     ]
    },
    {
     "name": "stdout",
     "output_type": "stream",
     "text": [
      "\n",
      "torch.Size([128, 2, 2])\n",
      "torch.Size([128, 2, 2])\n",
      "torch.Size([128, 2, 2])\n",
      "torch.Size([128, 2, 2])\n",
      "torch.Size([128, 2, 2])\n",
      "Accuracy:  0.649\n"
     ]
    },
    {
     "name": "stderr",
     "output_type": "stream",
     "text": [
      "\n"
     ]
    }
   ],
   "source": [
    "correct = 0\n",
    "total = 0\n",
    "with torch.no_grad():\n",
    "    for i in tqdm(range(len(test_X))):\n",
    "        real_class = torch.argmax(test_y[i])\n",
    "        net_out = net(test_X[i].view(-1, 1, 50, 50))[0]  # returns a list, \n",
    "        predicted_class = torch.argmax(net_out)\n",
    "\n",
    "        if predicted_class == real_class:\n",
    "            correct += 1\n",
    "        total += 1\n",
    "print(\"Accuracy: \", round(correct/total, 3))"
   ]
  },
  {
   "cell_type": "code",
   "execution_count": null,
   "metadata": {},
   "outputs": [],
   "source": []
  }
 ],
 "metadata": {
  "kernelspec": {
   "display_name": "Python 3",
   "language": "python",
   "name": "python3"
  },
  "language_info": {
   "codemirror_mode": {
    "name": "ipython",
    "version": 3
   },
   "file_extension": ".py",
   "mimetype": "text/x-python",
   "name": "python",
   "nbconvert_exporter": "python",
   "pygments_lexer": "ipython3",
   "version": "3.8.1"
  }
 },
 "nbformat": 4,
 "nbformat_minor": 4
}
